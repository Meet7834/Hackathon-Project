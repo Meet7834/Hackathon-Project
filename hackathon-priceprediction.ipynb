{
 "cells": [
  {
   "cell_type": "code",
   "execution_count": 1,
   "id": "8233d43b",
   "metadata": {
    "_cell_guid": "42b80236-74d8-4cc9-81d7-342617816db9",
    "_uuid": "b8a47151-dbc3-4c7d-b8b5-105769a4765a",
    "collapsed": false,
    "execution": {
     "iopub.execute_input": "2022-08-22T19:56:22.325657Z",
     "iopub.status.busy": "2022-08-22T19:56:22.325166Z",
     "iopub.status.idle": "2022-08-22T19:56:22.350911Z",
     "shell.execute_reply": "2022-08-22T19:56:22.349226Z"
    },
    "jupyter": {
     "outputs_hidden": false
    },
    "papermill": {
     "duration": 0.038878,
     "end_time": "2022-08-22T19:56:22.353996",
     "exception": false,
     "start_time": "2022-08-22T19:56:22.315118",
     "status": "completed"
    },
    "tags": []
   },
   "outputs": [
    {
     "name": "stdout",
     "output_type": "stream",
     "text": [
      "/kaggle/input/d/meet7834/tomatoprice/README.md\n",
      "/kaggle/input/d/meet7834/tomatoprice/noTomatoDataset.csv\n",
      "/kaggle/input/d/meet7834/tomatoprice/ModifiedDatasetTomato.csv\n",
      "/kaggle/input/tomatodataset/README.md\n",
      "/kaggle/input/tomatodataset/noTomatoDataset.csv\n",
      "/kaggle/input/tomatodataset/ModifiedDatasetTomato.csv\n"
     ]
    }
   ],
   "source": [
    "# This Python 3 environment comes with many helpful analytics libraries installed\n",
    "# It is defined by the kaggle/python Docker image: https://github.com/kaggle/docker-python\n",
    "# For example, here's several helpful packages to load\n",
    "\n",
    "import numpy as np # linear algebra\n",
    "import pandas as pd # data processing, CSV file I/O (e.g. pd.read_csv)\n",
    "\n",
    "# Input data files are available in the read-only \"../input/\" directory\n",
    "# For example, running this (by clicking run or pressing Shift+Enter) will list all files under the input directory\n",
    "\n",
    "import os\n",
    "for dirname, _, filenames in os.walk('/kaggle/input'):\n",
    "    for filename in filenames:\n",
    "        print(os.path.join(dirname, filename))\n",
    "\n",
    "# You can write up to 20GB to the current directory (/kaggle/working/) that gets preserved as output when you create a version using \"Save & Run All\" \n",
    "# You can also write temporary files to /kaggle/temp/, but they won't be saved outside of the current session"
   ]
  },
  {
   "cell_type": "code",
   "execution_count": 2,
   "id": "11b8f256",
   "metadata": {
    "_cell_guid": "2f38eebc-fc4f-449b-9243-b2e999e8f2ef",
    "_uuid": "7ce8bac6-c230-43b7-ad8e-f955f56de205",
    "collapsed": false,
    "execution": {
     "iopub.execute_input": "2022-08-22T19:56:22.370453Z",
     "iopub.status.busy": "2022-08-22T19:56:22.370008Z",
     "iopub.status.idle": "2022-08-22T19:56:25.575502Z",
     "shell.execute_reply": "2022-08-22T19:56:25.573245Z"
    },
    "jupyter": {
     "outputs_hidden": false
    },
    "papermill": {
     "duration": 3.217626,
     "end_time": "2022-08-22T19:56:25.578870",
     "exception": false,
     "start_time": "2022-08-22T19:56:22.361244",
     "status": "completed"
    },
    "tags": []
   },
   "outputs": [
    {
     "data": {
      "text/html": [
       "<style type='text/css'>\n",
       ".datatable table.frame { margin-bottom: 0; }\n",
       ".datatable table.frame thead { border-bottom: none; }\n",
       ".datatable table.frame tr.coltypes td {  color: #FFFFFF;  line-height: 6px;  padding: 0 0.5em;}\n",
       ".datatable .bool    { background: #DDDD99; }\n",
       ".datatable .object  { background: #565656; }\n",
       ".datatable .int     { background: #5D9E5D; }\n",
       ".datatable .float   { background: #4040CC; }\n",
       ".datatable .str     { background: #CC4040; }\n",
       ".datatable .time    { background: #40CC40; }\n",
       ".datatable .row_index {  background: var(--jp-border-color3);  border-right: 1px solid var(--jp-border-color0);  color: var(--jp-ui-font-color3);  font-size: 9px;}\n",
       ".datatable .frame tbody td { text-align: left; }\n",
       ".datatable .frame tr.coltypes .row_index {  background: var(--jp-border-color0);}\n",
       ".datatable th:nth-child(2) { padding-left: 12px; }\n",
       ".datatable .hellipsis {  color: var(--jp-cell-editor-border-color);}\n",
       ".datatable .vellipsis {  background: var(--jp-layout-color0);  color: var(--jp-cell-editor-border-color);}\n",
       ".datatable .na {  color: var(--jp-cell-editor-border-color);  font-size: 80%;}\n",
       ".datatable .sp {  opacity: 0.25;}\n",
       ".datatable .footer { font-size: 9px; }\n",
       ".datatable .frame_dimensions {  background: var(--jp-border-color3);  border-top: 1px solid var(--jp-border-color0);  color: var(--jp-ui-font-color3);  display: inline-block;  opacity: 0.6;  padding: 1px 10px 1px 5px;}\n",
       "</style>\n"
      ],
      "text/plain": [
       "<IPython.core.display.HTML object>"
      ]
     },
     "metadata": {},
     "output_type": "display_data"
    }
   ],
   "source": [
    "import numpy as np\n",
    "import pandas as pd\n",
    "\n",
    "from sklearn.model_selection import train_test_split\n",
    "from sklearn.preprocessing import StandardScaler\n",
    "from sklearn.preprocessing import LabelEncoder\n",
    "from sklearn.linear_model import LinearRegression, Ridge, Lasso\n",
    "from sklearn.neighbors import KNeighborsRegressor\n",
    "from sklearn.neural_network import MLPRegressor\n",
    "from sklearn.svm import LinearSVR, SVR\n",
    "from sklearn.tree import DecisionTreeRegressor\n",
    "from sklearn.ensemble import RandomForestRegressor, GradientBoostingRegressor\n",
    "from xgboost import XGBRegressor\n",
    "from lightgbm import LGBMRegressor\n",
    "from catboost import CatBoostRegressor\n",
    "import seaborn as sns\n",
    "from sklearn. linear_model import Lasso\n",
    "\n",
    "import warnings\n",
    "warnings.filterwarnings(action='ignore')"
   ]
  },
  {
   "cell_type": "code",
   "execution_count": 3,
   "id": "e4e5f489",
   "metadata": {
    "_cell_guid": "e27cfc84-f3c3-4bbf-b866-057ccbda928e",
    "_uuid": "9d47bc12-33f5-4008-8189-795796f6f9c8",
    "collapsed": false,
    "execution": {
     "iopub.execute_input": "2022-08-22T19:56:25.595790Z",
     "iopub.status.busy": "2022-08-22T19:56:25.595016Z",
     "iopub.status.idle": "2022-08-22T19:56:25.638437Z",
     "shell.execute_reply": "2022-08-22T19:56:25.636970Z"
    },
    "jupyter": {
     "outputs_hidden": false
    },
    "papermill": {
     "duration": 0.055204,
     "end_time": "2022-08-22T19:56:25.641303",
     "exception": false,
     "start_time": "2022-08-22T19:56:25.586099",
     "status": "completed"
    },
    "tags": []
   },
   "outputs": [
    {
     "data": {
      "text/html": [
       "<div>\n",
       "<style scoped>\n",
       "    .dataframe tbody tr th:only-of-type {\n",
       "        vertical-align: middle;\n",
       "    }\n",
       "\n",
       "    .dataframe tbody tr th {\n",
       "        vertical-align: top;\n",
       "    }\n",
       "\n",
       "    .dataframe thead th {\n",
       "        text-align: right;\n",
       "    }\n",
       "</style>\n",
       "<table border=\"1\" class=\"dataframe\">\n",
       "  <thead>\n",
       "    <tr style=\"text-align: right;\">\n",
       "      <th></th>\n",
       "      <th>prod_id</th>\n",
       "      <th>avg price</th>\n",
       "      <th>prod_name</th>\n",
       "      <th>order date</th>\n",
       "      <th>pack sold</th>\n",
       "      <th>order</th>\n",
       "      <th>Season</th>\n",
       "      <th>Month</th>\n",
       "    </tr>\n",
       "  </thead>\n",
       "  <tbody>\n",
       "    <tr>\n",
       "      <th>0</th>\n",
       "      <td>996</td>\n",
       "      <td>4.645859</td>\n",
       "      <td>Tomato Desi 500 Gm</td>\n",
       "      <td>1</td>\n",
       "      <td>7687</td>\n",
       "      <td>6472</td>\n",
       "      <td>winter</td>\n",
       "      <td>march</td>\n",
       "    </tr>\n",
       "    <tr>\n",
       "      <th>1</th>\n",
       "      <td>996</td>\n",
       "      <td>10.222268</td>\n",
       "      <td>Tomato Desi 500 Gm</td>\n",
       "      <td>2</td>\n",
       "      <td>2974</td>\n",
       "      <td>2434</td>\n",
       "      <td>winter</td>\n",
       "      <td>march</td>\n",
       "    </tr>\n",
       "    <tr>\n",
       "      <th>2</th>\n",
       "      <td>996</td>\n",
       "      <td>16.719044</td>\n",
       "      <td>Tomato Desi 500 Gm</td>\n",
       "      <td>3</td>\n",
       "      <td>1568</td>\n",
       "      <td>1171</td>\n",
       "      <td>winter</td>\n",
       "      <td>march</td>\n",
       "    </tr>\n",
       "    <tr>\n",
       "      <th>3</th>\n",
       "      <td>996</td>\n",
       "      <td>16.853556</td>\n",
       "      <td>Tomato Desi 500 Gm</td>\n",
       "      <td>4</td>\n",
       "      <td>1700</td>\n",
       "      <td>1195</td>\n",
       "      <td>winter</td>\n",
       "      <td>march</td>\n",
       "    </tr>\n",
       "    <tr>\n",
       "      <th>4</th>\n",
       "      <td>996</td>\n",
       "      <td>16.427644</td>\n",
       "      <td>Tomato Desi 500 Gm</td>\n",
       "      <td>5</td>\n",
       "      <td>1549</td>\n",
       "      <td>1078</td>\n",
       "      <td>winter</td>\n",
       "      <td>march</td>\n",
       "    </tr>\n",
       "    <tr>\n",
       "      <th>...</th>\n",
       "      <td>...</td>\n",
       "      <td>...</td>\n",
       "      <td>...</td>\n",
       "      <td>...</td>\n",
       "      <td>...</td>\n",
       "      <td>...</td>\n",
       "      <td>...</td>\n",
       "      <td>...</td>\n",
       "    </tr>\n",
       "    <tr>\n",
       "      <th>154</th>\n",
       "      <td>996</td>\n",
       "      <td>8.286688</td>\n",
       "      <td>Tomato (Desi)</td>\n",
       "      <td>18</td>\n",
       "      <td>7672</td>\n",
       "      <td>6863</td>\n",
       "      <td>monsoon</td>\n",
       "      <td>august</td>\n",
       "    </tr>\n",
       "    <tr>\n",
       "      <th>155</th>\n",
       "      <td>996</td>\n",
       "      <td>8.215190</td>\n",
       "      <td>Tomato (Desi)</td>\n",
       "      <td>19</td>\n",
       "      <td>7054</td>\n",
       "      <td>6306</td>\n",
       "      <td>monsoon</td>\n",
       "      <td>august</td>\n",
       "    </tr>\n",
       "    <tr>\n",
       "      <th>156</th>\n",
       "      <td>996</td>\n",
       "      <td>10.790909</td>\n",
       "      <td>Tomato (Desi)</td>\n",
       "      <td>20</td>\n",
       "      <td>1163</td>\n",
       "      <td>962</td>\n",
       "      <td>monsoon</td>\n",
       "      <td>august</td>\n",
       "    </tr>\n",
       "    <tr>\n",
       "      <th>157</th>\n",
       "      <td>996</td>\n",
       "      <td>11.784903</td>\n",
       "      <td>Tomato (Desi)</td>\n",
       "      <td>21</td>\n",
       "      <td>1837</td>\n",
       "      <td>1464</td>\n",
       "      <td>monsoon</td>\n",
       "      <td>august</td>\n",
       "    </tr>\n",
       "    <tr>\n",
       "      <th>158</th>\n",
       "      <td>996</td>\n",
       "      <td>11.569352</td>\n",
       "      <td>Tomato (Desi)</td>\n",
       "      <td>22</td>\n",
       "      <td>1947</td>\n",
       "      <td>1609</td>\n",
       "      <td>monsoon</td>\n",
       "      <td>august</td>\n",
       "    </tr>\n",
       "  </tbody>\n",
       "</table>\n",
       "<p>159 rows × 8 columns</p>\n",
       "</div>"
      ],
      "text/plain": [
       "     prod_id  avg price           prod_name  order date  pack sold  order  \\\n",
       "0        996   4.645859  Tomato Desi 500 Gm           1       7687   6472   \n",
       "1        996  10.222268  Tomato Desi 500 Gm           2       2974   2434   \n",
       "2        996  16.719044  Tomato Desi 500 Gm           3       1568   1171   \n",
       "3        996  16.853556  Tomato Desi 500 Gm           4       1700   1195   \n",
       "4        996  16.427644  Tomato Desi 500 Gm           5       1549   1078   \n",
       "..       ...        ...                 ...         ...        ...    ...   \n",
       "154      996   8.286688       Tomato (Desi)          18       7672   6863   \n",
       "155      996   8.215190       Tomato (Desi)          19       7054   6306   \n",
       "156      996  10.790909       Tomato (Desi)          20       1163    962   \n",
       "157      996  11.784903       Tomato (Desi)          21       1837   1464   \n",
       "158      996  11.569352       Tomato (Desi)          22       1947   1609   \n",
       "\n",
       "      Season   Month  \n",
       "0     winter   march  \n",
       "1     winter   march  \n",
       "2     winter   march  \n",
       "3     winter   march  \n",
       "4     winter   march  \n",
       "..       ...     ...  \n",
       "154  monsoon  august  \n",
       "155  monsoon  august  \n",
       "156  monsoon  august  \n",
       "157  monsoon  august  \n",
       "158  monsoon  august  \n",
       "\n",
       "[159 rows x 8 columns]"
      ]
     },
     "execution_count": 3,
     "metadata": {},
     "output_type": "execute_result"
    }
   ],
   "source": [
    "import pandas as pd\n",
    "data=pd.read_csv('../input/tomatodataset/ModifiedDatasetTomato.csv')\n",
    "data"
   ]
  },
  {
   "cell_type": "code",
   "execution_count": 4,
   "id": "39e6c4f3",
   "metadata": {
    "_cell_guid": "3ae41b7e-5029-4e23-8980-ef96dfe91b2d",
    "_uuid": "8575fc8e-8f47-429c-a401-22f24824c876",
    "collapsed": false,
    "execution": {
     "iopub.execute_input": "2022-08-22T19:56:25.658914Z",
     "iopub.status.busy": "2022-08-22T19:56:25.658459Z",
     "iopub.status.idle": "2022-08-22T19:56:25.683110Z",
     "shell.execute_reply": "2022-08-22T19:56:25.681983Z"
    },
    "jupyter": {
     "outputs_hidden": false
    },
    "papermill": {
     "duration": 0.037081,
     "end_time": "2022-08-22T19:56:25.685810",
     "exception": false,
     "start_time": "2022-08-22T19:56:25.648729",
     "status": "completed"
    },
    "tags": []
   },
   "outputs": [
    {
     "data": {
      "text/html": [
       "<div>\n",
       "<style scoped>\n",
       "    .dataframe tbody tr th:only-of-type {\n",
       "        vertical-align: middle;\n",
       "    }\n",
       "\n",
       "    .dataframe tbody tr th {\n",
       "        vertical-align: top;\n",
       "    }\n",
       "\n",
       "    .dataframe thead th {\n",
       "        text-align: right;\n",
       "    }\n",
       "</style>\n",
       "<table border=\"1\" class=\"dataframe\">\n",
       "  <thead>\n",
       "    <tr style=\"text-align: right;\">\n",
       "      <th></th>\n",
       "      <th>prod_id</th>\n",
       "      <th>avg price</th>\n",
       "      <th>prod_name</th>\n",
       "      <th>order date</th>\n",
       "      <th>pack sold</th>\n",
       "      <th>order</th>\n",
       "      <th>Season</th>\n",
       "      <th>Month</th>\n",
       "    </tr>\n",
       "  </thead>\n",
       "  <tbody>\n",
       "    <tr>\n",
       "      <th>0</th>\n",
       "      <td>996</td>\n",
       "      <td>4.645859</td>\n",
       "      <td>Tomato Desi 500 Gm</td>\n",
       "      <td>1</td>\n",
       "      <td>7687</td>\n",
       "      <td>6472</td>\n",
       "      <td>1</td>\n",
       "      <td>3</td>\n",
       "    </tr>\n",
       "    <tr>\n",
       "      <th>1</th>\n",
       "      <td>996</td>\n",
       "      <td>10.222268</td>\n",
       "      <td>Tomato Desi 500 Gm</td>\n",
       "      <td>2</td>\n",
       "      <td>2974</td>\n",
       "      <td>2434</td>\n",
       "      <td>1</td>\n",
       "      <td>3</td>\n",
       "    </tr>\n",
       "    <tr>\n",
       "      <th>2</th>\n",
       "      <td>996</td>\n",
       "      <td>16.719044</td>\n",
       "      <td>Tomato Desi 500 Gm</td>\n",
       "      <td>3</td>\n",
       "      <td>1568</td>\n",
       "      <td>1171</td>\n",
       "      <td>1</td>\n",
       "      <td>3</td>\n",
       "    </tr>\n",
       "    <tr>\n",
       "      <th>3</th>\n",
       "      <td>996</td>\n",
       "      <td>16.853556</td>\n",
       "      <td>Tomato Desi 500 Gm</td>\n",
       "      <td>4</td>\n",
       "      <td>1700</td>\n",
       "      <td>1195</td>\n",
       "      <td>1</td>\n",
       "      <td>3</td>\n",
       "    </tr>\n",
       "    <tr>\n",
       "      <th>4</th>\n",
       "      <td>996</td>\n",
       "      <td>16.427644</td>\n",
       "      <td>Tomato Desi 500 Gm</td>\n",
       "      <td>5</td>\n",
       "      <td>1549</td>\n",
       "      <td>1078</td>\n",
       "      <td>1</td>\n",
       "      <td>3</td>\n",
       "    </tr>\n",
       "    <tr>\n",
       "      <th>...</th>\n",
       "      <td>...</td>\n",
       "      <td>...</td>\n",
       "      <td>...</td>\n",
       "      <td>...</td>\n",
       "      <td>...</td>\n",
       "      <td>...</td>\n",
       "      <td>...</td>\n",
       "      <td>...</td>\n",
       "    </tr>\n",
       "    <tr>\n",
       "      <th>154</th>\n",
       "      <td>996</td>\n",
       "      <td>8.286688</td>\n",
       "      <td>Tomato (Desi)</td>\n",
       "      <td>18</td>\n",
       "      <td>7672</td>\n",
       "      <td>6863</td>\n",
       "      <td>3</td>\n",
       "      <td>8</td>\n",
       "    </tr>\n",
       "    <tr>\n",
       "      <th>155</th>\n",
       "      <td>996</td>\n",
       "      <td>8.215190</td>\n",
       "      <td>Tomato (Desi)</td>\n",
       "      <td>19</td>\n",
       "      <td>7054</td>\n",
       "      <td>6306</td>\n",
       "      <td>3</td>\n",
       "      <td>8</td>\n",
       "    </tr>\n",
       "    <tr>\n",
       "      <th>156</th>\n",
       "      <td>996</td>\n",
       "      <td>10.790909</td>\n",
       "      <td>Tomato (Desi)</td>\n",
       "      <td>20</td>\n",
       "      <td>1163</td>\n",
       "      <td>962</td>\n",
       "      <td>3</td>\n",
       "      <td>8</td>\n",
       "    </tr>\n",
       "    <tr>\n",
       "      <th>157</th>\n",
       "      <td>996</td>\n",
       "      <td>11.784903</td>\n",
       "      <td>Tomato (Desi)</td>\n",
       "      <td>21</td>\n",
       "      <td>1837</td>\n",
       "      <td>1464</td>\n",
       "      <td>3</td>\n",
       "      <td>8</td>\n",
       "    </tr>\n",
       "    <tr>\n",
       "      <th>158</th>\n",
       "      <td>996</td>\n",
       "      <td>11.569352</td>\n",
       "      <td>Tomato (Desi)</td>\n",
       "      <td>22</td>\n",
       "      <td>1947</td>\n",
       "      <td>1609</td>\n",
       "      <td>3</td>\n",
       "      <td>8</td>\n",
       "    </tr>\n",
       "  </tbody>\n",
       "</table>\n",
       "<p>159 rows × 8 columns</p>\n",
       "</div>"
      ],
      "text/plain": [
       "     prod_id  avg price           prod_name  order date  pack sold  order  \\\n",
       "0        996   4.645859  Tomato Desi 500 Gm           1       7687   6472   \n",
       "1        996  10.222268  Tomato Desi 500 Gm           2       2974   2434   \n",
       "2        996  16.719044  Tomato Desi 500 Gm           3       1568   1171   \n",
       "3        996  16.853556  Tomato Desi 500 Gm           4       1700   1195   \n",
       "4        996  16.427644  Tomato Desi 500 Gm           5       1549   1078   \n",
       "..       ...        ...                 ...         ...        ...    ...   \n",
       "154      996   8.286688       Tomato (Desi)          18       7672   6863   \n",
       "155      996   8.215190       Tomato (Desi)          19       7054   6306   \n",
       "156      996  10.790909       Tomato (Desi)          20       1163    962   \n",
       "157      996  11.784903       Tomato (Desi)          21       1837   1464   \n",
       "158      996  11.569352       Tomato (Desi)          22       1947   1609   \n",
       "\n",
       "     Season  Month  \n",
       "0         1      3  \n",
       "1         1      3  \n",
       "2         1      3  \n",
       "3         1      3  \n",
       "4         1      3  \n",
       "..      ...    ...  \n",
       "154       3      8  \n",
       "155       3      8  \n",
       "156       3      8  \n",
       "157       3      8  \n",
       "158       3      8  \n",
       "\n",
       "[159 rows x 8 columns]"
      ]
     },
     "execution_count": 4,
     "metadata": {},
     "output_type": "execute_result"
    }
   ],
   "source": [
    "#encoding season column\n",
    "data.replace({'Season':{'winter':1,'summer':2,'monsoon':3}},inplace=True)\n",
    "data.replace({'Month':{ \n",
    "        'march': 3,\n",
    "        'april': 4,\n",
    "        'may': 5,\n",
    "        'june': 6,\n",
    "        'july': 7,\n",
    "        'august': 8}},inplace=True)\n",
    "              \n",
    "data"
   ]
  },
  {
   "cell_type": "code",
   "execution_count": 5,
   "id": "ffbdd997",
   "metadata": {
    "_cell_guid": "a516f974-9b20-4479-bc10-88912d17afc3",
    "_uuid": "ad82865d-917e-476b-ba17-d2f25be6ac49",
    "collapsed": false,
    "execution": {
     "iopub.execute_input": "2022-08-22T19:56:25.703737Z",
     "iopub.status.busy": "2022-08-22T19:56:25.703263Z",
     "iopub.status.idle": "2022-08-22T19:56:25.728247Z",
     "shell.execute_reply": "2022-08-22T19:56:25.726891Z"
    },
    "jupyter": {
     "outputs_hidden": false
    },
    "papermill": {
     "duration": 0.037204,
     "end_time": "2022-08-22T19:56:25.730865",
     "exception": false,
     "start_time": "2022-08-22T19:56:25.693661",
     "status": "completed"
    },
    "tags": []
   },
   "outputs": [
    {
     "data": {
      "text/html": [
       "<div>\n",
       "<style scoped>\n",
       "    .dataframe tbody tr th:only-of-type {\n",
       "        vertical-align: middle;\n",
       "    }\n",
       "\n",
       "    .dataframe tbody tr th {\n",
       "        vertical-align: top;\n",
       "    }\n",
       "\n",
       "    .dataframe thead th {\n",
       "        text-align: right;\n",
       "    }\n",
       "</style>\n",
       "<table border=\"1\" class=\"dataframe\">\n",
       "  <thead>\n",
       "    <tr style=\"text-align: right;\">\n",
       "      <th></th>\n",
       "      <th>avg price</th>\n",
       "      <th>order date</th>\n",
       "      <th>Season</th>\n",
       "      <th>Month</th>\n",
       "    </tr>\n",
       "  </thead>\n",
       "  <tbody>\n",
       "    <tr>\n",
       "      <th>0</th>\n",
       "      <td>4.645859</td>\n",
       "      <td>1</td>\n",
       "      <td>1</td>\n",
       "      <td>3</td>\n",
       "    </tr>\n",
       "    <tr>\n",
       "      <th>1</th>\n",
       "      <td>10.222268</td>\n",
       "      <td>2</td>\n",
       "      <td>1</td>\n",
       "      <td>3</td>\n",
       "    </tr>\n",
       "    <tr>\n",
       "      <th>2</th>\n",
       "      <td>16.719044</td>\n",
       "      <td>3</td>\n",
       "      <td>1</td>\n",
       "      <td>3</td>\n",
       "    </tr>\n",
       "    <tr>\n",
       "      <th>3</th>\n",
       "      <td>16.853556</td>\n",
       "      <td>4</td>\n",
       "      <td>1</td>\n",
       "      <td>3</td>\n",
       "    </tr>\n",
       "    <tr>\n",
       "      <th>4</th>\n",
       "      <td>16.427644</td>\n",
       "      <td>5</td>\n",
       "      <td>1</td>\n",
       "      <td>3</td>\n",
       "    </tr>\n",
       "    <tr>\n",
       "      <th>...</th>\n",
       "      <td>...</td>\n",
       "      <td>...</td>\n",
       "      <td>...</td>\n",
       "      <td>...</td>\n",
       "    </tr>\n",
       "    <tr>\n",
       "      <th>154</th>\n",
       "      <td>8.286688</td>\n",
       "      <td>18</td>\n",
       "      <td>3</td>\n",
       "      <td>8</td>\n",
       "    </tr>\n",
       "    <tr>\n",
       "      <th>155</th>\n",
       "      <td>8.215190</td>\n",
       "      <td>19</td>\n",
       "      <td>3</td>\n",
       "      <td>8</td>\n",
       "    </tr>\n",
       "    <tr>\n",
       "      <th>156</th>\n",
       "      <td>10.790909</td>\n",
       "      <td>20</td>\n",
       "      <td>3</td>\n",
       "      <td>8</td>\n",
       "    </tr>\n",
       "    <tr>\n",
       "      <th>157</th>\n",
       "      <td>11.784903</td>\n",
       "      <td>21</td>\n",
       "      <td>3</td>\n",
       "      <td>8</td>\n",
       "    </tr>\n",
       "    <tr>\n",
       "      <th>158</th>\n",
       "      <td>11.569352</td>\n",
       "      <td>22</td>\n",
       "      <td>3</td>\n",
       "      <td>8</td>\n",
       "    </tr>\n",
       "  </tbody>\n",
       "</table>\n",
       "<p>159 rows × 4 columns</p>\n",
       "</div>"
      ],
      "text/plain": [
       "     avg price  order date  Season  Month\n",
       "0     4.645859           1       1      3\n",
       "1    10.222268           2       1      3\n",
       "2    16.719044           3       1      3\n",
       "3    16.853556           4       1      3\n",
       "4    16.427644           5       1      3\n",
       "..         ...         ...     ...    ...\n",
       "154   8.286688          18       3      8\n",
       "155   8.215190          19       3      8\n",
       "156  10.790909          20       3      8\n",
       "157  11.784903          21       3      8\n",
       "158  11.569352          22       3      8\n",
       "\n",
       "[159 rows x 4 columns]"
      ]
     },
     "execution_count": 5,
     "metadata": {},
     "output_type": "execute_result"
    }
   ],
   "source": [
    "#splitting dataset into X and y\n",
    "y = data['avg price']\n",
    "X = data.drop(['avg price','prod_name'], axis=1)\n",
    "#for demand\n",
    "z = data['order']\n",
    "w = data.drop(['order', 'pack sold' , 'prod_id', 'prod_name'], axis =1)\n",
    "w"
   ]
  },
  {
   "cell_type": "code",
   "execution_count": 6,
   "id": "296ac09d",
   "metadata": {
    "_cell_guid": "bd67d7a8-6d50-4fdf-9886-0e5030aa01c0",
    "_uuid": "160900f3-290e-44e0-be56-4cf43c9c8236",
    "collapsed": false,
    "execution": {
     "iopub.execute_input": "2022-08-22T19:56:25.749011Z",
     "iopub.status.busy": "2022-08-22T19:56:25.748445Z",
     "iopub.status.idle": "2022-08-22T19:56:25.759276Z",
     "shell.execute_reply": "2022-08-22T19:56:25.758064Z"
    },
    "jupyter": {
     "outputs_hidden": false
    },
    "papermill": {
     "duration": 0.023316,
     "end_time": "2022-08-22T19:56:25.762155",
     "exception": false,
     "start_time": "2022-08-22T19:56:25.738839",
     "status": "completed"
    },
    "tags": []
   },
   "outputs": [],
   "source": [
    "#splitting into testing and trainning\n",
    "X_train,X_test,y_train,y_test=train_test_split(X,y,train_size=0.7,shuffle=False,random_state=1)\n",
    "X_train,X_test,y_train,y_test=train_test_split(X,y,train_size=0.7,shuffle=False,random_state=1)\n",
    "w_train,w_test,z_train,z_test=train_test_split(w,z,train_size=0.7,shuffle=False,random_state=1)\n",
    "w_train,w_test,z_train,z_test=train_test_split(w,z,train_size=0.7,shuffle=False,random_state=1)"
   ]
  },
  {
   "cell_type": "code",
   "execution_count": 7,
   "id": "5901018d",
   "metadata": {
    "execution": {
     "iopub.execute_input": "2022-08-22T19:56:25.779757Z",
     "iopub.status.busy": "2022-08-22T19:56:25.779316Z",
     "iopub.status.idle": "2022-08-22T19:56:25.785642Z",
     "shell.execute_reply": "2022-08-22T19:56:25.784444Z"
    },
    "papermill": {
     "duration": 0.017969,
     "end_time": "2022-08-22T19:56:25.788145",
     "exception": false,
     "start_time": "2022-08-22T19:56:25.770176",
     "status": "completed"
    },
    "tags": []
   },
   "outputs": [],
   "source": [
    "# models = {\n",
    "#     \"                     Linear Regression\": LinearRegression(),\n",
    "#     \" Linear Regression (L2 Regularization)\": Ridge(),\n",
    "#     \" Linear Regression (L1 Regularization)\": Lasso(),\n",
    "#     \"                   K-Nearest Neighbors\": KNeighborsRegressor(),\n",
    "#     \"                        Neural Network\": MLPRegressor(),\n",
    "#     \"Support Vector Machine (Linear Kernel)\": LinearSVR(),\n",
    "#     \"   Support Vector Machine (RBF Kernel)\": SVR(),\n",
    "#     \"                         Decision Tree\": DecisionTreeRegressor(),\n",
    "#     \"                         Random Forest\": RandomForestRegressor(),\n",
    "#     \"                     Gradient Boosting\": GradientBoostingRegressor(),\n",
    "#     \"                               XGBoost\": XGBRegressor(),\n",
    "#     \"                              LightGBM\": LGBMRegressor(),\n",
    "#     \"                              CatBoost\": CatBoostRegressor(verbose=0)\n",
    "# }\n",
    "\n",
    "# for name, model in models.items():\n",
    "#     model.fit(X_train, y_train)\n",
    "#     print(name + \" trained.\")\n",
    "\n",
    "# for name, model in models.items():\n",
    "#     print(name + \" R^2 Score: {:.5f}\".format(model.score(X_test, y_test)))"
   ]
  },
  {
   "cell_type": "code",
   "execution_count": 8,
   "id": "fd20b677",
   "metadata": {
    "_cell_guid": "e09c50b4-873d-4c88-b06c-bed90cfadcc9",
    "_uuid": "8c7031f8-ec0a-4453-acfc-53e02455736e",
    "collapsed": false,
    "execution": {
     "iopub.execute_input": "2022-08-22T19:56:25.806091Z",
     "iopub.status.busy": "2022-08-22T19:56:25.805116Z",
     "iopub.status.idle": "2022-08-22T19:56:25.820382Z",
     "shell.execute_reply": "2022-08-22T19:56:25.819243Z"
    },
    "jupyter": {
     "outputs_hidden": false
    },
    "papermill": {
     "duration": 0.026659,
     "end_time": "2022-08-22T19:56:25.822675",
     "exception": false,
     "start_time": "2022-08-22T19:56:25.796016",
     "status": "completed"
    },
    "tags": []
   },
   "outputs": [
    {
     "data": {
      "text/plain": [
       "KNeighborsRegressor()"
      ]
     },
     "execution_count": 8,
     "metadata": {},
     "output_type": "execute_result"
    }
   ],
   "source": [
    "#model selection linear regression\n",
    "price_reg_model= KNeighborsRegressor()\n",
    "price_reg_model.fit(X_train,y_train)\n",
    "\n",
    "order_reg_model = KNeighborsRegressor()\n",
    "order_reg_model.fit(w_train,z_train)"
   ]
  },
  {
   "cell_type": "code",
   "execution_count": 9,
   "id": "f5fc0148",
   "metadata": {
    "_cell_guid": "b4b00a0f-1f0d-4621-8621-bd79e92a288f",
    "_uuid": "161be173-c061-4140-9dbf-cd4ca7753426",
    "collapsed": false,
    "execution": {
     "iopub.execute_input": "2022-08-22T19:56:25.840534Z",
     "iopub.status.busy": "2022-08-22T19:56:25.840122Z",
     "iopub.status.idle": "2022-08-22T19:56:25.852492Z",
     "shell.execute_reply": "2022-08-22T19:56:25.851225Z"
    },
    "jupyter": {
     "outputs_hidden": false
    },
    "papermill": {
     "duration": 0.024326,
     "end_time": "2022-08-22T19:56:25.855041",
     "exception": false,
     "start_time": "2022-08-22T19:56:25.830715",
     "status": "completed"
    },
    "tags": []
   },
   "outputs": [
    {
     "data": {
      "text/plain": [
       "array([ 9.5410234, 14.9504992, 15.0146604, 18.1790602, 18.4774248,\n",
       "       19.1715862, 19.2111626, 18.8515374, 16.2609434, 16.8586   ,\n",
       "       15.7882162, 15.9243098, 17.5274486, 16.3992592, 17.687064 ,\n",
       "       16.399737 , 15.6479152, 17.6591102, 16.6575064, 16.7089374,\n",
       "       16.7137576, 15.3955574, 15.3689682, 17.3978002, 17.6591102,\n",
       "       19.8905432, 11.3227094, 15.3689682, 19.0179234, 17.9274486,\n",
       "       17.3978002, 17.6591102, 16.9969976, 16.7992592, 17.687064 ,\n",
       "       17.6591102, 16.7992592, 19.1715862, 27.6821174, 18.9596102,\n",
       "       17.5274486, 18.1596102, 19.1715862, 19.1715862, 17.9274486,\n",
       "       18.5869062, 17.6591102, 19.1715862, 20.8903334, 20.287064 ,\n",
       "       25.9616634, 16.7549684, 19.8905432, 17.0005974, 27.1080796,\n",
       "       27.1080796, 16.7137576, 20.1237176, 15.7882162, 18.1949488,\n",
       "       18.9371556, 18.2275216, 18.1855636, 18.1608136, 18.4774248,\n",
       "       13.49948  , 12.77894  , 12.77894  , 14.3053868, 18.1855636,\n",
       "       15.7882162, 18.1949488, 14.2907504, 14.2907504, 14.2907504,\n",
       "       13.878037 , 14.6257944, 14.6257944, 21.7492092, 14.3053868,\n",
       "       11.3227094, 13.878037 , 21.7492092, 18.2974796, 25.748962 ,\n",
       "       29.1165022, 18.4774248, 25.6162712, 21.5674098, 27.9463534,\n",
       "       24.646621 , 25.9418954, 28.651277 , 31.2932422, 25.5134778,\n",
       "       27.9140178, 20.1237176, 31.933256 , 27.1080796, 28.0209298,\n",
       "       27.1080796, 25.614186 , 27.9140178, 26.1685344, 28.1165022,\n",
       "       30.997127 , 30.2350258, 28.855841 ,  9.5410234, 11.3227094,\n",
       "        9.5410234])"
      ]
     },
     "execution_count": 9,
     "metadata": {},
     "output_type": "execute_result"
    }
   ],
   "source": [
    "#Training data prediction\n",
    "price_data_pred= price_reg_model.predict(X_train)\n",
    "price_data_pred"
   ]
  },
  {
   "cell_type": "code",
   "execution_count": 10,
   "id": "99cd5292",
   "metadata": {
    "execution": {
     "iopub.execute_input": "2022-08-22T19:56:25.873289Z",
     "iopub.status.busy": "2022-08-22T19:56:25.872902Z",
     "iopub.status.idle": "2022-08-22T19:56:25.884886Z",
     "shell.execute_reply": "2022-08-22T19:56:25.883620Z"
    },
    "papermill": {
     "duration": 0.023937,
     "end_time": "2022-08-22T19:56:25.887257",
     "exception": false,
     "start_time": "2022-08-22T19:56:25.863320",
     "status": "completed"
    },
    "tags": []
   },
   "outputs": [
    {
     "data": {
      "text/plain": [
       "array([4657.2, 5027. ,  892. ,  987.6,  939.8,  977. ,  932.8,  957. ,\n",
       "       2062.8, 1045.2, 1209. ,  930.6,  909.4,  849. ,  786.6,  759.6,\n",
       "       1111.4, 1091.2, 1118.6, 1217.8,  981.6, 1584.6, 1550.2,  505.2,\n",
       "        505.2,  585. , 2386.6,  787.6,  844.4,  844.4,  685.4,  886.4,\n",
       "        892. ,  932.4, 1059.4, 1082.6,  997.8,  848. ,  848. ,  832.4,\n",
       "        913.4,  932.4, 1009. ,  991. ,  975.2,  872.8,  778.8,  791.4,\n",
       "        824.8,  999. , 1305.8, 1022.6,  505.2,  931.4,  682. ,  787.6,\n",
       "        844.4,  818.2,  818.2,  913.6,  987.6, 1138.8, 1202.4, 1118.4,\n",
       "        997.8, 2319.6, 2319.6, 2319.6, 1591. , 1009. , 1124.6,  975.2,\n",
       "       1472.6, 1783.8, 1830.4, 1806.2, 2144.2, 1836.4, 1305.8, 1201. ,\n",
       "       1843.2, 1696.8, 1116.8, 1116.8, 1116.8, 1008.6, 1008.6, 1008.6,\n",
       "        932.2,  932.2,  932.2,  887. ,  836.2,  836.2,  654.2,  654.2,\n",
       "        654.2,  598.4,  598.4,  615. ,  615. ,  665.2,  763. ,  763. ,\n",
       "        780.8,  780.8,  783.2,  783.2, 3971.6, 3779. , 4233.2])"
      ]
     },
     "execution_count": 10,
     "metadata": {},
     "output_type": "execute_result"
    }
   ],
   "source": [
    "order_data_pred= order_reg_model.predict(w_train)\n",
    "order_data_pred"
   ]
  },
  {
   "cell_type": "code",
   "execution_count": 11,
   "id": "74f2fa31",
   "metadata": {
    "_cell_guid": "38b75834-827c-4011-9229-038bd39b9087",
    "_uuid": "ff293708-5b8f-45ae-ba4a-0659874612e6",
    "collapsed": false,
    "execution": {
     "iopub.execute_input": "2022-08-22T19:56:25.905547Z",
     "iopub.status.busy": "2022-08-22T19:56:25.905077Z",
     "iopub.status.idle": "2022-08-22T19:56:25.911834Z",
     "shell.execute_reply": "2022-08-22T19:56:25.910719Z"
    },
    "jupyter": {
     "outputs_hidden": false
    },
    "papermill": {
     "duration": 0.01946,
     "end_time": "2022-08-22T19:56:25.914854",
     "exception": false,
     "start_time": "2022-08-22T19:56:25.895394",
     "status": "completed"
    },
    "tags": []
   },
   "outputs": [
    {
     "name": "stdout",
     "output_type": "stream",
     "text": [
      "0.7371572708641314\n"
     ]
    }
   ],
   "source": [
    "from sklearn import metrics\n",
    "error_score_price = metrics.r2_score(y_train,price_data_pred )\n",
    "print (error_score_price)"
   ]
  },
  {
   "cell_type": "code",
   "execution_count": 12,
   "id": "48970523",
   "metadata": {
    "_cell_guid": "8fbc017e-faf1-4b5c-b891-be352e6eba6c",
    "_uuid": "622b05a7-1d63-4ad6-903b-6d78dd2510fa",
    "collapsed": false,
    "execution": {
     "iopub.execute_input": "2022-08-22T19:56:25.932966Z",
     "iopub.status.busy": "2022-08-22T19:56:25.932354Z",
     "iopub.status.idle": "2022-08-22T19:56:25.940011Z",
     "shell.execute_reply": "2022-08-22T19:56:25.938461Z"
    },
    "jupyter": {
     "outputs_hidden": false
    },
    "papermill": {
     "duration": 0.01974,
     "end_time": "2022-08-22T19:56:25.942652",
     "exception": false,
     "start_time": "2022-08-22T19:56:25.922912",
     "status": "completed"
    },
    "tags": []
   },
   "outputs": [
    {
     "name": "stdout",
     "output_type": "stream",
     "text": [
      "0.7318994481575183\n"
     ]
    }
   ],
   "source": [
    "error_score_order = metrics.r2_score(z_train,order_data_pred )\n",
    "print (error_score_order)"
   ]
  },
  {
   "cell_type": "code",
   "execution_count": 13,
   "id": "8ea3be8d",
   "metadata": {
    "_cell_guid": "0f2c8280-f3ba-44df-9456-5d3a70911ab4",
    "_uuid": "acfa0068-448a-4083-bd79-36a3f5f26e94",
    "collapsed": false,
    "execution": {
     "iopub.execute_input": "2022-08-22T19:56:25.961746Z",
     "iopub.status.busy": "2022-08-22T19:56:25.961266Z",
     "iopub.status.idle": "2022-08-22T19:56:25.969449Z",
     "shell.execute_reply": "2022-08-22T19:56:25.968000Z"
    },
    "jupyter": {
     "outputs_hidden": false
    },
    "papermill": {
     "duration": 0.020881,
     "end_time": "2022-08-22T19:56:25.972045",
     "exception": false,
     "start_time": "2022-08-22T19:56:25.951164",
     "status": "completed"
    },
    "tags": []
   },
   "outputs": [
    {
     "name": "stdout",
     "output_type": "stream",
     "text": [
      "13.351815430519785\n",
      "331247.73945945944\n"
     ]
    }
   ],
   "source": [
    "from sklearn.metrics import mean_squared_error\n",
    "print(mean_squared_error(y_train, price_data_pred))\n",
    "print(mean_squared_error(z_train, order_data_pred))"
   ]
  },
  {
   "cell_type": "code",
   "execution_count": 14,
   "id": "9999b3c6",
   "metadata": {
    "_cell_guid": "4404572b-71ae-461f-b7a3-88a9f1e71064",
    "_uuid": "5cbc3b6d-9c95-4767-ad47-704df85a9b87",
    "collapsed": false,
    "execution": {
     "iopub.execute_input": "2022-08-22T19:56:25.991669Z",
     "iopub.status.busy": "2022-08-22T19:56:25.991262Z",
     "iopub.status.idle": "2022-08-22T19:56:26.217872Z",
     "shell.execute_reply": "2022-08-22T19:56:26.216177Z"
    },
    "jupyter": {
     "outputs_hidden": false
    },
    "papermill": {
     "duration": 0.239474,
     "end_time": "2022-08-22T19:56:26.220848",
     "exception": false,
     "start_time": "2022-08-22T19:56:25.981374",
     "status": "completed"
    },
    "tags": []
   },
   "outputs": [
    {
     "data": {
      "image/png": "[encoded data removed]",
      "text/plain": [
       "<Figure size 432x288 with 1 Axes>"
      ]
     },
     "metadata": {
      "needs_background": "light"
     },
     "output_type": "display_data"
    }
   ],
   "source": [
    "\n",
    "#visualize the actual prices and Predicted prices\n",
    "from matplotlib import pyplot as plt\n",
    "#plt.scatter(X_train,y_train, color = 'blue', label = 'Actual')\n",
    "plt.scatter(y_train,price_data_pred)\n",
    "plt.xlabel(\"Actual Price\")\n",
    "plt.ylabel(\"Predicted Price\")\n",
    "plt.title(\"Actual Price Vs Predicted Price\")\n",
    "plt.legend()\n",
    "plt.grid(True)\n",
    "plt.show()"
   ]
  },
  {
   "cell_type": "code",
   "execution_count": 15,
   "id": "23bf42cf",
   "metadata": {
    "_cell_guid": "62e7101d-7f68-4bac-b534-0616f1886f93",
    "_uuid": "6b0054ba-e392-4b44-a967-d523aa6144fe",
    "collapsed": false,
    "execution": {
     "iopub.execute_input": "2022-08-22T19:56:26.241177Z",
     "iopub.status.busy": "2022-08-22T19:56:26.239978Z",
     "iopub.status.idle": "2022-08-22T19:56:26.468461Z",
     "shell.execute_reply": "2022-08-22T19:56:26.467020Z"
    },
    "jupyter": {
     "outputs_hidden": false
    },
    "papermill": {
     "duration": 0.241327,
     "end_time": "2022-08-22T19:56:26.470970",
     "exception": false,
     "start_time": "2022-08-22T19:56:26.229643",
     "status": "completed"
    },
    "tags": []
   },
   "outputs": [
    {
     "data": {
      "image/png": "[encoded data removed]",
      "text/plain": [
       "<Figure size 432x288 with 1 Axes>"
      ]
     },
     "metadata": {
      "needs_background": "light"
     },
     "output_type": "display_data"
    }
   ],
   "source": [
    "plt.scatter(z_train,order_data_pred)\n",
    "plt.xlabel(\"Actual Demand\")\n",
    "plt.ylabel(\"Predicted Demand\")\n",
    "plt.title(\"Actual Demand Vs Predicted Demand\")\n",
    "plt.legend()\n",
    "plt.grid(True)\n",
    "plt.show()"
   ]
  },
  {
   "cell_type": "code",
   "execution_count": 16,
   "id": "caba5eb5",
   "metadata": {
    "_cell_guid": "0df925b9-97b4-482c-9b46-5bffbf99f50f",
    "_uuid": "bfe72e2a-3525-4ab4-9372-9a011740a529",
    "collapsed": false,
    "execution": {
     "iopub.execute_input": "2022-08-22T19:56:26.491438Z",
     "iopub.status.busy": "2022-08-22T19:56:26.491027Z",
     "iopub.status.idle": "2022-08-22T19:56:26.504786Z",
     "shell.execute_reply": "2022-08-22T19:56:26.503595Z"
    },
    "jupyter": {
     "outputs_hidden": false
    },
    "papermill": {
     "duration": 0.027591,
     "end_time": "2022-08-22T19:56:26.507942",
     "exception": false,
     "start_time": "2022-08-22T19:56:26.480351",
     "status": "completed"
    },
    "tags": []
   },
   "outputs": [
    {
     "data": {
      "text/plain": [
       "array([15.0130876, 11.28075  ,  9.5410234, 11.28075  , 11.28075  ,\n",
       "        9.5410234,  9.5410234,  9.5410234,  9.5410234, 11.28075  ,\n",
       "       11.28075  ,  9.5410234,  9.5410234,  9.5410234,  9.5410234,\n",
       "        9.5410234,  9.5410234,  9.5410234,  9.5410234,  9.5410234,\n",
       "        9.5410234,  9.5410234,  9.5410234,  9.5410234,  9.5410234,\n",
       "        9.5410234,  9.5410234,  9.5410234,  9.5410234,  9.5410234,\n",
       "        9.5410234,  9.5410234,  9.5410234,  9.5410234,  9.5410234,\n",
       "        9.5410234,  9.5410234,  9.5410234, 11.3227094, 11.28075  ,\n",
       "        9.5410234,  9.5410234,  9.5410234,  9.5410234,  9.5410234,\n",
       "       27.9140178, 20.5091932, 18.8366918])"
      ]
     },
     "execution_count": 16,
     "metadata": {},
     "output_type": "execute_result"
    }
   ],
   "source": [
    "#Training data prediction\n",
    "price_testing_data_pred= price_reg_model.predict(X_test)\n",
    "price_testing_data_pred\n",
    "\n"
   ]
  },
  {
   "cell_type": "code",
   "execution_count": 17,
   "id": "5f05794e",
   "metadata": {
    "execution": {
     "iopub.execute_input": "2022-08-22T19:56:26.527998Z",
     "iopub.status.busy": "2022-08-22T19:56:26.527337Z",
     "iopub.status.idle": "2022-08-22T19:56:26.537794Z",
     "shell.execute_reply": "2022-08-22T19:56:26.536655Z"
    },
    "papermill": {
     "duration": 0.023141,
     "end_time": "2022-08-22T19:56:26.540240",
     "exception": false,
     "start_time": "2022-08-22T19:56:26.517099",
     "status": "completed"
    },
    "tags": []
   },
   "outputs": [
    {
     "data": {
      "text/plain": [
       "array([1714.2, 2022. , 4033.4, 3101. , 3312.6, 2319.6, 2598.6, 2598.6,\n",
       "       2585.2, 2585.2, 2585.2, 2536.6, 2536.6, 2768. , 2768. , 2768. ,\n",
       "       2664.6, 2769.2, 2769.2, 2771.8, 2386.6, 2386.6, 2386.6, 2386.6,\n",
       "       2386.6, 2386.6, 5027. , 5027. , 5027. , 4657.2, 4752.2, 4766. ,\n",
       "       4033.4, 4033.4, 4033.4, 3312.6, 3312.6, 2598.6, 2585.2, 2585.2,\n",
       "       2585.2, 2515.2, 2536.6, 2536.6, 2768. , 2768. , 2724.4, 2829. ])"
      ]
     },
     "execution_count": 17,
     "metadata": {},
     "output_type": "execute_result"
    }
   ],
   "source": [
    "order_testing_data_pred= order_reg_model.predict(w_test)\n",
    "order_testing_data_pred"
   ]
  },
  {
   "cell_type": "code",
   "execution_count": 18,
   "id": "8a02fa9c",
   "metadata": {
    "_cell_guid": "8b47cad1-6a80-4bbd-99f2-d12d1ce95789",
    "_uuid": "18003325-1d5e-4c41-90d3-999b6cd7f740",
    "collapsed": false,
    "execution": {
     "iopub.execute_input": "2022-08-22T19:56:26.560432Z",
     "iopub.status.busy": "2022-08-22T19:56:26.559965Z",
     "iopub.status.idle": "2022-08-22T19:56:26.567563Z",
     "shell.execute_reply": "2022-08-22T19:56:26.566354Z"
    },
    "jupyter": {
     "outputs_hidden": false
    },
    "papermill": {
     "duration": 0.021555,
     "end_time": "2022-08-22T19:56:26.570763",
     "exception": false,
     "start_time": "2022-08-22T19:56:26.549208",
     "status": "completed"
    },
    "tags": []
   },
   "outputs": [
    {
     "name": "stdout",
     "output_type": "stream",
     "text": [
      "-1.4820962654861543\n",
      "-3.194380650469701\n"
     ]
    }
   ],
   "source": [
    "from sklearn import metrics\n",
    "error_score_price_test = metrics.r2_score(y_test,price_testing_data_pred )\n",
    "print (error_score_price_test)\n",
    "error_score_order_test = metrics.r2_score(z_test,order_testing_data_pred )\n",
    "print (error_score_order_test)"
   ]
  },
  {
   "cell_type": "code",
   "execution_count": 19,
   "id": "99308f88",
   "metadata": {
    "_cell_guid": "d3220ce6-0af8-43aa-bc5b-9fdbc90fbda4",
    "_uuid": "f797e95f-91c5-4c11-83e5-1b916682c495",
    "collapsed": false,
    "execution": {
     "iopub.execute_input": "2022-08-22T19:56:26.591152Z",
     "iopub.status.busy": "2022-08-22T19:56:26.590789Z",
     "iopub.status.idle": "2022-08-22T19:56:26.598504Z",
     "shell.execute_reply": "2022-08-22T19:56:26.596808Z"
    },
    "jupyter": {
     "outputs_hidden": false
    },
    "papermill": {
     "duration": 0.020686,
     "end_time": "2022-08-22T19:56:26.601056",
     "exception": false,
     "start_time": "2022-08-22T19:56:26.580370",
     "status": "completed"
    },
    "tags": []
   },
   "outputs": [
    {
     "name": "stdout",
     "output_type": "stream",
     "text": [
      "15.21274050451646\n",
      "12818660.262499997\n"
     ]
    }
   ],
   "source": [
    "from sklearn.metrics import mean_squared_error\n",
    "print(mean_squared_error(y_test, price_testing_data_pred))\n",
    "print(mean_squared_error(z_test, order_testing_data_pred))"
   ]
  },
  {
   "cell_type": "code",
   "execution_count": 20,
   "id": "144485bd",
   "metadata": {
    "_cell_guid": "99396608-f574-4af5-b2c0-52448d9a7018",
    "_uuid": "1e12b092-161a-432d-a052-9b1e7de7fb21",
    "collapsed": false,
    "execution": {
     "iopub.execute_input": "2022-08-22T19:56:26.621438Z",
     "iopub.status.busy": "2022-08-22T19:56:26.621050Z",
     "iopub.status.idle": "2022-08-22T19:56:26.850242Z",
     "shell.execute_reply": "2022-08-22T19:56:26.848949Z"
    },
    "jupyter": {
     "outputs_hidden": false
    },
    "papermill": {
     "duration": 0.242919,
     "end_time": "2022-08-22T19:56:26.853248",
     "exception": false,
     "start_time": "2022-08-22T19:56:26.610329",
     "status": "completed"
    },
    "tags": []
   },
   "outputs": [
    {
     "data": {
      "image/png": "[encoded data removed]",
      "text/plain": [
       "<Figure size 432x288 with 1 Axes>"
      ]
     },
     "metadata": {
      "needs_background": "light"
     },
     "output_type": "display_data"
    }
   ],
   "source": [
    "#visualize the actual prices and Predicted prices\n",
    "from matplotlib import pyplot as plt\n",
    "#plt.scatter(X_train,y_train, color = 'blue', label = 'Actual')\n",
    "plt.scatter(y_test,price_testing_data_pred)\n",
    "plt.xlabel(\"Actual Price\")\n",
    "plt.ylabel(\"Predicted Price\")\n",
    "plt.title(\"Actual Price Vs Predicted Price\")\n",
    "plt.legend()\n",
    "plt.grid(True)\n",
    "plt.show()"
   ]
  },
  {
   "cell_type": "code",
   "execution_count": 21,
   "id": "d45b93d9",
   "metadata": {
    "_cell_guid": "66ccf871-693f-49a9-aab6-28b8e49b74c4",
    "_uuid": "16b68288-62fb-4e91-84fb-7bad8aab8bbd",
    "collapsed": false,
    "execution": {
     "iopub.execute_input": "2022-08-22T19:56:26.874066Z",
     "iopub.status.busy": "2022-08-22T19:56:26.873653Z",
     "iopub.status.idle": "2022-08-22T19:56:27.107649Z",
     "shell.execute_reply": "2022-08-22T19:56:27.105959Z"
    },
    "jupyter": {
     "outputs_hidden": false
    },
    "papermill": {
     "duration": 0.247557,
     "end_time": "2022-08-22T19:56:27.110332",
     "exception": false,
     "start_time": "2022-08-22T19:56:26.862775",
     "status": "completed"
    },
    "tags": []
   },
   "outputs": [
    {
     "data": {
      "image/png": "[encoded data removed]",
      "text/plain": [
       "<Figure size 432x288 with 1 Axes>"
      ]
     },
     "metadata": {
      "needs_background": "light"
     },
     "output_type": "display_data"
    }
   ],
   "source": [
    "plt.scatter(z_test,order_testing_data_pred)\n",
    "plt.xlabel(\"Actual Demand\")\n",
    "plt.ylabel(\"Predicted Demand\")\n",
    "plt.title(\"Actual Demand Vs Predicted Demand\")\n",
    "plt.legend()\n",
    "plt.grid(True)\n",
    "plt.show()"
   ]
  }
 ],
 "metadata": {
  "kernelspec": {
   "display_name": "Python 3",
   "language": "python",
   "name": "python3"
  },
  "language_info": {
   "codemirror_mode": {
    "name": "ipython",
    "version": 3
   },
   "file_extension": ".py",
   "mimetype": "text/x-python",
   "name": "python",
   "nbconvert_exporter": "python",
   "pygments_lexer": "ipython3",
   "version": "3.7.12"
  },
  "papermill": {
   "default_parameters": {},
   "duration": 15.88231,
   "end_time": "2022-08-22T19:56:28.144592",
   "environment_variables": {},
   "exception": null,
   "input_path": "__notebook__.ipynb",
   "output_path": "__notebook__.ipynb",
   "parameters": {},
   "start_time": "2022-08-22T19:56:12.262282",
   "version": "2.3.4"
  }
 },
 "nbformat": 4,
 "nbformat_minor": 5
}
