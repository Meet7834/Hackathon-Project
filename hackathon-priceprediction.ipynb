{
 "cells": [
  {
   "cell_type": "code",
   "execution_count": 1,
   "id": "4f06b8b0",
   "metadata": {
    "_cell_guid": "0b1de6c8-8a08-44a7-a7b0-2db5d592e26e",
    "_uuid": "82c4adf0-5e56-44e0-a0d1-d57f319c93ae",
    "collapsed": false,
    "execution": {
     "iopub.execute_input": "2022-08-23T02:19:50.125211Z",
     "iopub.status.busy": "2022-08-23T02:19:50.124269Z",
     "iopub.status.idle": "2022-08-23T02:19:50.155790Z",
     "shell.execute_reply": "2022-08-23T02:19:50.154275Z"
    },
    "jupyter": {
     "outputs_hidden": false
    },
    "papermill": {
     "duration": 0.045053,
     "end_time": "2022-08-23T02:19:50.159275",
     "exception": false,
     "start_time": "2022-08-23T02:19:50.114222",
     "status": "completed"
    },
    "tags": []
   },
   "outputs": [
    {
     "name": "stdout",
     "output_type": "stream",
     "text": [
      "/kaggle/input/tomatodataset/README.md\n",
      "/kaggle/input/tomatodataset/noTomatoDataset.csv\n",
      "/kaggle/input/tomatodataset/ModifiedDatasetTomato.csv\n",
      "/kaggle/input/d/meet7834/tomatoprice/README.md\n",
      "/kaggle/input/d/meet7834/tomatoprice/noTomatoDataset.csv\n",
      "/kaggle/input/d/meet7834/tomatoprice/ModifiedDatasetTomato.csv\n"
     ]
    }
   ],
   "source": [
    "# This Python 3 environment comes with many helpful analytics libraries installed\n",
    "# It is defined by the kaggle/python Docker image: https://github.com/kaggle/docker-python\n",
    "# For example, here's several helpful packages to load\n",
    "\n",
    "import numpy as np # linear algebra\n",
    "import pandas as pd # data processing, CSV file I/O (e.g. pd.read_csv)\n",
    "\n",
    "# Input data files are available in the read-only \"../input/\" directory\n",
    "# For example, running this (by clicking run or pressing Shift+Enter) will list all files under the input directory\n",
    "\n",
    "import os\n",
    "for dirname, _, filenames in os.walk('/kaggle/input'):\n",
    "    for filename in filenames:\n",
    "        print(os.path.join(dirname, filename))\n",
    "\n",
    "# You can write up to 20GB to the current directory (/kaggle/working/) that gets preserved as output when you create a version using \"Save & Run All\" \n",
    "# You can also write temporary files to /kaggle/temp/, but they won't be saved outside of the current session"
   ]
  },
  {
   "cell_type": "code",
   "execution_count": 2,
   "id": "82095373",
   "metadata": {
    "_cell_guid": "fd72ad13-2cfb-47da-bfe8-7711408191fc",
    "_uuid": "3eb54478-7ca8-48a1-9996-4fd3e914bb1b",
    "collapsed": false,
    "execution": {
     "iopub.execute_input": "2022-08-23T02:19:50.175525Z",
     "iopub.status.busy": "2022-08-23T02:19:50.174870Z",
     "iopub.status.idle": "2022-08-23T02:19:53.220003Z",
     "shell.execute_reply": "2022-08-23T02:19:53.218864Z"
    },
    "jupyter": {
     "outputs_hidden": false
    },
    "papermill": {
     "duration": 3.05667,
     "end_time": "2022-08-23T02:19:53.223188",
     "exception": false,
     "start_time": "2022-08-23T02:19:50.166518",
     "status": "completed"
    },
    "tags": []
   },
   "outputs": [
    {
     "data": {
      "text/html": [
       "<style type='text/css'>\n",
       ".datatable table.frame { margin-bottom: 0; }\n",
       ".datatable table.frame thead { border-bottom: none; }\n",
       ".datatable table.frame tr.coltypes td {  color: #FFFFFF;  line-height: 6px;  padding: 0 0.5em;}\n",
       ".datatable .bool    { background: #DDDD99; }\n",
       ".datatable .object  { background: #565656; }\n",
       ".datatable .int     { background: #5D9E5D; }\n",
       ".datatable .float   { background: #4040CC; }\n",
       ".datatable .str     { background: #CC4040; }\n",
       ".datatable .time    { background: #40CC40; }\n",
       ".datatable .row_index {  background: var(--jp-border-color3);  border-right: 1px solid var(--jp-border-color0);  color: var(--jp-ui-font-color3);  font-size: 9px;}\n",
       ".datatable .frame tbody td { text-align: left; }\n",
       ".datatable .frame tr.coltypes .row_index {  background: var(--jp-border-color0);}\n",
       ".datatable th:nth-child(2) { padding-left: 12px; }\n",
       ".datatable .hellipsis {  color: var(--jp-cell-editor-border-color);}\n",
       ".datatable .vellipsis {  background: var(--jp-layout-color0);  color: var(--jp-cell-editor-border-color);}\n",
       ".datatable .na {  color: var(--jp-cell-editor-border-color);  font-size: 80%;}\n",
       ".datatable .sp {  opacity: 0.25;}\n",
       ".datatable .footer { font-size: 9px; }\n",
       ".datatable .frame_dimensions {  background: var(--jp-border-color3);  border-top: 1px solid var(--jp-border-color0);  color: var(--jp-ui-font-color3);  display: inline-block;  opacity: 0.6;  padding: 1px 10px 1px 5px;}\n",
       "</style>\n"
      ],
      "text/plain": [
       "<IPython.core.display.HTML object>"
      ]
     },
     "metadata": {},
     "output_type": "display_data"
    }
   ],
   "source": [
    "import numpy as np\n",
    "import pandas as pd\n",
    "\n",
    "from sklearn.model_selection import train_test_split\n",
    "from sklearn.preprocessing import StandardScaler\n",
    "from sklearn.preprocessing import LabelEncoder\n",
    "from sklearn.linear_model import LinearRegression, Ridge, Lasso\n",
    "from sklearn.neighbors import KNeighborsRegressor\n",
    "from sklearn.neural_network import MLPRegressor\n",
    "from sklearn.svm import LinearSVR, SVR\n",
    "from sklearn.tree import DecisionTreeRegressor\n",
    "from sklearn.ensemble import RandomForestRegressor, GradientBoostingRegressor\n",
    "from xgboost import XGBRegressor\n",
    "from lightgbm import LGBMRegressor\n",
    "from catboost import CatBoostRegressor\n",
    "import seaborn as sns\n",
    "from sklearn. linear_model import Lasso\n",
    "\n",
    "import warnings\n",
    "warnings.filterwarnings(action='ignore')"
   ]
  },
  {
   "cell_type": "code",
   "execution_count": 3,
   "id": "02b9fc20",
   "metadata": {
    "_cell_guid": "1d50d8ef-cafd-448d-8b6e-0bd09c96081d",
    "_uuid": "dc2ac1c7-b841-41b1-a439-e920aefc28b3",
    "collapsed": false,
    "execution": {
     "iopub.execute_input": "2022-08-23T02:19:53.240069Z",
     "iopub.status.busy": "2022-08-23T02:19:53.239073Z",
     "iopub.status.idle": "2022-08-23T02:19:53.285756Z",
     "shell.execute_reply": "2022-08-23T02:19:53.284543Z"
    },
    "jupyter": {
     "outputs_hidden": false
    },
    "papermill": {
     "duration": 0.058332,
     "end_time": "2022-08-23T02:19:53.288718",
     "exception": false,
     "start_time": "2022-08-23T02:19:53.230386",
     "status": "completed"
    },
    "tags": []
   },
   "outputs": [
    {
     "data": {
      "text/html": [
       "<div>\n",
       "<style scoped>\n",
       "    .dataframe tbody tr th:only-of-type {\n",
       "        vertical-align: middle;\n",
       "    }\n",
       "\n",
       "    .dataframe tbody tr th {\n",
       "        vertical-align: top;\n",
       "    }\n",
       "\n",
       "    .dataframe thead th {\n",
       "        text-align: right;\n",
       "    }\n",
       "</style>\n",
       "<table border=\"1\" class=\"dataframe\">\n",
       "  <thead>\n",
       "    <tr style=\"text-align: right;\">\n",
       "      <th></th>\n",
       "      <th>prod_id</th>\n",
       "      <th>avg price</th>\n",
       "      <th>prod_name</th>\n",
       "      <th>order date</th>\n",
       "      <th>pack sold</th>\n",
       "      <th>order</th>\n",
       "      <th>Season</th>\n",
       "      <th>Month</th>\n",
       "    </tr>\n",
       "  </thead>\n",
       "  <tbody>\n",
       "    <tr>\n",
       "      <th>0</th>\n",
       "      <td>996</td>\n",
       "      <td>4.645859</td>\n",
       "      <td>Tomato Desi 500 Gm</td>\n",
       "      <td>1</td>\n",
       "      <td>7687</td>\n",
       "      <td>6472</td>\n",
       "      <td>winter</td>\n",
       "      <td>march</td>\n",
       "    </tr>\n",
       "    <tr>\n",
       "      <th>1</th>\n",
       "      <td>996</td>\n",
       "      <td>10.222268</td>\n",
       "      <td>Tomato Desi 500 Gm</td>\n",
       "      <td>2</td>\n",
       "      <td>2974</td>\n",
       "      <td>2434</td>\n",
       "      <td>winter</td>\n",
       "      <td>march</td>\n",
       "    </tr>\n",
       "    <tr>\n",
       "      <th>2</th>\n",
       "      <td>996</td>\n",
       "      <td>16.719044</td>\n",
       "      <td>Tomato Desi 500 Gm</td>\n",
       "      <td>3</td>\n",
       "      <td>1568</td>\n",
       "      <td>1171</td>\n",
       "      <td>winter</td>\n",
       "      <td>march</td>\n",
       "    </tr>\n",
       "    <tr>\n",
       "      <th>3</th>\n",
       "      <td>996</td>\n",
       "      <td>16.853556</td>\n",
       "      <td>Tomato Desi 500 Gm</td>\n",
       "      <td>4</td>\n",
       "      <td>1700</td>\n",
       "      <td>1195</td>\n",
       "      <td>winter</td>\n",
       "      <td>march</td>\n",
       "    </tr>\n",
       "    <tr>\n",
       "      <th>4</th>\n",
       "      <td>996</td>\n",
       "      <td>16.427644</td>\n",
       "      <td>Tomato Desi 500 Gm</td>\n",
       "      <td>5</td>\n",
       "      <td>1549</td>\n",
       "      <td>1078</td>\n",
       "      <td>winter</td>\n",
       "      <td>march</td>\n",
       "    </tr>\n",
       "    <tr>\n",
       "      <th>...</th>\n",
       "      <td>...</td>\n",
       "      <td>...</td>\n",
       "      <td>...</td>\n",
       "      <td>...</td>\n",
       "      <td>...</td>\n",
       "      <td>...</td>\n",
       "      <td>...</td>\n",
       "      <td>...</td>\n",
       "    </tr>\n",
       "    <tr>\n",
       "      <th>154</th>\n",
       "      <td>996</td>\n",
       "      <td>8.286688</td>\n",
       "      <td>Tomato (Desi)</td>\n",
       "      <td>18</td>\n",
       "      <td>7672</td>\n",
       "      <td>6863</td>\n",
       "      <td>monsoon</td>\n",
       "      <td>august</td>\n",
       "    </tr>\n",
       "    <tr>\n",
       "      <th>155</th>\n",
       "      <td>996</td>\n",
       "      <td>8.215190</td>\n",
       "      <td>Tomato (Desi)</td>\n",
       "      <td>19</td>\n",
       "      <td>7054</td>\n",
       "      <td>6306</td>\n",
       "      <td>monsoon</td>\n",
       "      <td>august</td>\n",
       "    </tr>\n",
       "    <tr>\n",
       "      <th>156</th>\n",
       "      <td>996</td>\n",
       "      <td>10.790909</td>\n",
       "      <td>Tomato (Desi)</td>\n",
       "      <td>20</td>\n",
       "      <td>1163</td>\n",
       "      <td>962</td>\n",
       "      <td>monsoon</td>\n",
       "      <td>august</td>\n",
       "    </tr>\n",
       "    <tr>\n",
       "      <th>157</th>\n",
       "      <td>996</td>\n",
       "      <td>11.784903</td>\n",
       "      <td>Tomato (Desi)</td>\n",
       "      <td>21</td>\n",
       "      <td>1837</td>\n",
       "      <td>1464</td>\n",
       "      <td>monsoon</td>\n",
       "      <td>august</td>\n",
       "    </tr>\n",
       "    <tr>\n",
       "      <th>158</th>\n",
       "      <td>996</td>\n",
       "      <td>11.569352</td>\n",
       "      <td>Tomato (Desi)</td>\n",
       "      <td>22</td>\n",
       "      <td>1947</td>\n",
       "      <td>1609</td>\n",
       "      <td>monsoon</td>\n",
       "      <td>august</td>\n",
       "    </tr>\n",
       "  </tbody>\n",
       "</table>\n",
       "<p>159 rows × 8 columns</p>\n",
       "</div>"
      ],
      "text/plain": [
       "     prod_id  avg price           prod_name  order date  pack sold  order  \\\n",
       "0        996   4.645859  Tomato Desi 500 Gm           1       7687   6472   \n",
       "1        996  10.222268  Tomato Desi 500 Gm           2       2974   2434   \n",
       "2        996  16.719044  Tomato Desi 500 Gm           3       1568   1171   \n",
       "3        996  16.853556  Tomato Desi 500 Gm           4       1700   1195   \n",
       "4        996  16.427644  Tomato Desi 500 Gm           5       1549   1078   \n",
       "..       ...        ...                 ...         ...        ...    ...   \n",
       "154      996   8.286688       Tomato (Desi)          18       7672   6863   \n",
       "155      996   8.215190       Tomato (Desi)          19       7054   6306   \n",
       "156      996  10.790909       Tomato (Desi)          20       1163    962   \n",
       "157      996  11.784903       Tomato (Desi)          21       1837   1464   \n",
       "158      996  11.569352       Tomato (Desi)          22       1947   1609   \n",
       "\n",
       "      Season   Month  \n",
       "0     winter   march  \n",
       "1     winter   march  \n",
       "2     winter   march  \n",
       "3     winter   march  \n",
       "4     winter   march  \n",
       "..       ...     ...  \n",
       "154  monsoon  august  \n",
       "155  monsoon  august  \n",
       "156  monsoon  august  \n",
       "157  monsoon  august  \n",
       "158  monsoon  august  \n",
       "\n",
       "[159 rows x 8 columns]"
      ]
     },
     "execution_count": 3,
     "metadata": {},
     "output_type": "execute_result"
    }
   ],
   "source": [
    "import pandas as pd\n",
    "data=pd.read_csv('../input/tomatodataset/ModifiedDatasetTomato.csv')\n",
    "data"
   ]
  },
  {
   "cell_type": "code",
   "execution_count": 4,
   "id": "cfa844bc",
   "metadata": {
    "_cell_guid": "0d7818c2-bc56-475a-aaad-f7fd53e7b699",
    "_uuid": "9798ce2a-ce57-4668-9403-da3b624545ce",
    "collapsed": false,
    "execution": {
     "iopub.execute_input": "2022-08-23T02:19:53.305797Z",
     "iopub.status.busy": "2022-08-23T02:19:53.304618Z",
     "iopub.status.idle": "2022-08-23T02:19:53.328125Z",
     "shell.execute_reply": "2022-08-23T02:19:53.326835Z"
    },
    "jupyter": {
     "outputs_hidden": false
    },
    "papermill": {
     "duration": 0.034834,
     "end_time": "2022-08-23T02:19:53.330671",
     "exception": false,
     "start_time": "2022-08-23T02:19:53.295837",
     "status": "completed"
    },
    "tags": []
   },
   "outputs": [
    {
     "data": {
      "text/html": [
       "<div>\n",
       "<style scoped>\n",
       "    .dataframe tbody tr th:only-of-type {\n",
       "        vertical-align: middle;\n",
       "    }\n",
       "\n",
       "    .dataframe tbody tr th {\n",
       "        vertical-align: top;\n",
       "    }\n",
       "\n",
       "    .dataframe thead th {\n",
       "        text-align: right;\n",
       "    }\n",
       "</style>\n",
       "<table border=\"1\" class=\"dataframe\">\n",
       "  <thead>\n",
       "    <tr style=\"text-align: right;\">\n",
       "      <th></th>\n",
       "      <th>prod_id</th>\n",
       "      <th>avg price</th>\n",
       "      <th>prod_name</th>\n",
       "      <th>order date</th>\n",
       "      <th>pack sold</th>\n",
       "      <th>order</th>\n",
       "      <th>Season</th>\n",
       "      <th>Month</th>\n",
       "    </tr>\n",
       "  </thead>\n",
       "  <tbody>\n",
       "    <tr>\n",
       "      <th>0</th>\n",
       "      <td>996</td>\n",
       "      <td>4.645859</td>\n",
       "      <td>Tomato Desi 500 Gm</td>\n",
       "      <td>1</td>\n",
       "      <td>7687</td>\n",
       "      <td>6472</td>\n",
       "      <td>1</td>\n",
       "      <td>3</td>\n",
       "    </tr>\n",
       "    <tr>\n",
       "      <th>1</th>\n",
       "      <td>996</td>\n",
       "      <td>10.222268</td>\n",
       "      <td>Tomato Desi 500 Gm</td>\n",
       "      <td>2</td>\n",
       "      <td>2974</td>\n",
       "      <td>2434</td>\n",
       "      <td>1</td>\n",
       "      <td>3</td>\n",
       "    </tr>\n",
       "    <tr>\n",
       "      <th>2</th>\n",
       "      <td>996</td>\n",
       "      <td>16.719044</td>\n",
       "      <td>Tomato Desi 500 Gm</td>\n",
       "      <td>3</td>\n",
       "      <td>1568</td>\n",
       "      <td>1171</td>\n",
       "      <td>1</td>\n",
       "      <td>3</td>\n",
       "    </tr>\n",
       "    <tr>\n",
       "      <th>3</th>\n",
       "      <td>996</td>\n",
       "      <td>16.853556</td>\n",
       "      <td>Tomato Desi 500 Gm</td>\n",
       "      <td>4</td>\n",
       "      <td>1700</td>\n",
       "      <td>1195</td>\n",
       "      <td>1</td>\n",
       "      <td>3</td>\n",
       "    </tr>\n",
       "    <tr>\n",
       "      <th>4</th>\n",
       "      <td>996</td>\n",
       "      <td>16.427644</td>\n",
       "      <td>Tomato Desi 500 Gm</td>\n",
       "      <td>5</td>\n",
       "      <td>1549</td>\n",
       "      <td>1078</td>\n",
       "      <td>1</td>\n",
       "      <td>3</td>\n",
       "    </tr>\n",
       "    <tr>\n",
       "      <th>...</th>\n",
       "      <td>...</td>\n",
       "      <td>...</td>\n",
       "      <td>...</td>\n",
       "      <td>...</td>\n",
       "      <td>...</td>\n",
       "      <td>...</td>\n",
       "      <td>...</td>\n",
       "      <td>...</td>\n",
       "    </tr>\n",
       "    <tr>\n",
       "      <th>154</th>\n",
       "      <td>996</td>\n",
       "      <td>8.286688</td>\n",
       "      <td>Tomato (Desi)</td>\n",
       "      <td>18</td>\n",
       "      <td>7672</td>\n",
       "      <td>6863</td>\n",
       "      <td>3</td>\n",
       "      <td>8</td>\n",
       "    </tr>\n",
       "    <tr>\n",
       "      <th>155</th>\n",
       "      <td>996</td>\n",
       "      <td>8.215190</td>\n",
       "      <td>Tomato (Desi)</td>\n",
       "      <td>19</td>\n",
       "      <td>7054</td>\n",
       "      <td>6306</td>\n",
       "      <td>3</td>\n",
       "      <td>8</td>\n",
       "    </tr>\n",
       "    <tr>\n",
       "      <th>156</th>\n",
       "      <td>996</td>\n",
       "      <td>10.790909</td>\n",
       "      <td>Tomato (Desi)</td>\n",
       "      <td>20</td>\n",
       "      <td>1163</td>\n",
       "      <td>962</td>\n",
       "      <td>3</td>\n",
       "      <td>8</td>\n",
       "    </tr>\n",
       "    <tr>\n",
       "      <th>157</th>\n",
       "      <td>996</td>\n",
       "      <td>11.784903</td>\n",
       "      <td>Tomato (Desi)</td>\n",
       "      <td>21</td>\n",
       "      <td>1837</td>\n",
       "      <td>1464</td>\n",
       "      <td>3</td>\n",
       "      <td>8</td>\n",
       "    </tr>\n",
       "    <tr>\n",
       "      <th>158</th>\n",
       "      <td>996</td>\n",
       "      <td>11.569352</td>\n",
       "      <td>Tomato (Desi)</td>\n",
       "      <td>22</td>\n",
       "      <td>1947</td>\n",
       "      <td>1609</td>\n",
       "      <td>3</td>\n",
       "      <td>8</td>\n",
       "    </tr>\n",
       "  </tbody>\n",
       "</table>\n",
       "<p>159 rows × 8 columns</p>\n",
       "</div>"
      ],
      "text/plain": [
       "     prod_id  avg price           prod_name  order date  pack sold  order  \\\n",
       "0        996   4.645859  Tomato Desi 500 Gm           1       7687   6472   \n",
       "1        996  10.222268  Tomato Desi 500 Gm           2       2974   2434   \n",
       "2        996  16.719044  Tomato Desi 500 Gm           3       1568   1171   \n",
       "3        996  16.853556  Tomato Desi 500 Gm           4       1700   1195   \n",
       "4        996  16.427644  Tomato Desi 500 Gm           5       1549   1078   \n",
       "..       ...        ...                 ...         ...        ...    ...   \n",
       "154      996   8.286688       Tomato (Desi)          18       7672   6863   \n",
       "155      996   8.215190       Tomato (Desi)          19       7054   6306   \n",
       "156      996  10.790909       Tomato (Desi)          20       1163    962   \n",
       "157      996  11.784903       Tomato (Desi)          21       1837   1464   \n",
       "158      996  11.569352       Tomato (Desi)          22       1947   1609   \n",
       "\n",
       "     Season  Month  \n",
       "0         1      3  \n",
       "1         1      3  \n",
       "2         1      3  \n",
       "3         1      3  \n",
       "4         1      3  \n",
       "..      ...    ...  \n",
       "154       3      8  \n",
       "155       3      8  \n",
       "156       3      8  \n",
       "157       3      8  \n",
       "158       3      8  \n",
       "\n",
       "[159 rows x 8 columns]"
      ]
     },
     "execution_count": 4,
     "metadata": {},
     "output_type": "execute_result"
    }
   ],
   "source": [
    "#encoding season column\n",
    "data.replace({'Season':{'winter':1,'summer':2,'monsoon':3}},inplace=True)\n",
    "data.replace({'Month':{ \n",
    "        'march': 3,\n",
    "        'april': 4,\n",
    "        'may': 5,\n",
    "        'june': 6,\n",
    "        'july': 7,\n",
    "        'august': 8}},inplace=True)\n",
    "              \n",
    "data"
   ]
  },
  {
   "cell_type": "code",
   "execution_count": 5,
   "id": "0a0221d2",
   "metadata": {
    "_cell_guid": "c27f218d-6ddb-4d45-86e5-877360b93282",
    "_uuid": "c6e782ea-5118-449a-8e22-ccb25a42a0ea",
    "collapsed": false,
    "execution": {
     "iopub.execute_input": "2022-08-23T02:19:53.347336Z",
     "iopub.status.busy": "2022-08-23T02:19:53.346911Z",
     "iopub.status.idle": "2022-08-23T02:19:53.360259Z",
     "shell.execute_reply": "2022-08-23T02:19:53.358968Z"
    },
    "jupyter": {
     "outputs_hidden": false
    },
    "papermill": {
     "duration": 0.024551,
     "end_time": "2022-08-23T02:19:53.362636",
     "exception": false,
     "start_time": "2022-08-23T02:19:53.338085",
     "status": "completed"
    },
    "tags": []
   },
   "outputs": [],
   "source": [
    "#splitting dataset into X and y\n",
    "y = data['avg price']\n",
    "X = data.drop(['avg price','prod_name', 'order', 'prod_id', 'pack sold'], axis=1)\n",
    "#for demand\n",
    "z = data['order']\n",
    "w = data.drop(['order', 'pack sold' , 'prod_id', 'prod_name'], axis =1)"
   ]
  },
  {
   "cell_type": "code",
   "execution_count": 6,
   "id": "0ccf7629",
   "metadata": {
    "_cell_guid": "ef938877-d7f6-4ff6-964c-25b851ceb9eb",
    "_uuid": "18f3f7f9-3a4f-4344-8514-ec90e1489f0c",
    "collapsed": false,
    "execution": {
     "iopub.execute_input": "2022-08-23T02:19:53.379001Z",
     "iopub.status.busy": "2022-08-23T02:19:53.378614Z",
     "iopub.status.idle": "2022-08-23T02:19:53.391211Z",
     "shell.execute_reply": "2022-08-23T02:19:53.390309Z"
    },
    "jupyter": {
     "outputs_hidden": false
    },
    "papermill": {
     "duration": 0.023541,
     "end_time": "2022-08-23T02:19:53.393527",
     "exception": false,
     "start_time": "2022-08-23T02:19:53.369986",
     "status": "completed"
    },
    "tags": []
   },
   "outputs": [],
   "source": [
    "#splitting into testing and trainning\n",
    "X_train,X_test,y_train,y_test=train_test_split(X,y,train_size=0.6,shuffle=True,random_state=1)\n",
    "X_train,X_test,y_train,y_test=train_test_split(X,y,train_size=0.6,shuffle=True,random_state=1)\n",
    "w_train,w_test,z_train,z_test=train_test_split(w,z,train_size=0.6,shuffle=True,random_state=1)\n",
    "w_train,w_test,z_train,z_test=train_test_split(w,z,train_size=0.6,shuffle=True,random_state=1)"
   ]
  },
  {
   "cell_type": "code",
   "execution_count": 7,
   "id": "fdde9a44",
   "metadata": {
    "_cell_guid": "41861f30-884a-44b2-a21c-594a61e8c184",
    "_uuid": "e8d826a4-fe8c-4d94-a2b9-7ed5bdf15160",
    "collapsed": false,
    "execution": {
     "iopub.execute_input": "2022-08-23T02:19:53.410179Z",
     "iopub.status.busy": "2022-08-23T02:19:53.409454Z",
     "iopub.status.idle": "2022-08-23T02:19:54.772116Z",
     "shell.execute_reply": "2022-08-23T02:19:54.770284Z"
    },
    "jupyter": {
     "outputs_hidden": false
    },
    "papermill": {
     "duration": 1.374974,
     "end_time": "2022-08-23T02:19:54.775923",
     "exception": false,
     "start_time": "2022-08-23T02:19:53.400949",
     "status": "completed"
    },
    "tags": []
   },
   "outputs": [
    {
     "name": "stdout",
     "output_type": "stream",
     "text": [
      "                     Linear Regression trained.\n",
      " Linear Regression (L2 Regularization) trained.\n",
      " Linear Regression (L1 Regularization) trained.\n",
      "                   K-Nearest Neighbors trained.\n",
      "                        Neural Network trained.\n",
      "Support Vector Machine (Linear Kernel) trained.\n",
      "   Support Vector Machine (RBF Kernel) trained.\n",
      "                         Decision Tree trained.\n",
      "                         Random Forest trained.\n",
      "                     Gradient Boosting trained.\n",
      "                               XGBoost trained.\n",
      "                              LightGBM trained.\n",
      "                              CatBoost trained.\n",
      "                     Linear Regression R^2 Score: 0.24871\n",
      " Linear Regression (L2 Regularization) R^2 Score: 0.23281\n",
      " Linear Regression (L1 Regularization) R^2 Score: 0.05223\n",
      "                   K-Nearest Neighbors R^2 Score: 0.37361\n",
      "                        Neural Network R^2 Score: -0.55189\n",
      "Support Vector Machine (Linear Kernel) R^2 Score: -0.41396\n",
      "   Support Vector Machine (RBF Kernel) R^2 Score: -0.04952\n",
      "                         Decision Tree R^2 Score: 0.96899\n",
      "                         Random Forest R^2 Score: 0.94830\n",
      "                     Gradient Boosting R^2 Score: 0.90396\n",
      "                               XGBoost R^2 Score: 0.92448\n",
      "                              LightGBM R^2 Score: 0.78978\n",
      "                              CatBoost R^2 Score: 0.91726\n"
     ]
    }
   ],
   "source": [
    "models = {\n",
    "    \"                     Linear Regression\": LinearRegression(),\n",
    "    \" Linear Regression (L2 Regularization)\": Ridge(),\n",
    "    \" Linear Regression (L1 Regularization)\": Lasso(),\n",
    "    \"                   K-Nearest Neighbors\": KNeighborsRegressor(),\n",
    "    \"                        Neural Network\": MLPRegressor(),\n",
    "    \"Support Vector Machine (Linear Kernel)\": LinearSVR(),\n",
    "    \"   Support Vector Machine (RBF Kernel)\": SVR(),\n",
    "    \"                         Decision Tree\": DecisionTreeRegressor(),\n",
    "    \"                         Random Forest\": RandomForestRegressor(),\n",
    "    \"                     Gradient Boosting\": GradientBoostingRegressor(),\n",
    "    \"                               XGBoost\": XGBRegressor(),\n",
    "    \"                              LightGBM\": LGBMRegressor(),\n",
    "    \"                              CatBoost\": CatBoostRegressor(verbose=0)\n",
    "}\n",
    "\n",
    "for name, model in models.items():\n",
    "    model.fit(X_train, y_train)\n",
    "    print(name + \" trained.\")\n",
    "\n",
    "for name, model in models.items():\n",
    "    print(name + \" R^2 Score: {:.5f}\".format(model.score(X_test, y_test)))"
   ]
  },
  {
   "cell_type": "code",
   "execution_count": 8,
   "id": "10c5ed8e",
   "metadata": {
    "_cell_guid": "71f44fbb-8a1f-4f88-9467-ddbc0aa037cc",
    "_uuid": "ff4a8204-e254-4cd1-a92c-57838119a8f8",
    "collapsed": false,
    "execution": {
     "iopub.execute_input": "2022-08-23T02:19:54.794698Z",
     "iopub.status.busy": "2022-08-23T02:19:54.793777Z",
     "iopub.status.idle": "2022-08-23T02:19:55.502325Z",
     "shell.execute_reply": "2022-08-23T02:19:55.500818Z"
    },
    "jupyter": {
     "outputs_hidden": false
    },
    "papermill": {
     "duration": 0.720432,
     "end_time": "2022-08-23T02:19:55.505041",
     "exception": false,
     "start_time": "2022-08-23T02:19:54.784609",
     "status": "completed"
    },
    "tags": []
   },
   "outputs": [
    {
     "data": {
      "text/plain": [
       "<catboost.core.CatBoostRegressor at 0x7f9087c5dd50>"
      ]
     },
     "execution_count": 8,
     "metadata": {},
     "output_type": "execute_result"
    }
   ],
   "source": [
    "#model selection linear regression\n",
    "price_reg_model= CatBoostRegressor(verbose=0)\n",
    "price_reg_model.fit(X_train,y_train)\n",
    "\n",
    "order_reg_model = CatBoostRegressor(verbose=0)\n",
    "order_reg_model.fit(w_train,z_train)"
   ]
  },
  {
   "cell_type": "code",
   "execution_count": 9,
   "id": "3f0c71a3",
   "metadata": {
    "_cell_guid": "e391537c-dd5c-4ce2-b68b-fa945e8a62ee",
    "_uuid": "84f14a96-0b06-4cec-b7ea-b24a9bd5b603",
    "collapsed": false,
    "execution": {
     "iopub.execute_input": "2022-08-23T02:19:55.522816Z",
     "iopub.status.busy": "2022-08-23T02:19:55.522398Z",
     "iopub.status.idle": "2022-08-23T02:19:55.531060Z",
     "shell.execute_reply": "2022-08-23T02:19:55.529878Z"
    },
    "jupyter": {
     "outputs_hidden": false
    },
    "papermill": {
     "duration": 0.02036,
     "end_time": "2022-08-23T02:19:55.533570",
     "exception": false,
     "start_time": "2022-08-23T02:19:55.513210",
     "status": "completed"
    },
    "tags": []
   },
   "outputs": [],
   "source": [
    "#Training data prediction\n",
    "price_data_pred= price_reg_model.predict(X_train)\n",
    "price_data_pred\n",
    "price_predict_input = price_reg_model.predict([16,3,8]) #date, season , month"
   ]
  },
  {
   "cell_type": "code",
   "execution_count": 10,
   "id": "ecf7edf8",
   "metadata": {
    "_cell_guid": "7fb72306-18b9-4ac9-95e9-1584f946b286",
    "_uuid": "3fd219f4-0577-4c81-9489-a2a8dade28a3",
    "collapsed": false,
    "execution": {
     "iopub.execute_input": "2022-08-23T02:19:55.551175Z",
     "iopub.status.busy": "2022-08-23T02:19:55.550785Z",
     "iopub.status.idle": "2022-08-23T02:19:55.560713Z",
     "shell.execute_reply": "2022-08-23T02:19:55.559526Z"
    },
    "jupyter": {
     "outputs_hidden": false
    },
    "papermill": {
     "duration": 0.021619,
     "end_time": "2022-08-23T02:19:55.563193",
     "exception": false,
     "start_time": "2022-08-23T02:19:55.541574",
     "status": "completed"
    },
    "tags": []
   },
   "outputs": [
    {
     "data": {
      "text/plain": [
       "1849.183578982907"
      ]
     },
     "execution_count": 10,
     "metadata": {},
     "output_type": "execute_result"
    }
   ],
   "source": [
    "order_data_pred= order_reg_model.predict(w_train)\n",
    "order_data_pred\n",
    "order_predict_input = order_reg_model.predict([15,5,2,6]) #Avg Price, date, season , month\n",
    "order_predict_input"
   ]
  },
  {
   "cell_type": "code",
   "execution_count": 11,
   "id": "c8791179",
   "metadata": {
    "_cell_guid": "7cf6f7e4-cdfe-46a1-bce1-3073ca7c47be",
    "_uuid": "e36c2d35-fe94-4237-8eef-6e8301169b28",
    "collapsed": false,
    "execution": {
     "iopub.execute_input": "2022-08-23T02:19:55.581205Z",
     "iopub.status.busy": "2022-08-23T02:19:55.580820Z",
     "iopub.status.idle": "2022-08-23T02:19:55.587634Z",
     "shell.execute_reply": "2022-08-23T02:19:55.586261Z"
    },
    "jupyter": {
     "outputs_hidden": false
    },
    "papermill": {
     "duration": 0.018736,
     "end_time": "2022-08-23T02:19:55.590137",
     "exception": false,
     "start_time": "2022-08-23T02:19:55.571401",
     "status": "completed"
    },
    "tags": []
   },
   "outputs": [
    {
     "name": "stdout",
     "output_type": "stream",
     "text": [
      "0.9919269171238779\n"
     ]
    }
   ],
   "source": [
    "from sklearn import metrics\n",
    "error_score_price = metrics.r2_score(y_train,price_data_pred )\n",
    "print (error_score_price)"
   ]
  },
  {
   "cell_type": "code",
   "execution_count": 12,
   "id": "b53d2dd7",
   "metadata": {
    "_cell_guid": "43569be7-c65b-40e2-a441-d6346900029c",
    "_uuid": "75b75b79-2e1b-4cf4-b2ed-a0e96773635c",
    "collapsed": false,
    "execution": {
     "iopub.execute_input": "2022-08-23T02:19:55.608630Z",
     "iopub.status.busy": "2022-08-23T02:19:55.608209Z",
     "iopub.status.idle": "2022-08-23T02:19:55.614955Z",
     "shell.execute_reply": "2022-08-23T02:19:55.613730Z"
    },
    "jupyter": {
     "outputs_hidden": false
    },
    "papermill": {
     "duration": 0.019099,
     "end_time": "2022-08-23T02:19:55.617660",
     "exception": false,
     "start_time": "2022-08-23T02:19:55.598561",
     "status": "completed"
    },
    "tags": []
   },
   "outputs": [
    {
     "name": "stdout",
     "output_type": "stream",
     "text": [
      "0.9989888099480451\n"
     ]
    }
   ],
   "source": [
    "error_score_order = metrics.r2_score(z_train,order_data_pred )\n",
    "print (error_score_order)"
   ]
  },
  {
   "cell_type": "code",
   "execution_count": 13,
   "id": "038ad904",
   "metadata": {
    "_cell_guid": "25b9860b-49d7-4f15-9b90-bc190378b341",
    "_uuid": "ca8b49f9-80d9-4e47-a259-e046d40df8f5",
    "collapsed": false,
    "execution": {
     "iopub.execute_input": "2022-08-23T02:19:55.636746Z",
     "iopub.status.busy": "2022-08-23T02:19:55.636367Z",
     "iopub.status.idle": "2022-08-23T02:19:55.644433Z",
     "shell.execute_reply": "2022-08-23T02:19:55.643074Z"
    },
    "jupyter": {
     "outputs_hidden": false
    },
    "papermill": {
     "duration": 0.020358,
     "end_time": "2022-08-23T02:19:55.646874",
     "exception": false,
     "start_time": "2022-08-23T02:19:55.626516",
     "status": "completed"
    },
    "tags": []
   },
   "outputs": [
    {
     "name": "stdout",
     "output_type": "stream",
     "text": [
      "0.47916183565203874\n",
      "7370.141107063334\n"
     ]
    }
   ],
   "source": [
    "from sklearn.metrics import mean_squared_error\n",
    "print(mean_squared_error(y_train, price_data_pred))\n",
    "print(mean_squared_error(z_train, order_data_pred))"
   ]
  },
  {
   "cell_type": "code",
   "execution_count": 14,
   "id": "b37f805f",
   "metadata": {
    "_cell_guid": "f383b5da-a741-415e-9a46-d09eb8999c9a",
    "_uuid": "255d8209-e6f8-4358-ba98-70a12682e631",
    "collapsed": false,
    "execution": {
     "iopub.execute_input": "2022-08-23T02:19:55.664897Z",
     "iopub.status.busy": "2022-08-23T02:19:55.664153Z",
     "iopub.status.idle": "2022-08-23T02:19:55.935497Z",
     "shell.execute_reply": "2022-08-23T02:19:55.934284Z"
    },
    "jupyter": {
     "outputs_hidden": false
    },
    "papermill": {
     "duration": 0.283032,
     "end_time": "2022-08-23T02:19:55.937908",
     "exception": false,
     "start_time": "2022-08-23T02:19:55.654876",
     "status": "completed"
    },
    "tags": []
   },
   "outputs": [
    {
     "data": {
      "image/png": "[encoded data removed]",
      "text/plain": [
       "<Figure size 432x288 with 1 Axes>"
      ]
     },
     "metadata": {
      "needs_background": "light"
     },
     "output_type": "display_data"
    }
   ],
   "source": [
    "\n",
    "#visualize the actual prices and Predicted prices\n",
    "from matplotlib import pyplot as plt\n",
    "#plt.scatter(X_train,y_train, color = 'blue', label = 'Actual')\n",
    "plt.scatter(y_train,price_data_pred)\n",
    "plt.xlabel(\"Actual Price\")\n",
    "plt.ylabel(\"Predicted Price\")\n",
    "plt.title(\"Actual Price Vs Predicted Price\")\n",
    "plt.legend()\n",
    "plt.grid(True)\n",
    "plt.show()"
   ]
  },
  {
   "cell_type": "code",
   "execution_count": 15,
   "id": "710e0ca8",
   "metadata": {
    "_cell_guid": "53bc6913-c7e5-4904-a9b5-cd6984ab6b6f",
    "_uuid": "32b0b58e-b2b3-4a6b-83e9-cdc510fbd93f",
    "collapsed": false,
    "execution": {
     "iopub.execute_input": "2022-08-23T02:19:55.957260Z",
     "iopub.status.busy": "2022-08-23T02:19:55.956374Z",
     "iopub.status.idle": "2022-08-23T02:19:56.168117Z",
     "shell.execute_reply": "2022-08-23T02:19:56.167018Z"
    },
    "jupyter": {
     "outputs_hidden": false
    },
    "papermill": {
     "duration": 0.224418,
     "end_time": "2022-08-23T02:19:56.171046",
     "exception": false,
     "start_time": "2022-08-23T02:19:55.946628",
     "status": "completed"
    },
    "tags": []
   },
   "outputs": [
    {
     "data": {
      "image/png": "[encoded data removed]",
      "text/plain": [
       "<Figure size 432x288 with 1 Axes>"
      ]
     },
     "metadata": {
      "needs_background": "light"
     },
     "output_type": "display_data"
    }
   ],
   "source": [
    "plt.scatter(z_train,order_data_pred)\n",
    "plt.xlabel(\"Actual Demand\")\n",
    "plt.ylabel(\"Predicted Demand\")\n",
    "plt.title(\"Actual Demand Vs Predicted Demand\")\n",
    "plt.legend()\n",
    "plt.grid(True)\n",
    "plt.show()"
   ]
  },
  {
   "cell_type": "code",
   "execution_count": 16,
   "id": "4f5dba9a",
   "metadata": {
    "_cell_guid": "4ffe7676-da09-44a4-a69d-14c285b95a39",
    "_uuid": "4dc7af48-d970-4dcc-ba6e-52d42d62b464",
    "collapsed": false,
    "execution": {
     "iopub.execute_input": "2022-08-23T02:19:56.191182Z",
     "iopub.status.busy": "2022-08-23T02:19:56.190790Z",
     "iopub.status.idle": "2022-08-23T02:19:56.200685Z",
     "shell.execute_reply": "2022-08-23T02:19:56.199371Z"
    },
    "jupyter": {
     "outputs_hidden": false
    },
    "papermill": {
     "duration": 0.023523,
     "end_time": "2022-08-23T02:19:56.203443",
     "exception": false,
     "start_time": "2022-08-23T02:19:56.179920",
     "status": "completed"
    },
    "tags": []
   },
   "outputs": [
    {
     "data": {
      "text/plain": [
       "array([16.25329009, 18.85656715, 16.84911768, 30.28657695, 22.04086922,\n",
       "       15.23540212, 20.93805638, 15.04563231, 19.2251668 , 32.30056905,\n",
       "       34.70140036, 32.13809337, 15.27706254, 33.48099534, 17.06432861,\n",
       "       29.87515866, 13.12199495, 15.63657395, 13.29117322, 32.4342707 ,\n",
       "       11.188724  , 19.04151082, 18.35253684, 16.6121107 , 25.82425223,\n",
       "       20.05147922, 15.72860486,  7.26113419,  7.32489376, 31.35691517,\n",
       "        8.6351134 , 33.24261148, 13.97975211,  6.51248289, 21.14282485,\n",
       "       33.77680672, 19.05168928, 15.7143208 , 17.67864335, 19.32080195,\n",
       "        6.99843738, 13.4392195 , 31.01476916, 11.11472105, 14.92216129,\n",
       "       10.29969528, 15.18636687, 15.97034296, 18.78515347,  9.69299059,\n",
       "        5.73028536, 15.62163204, 16.81935595, 11.0924279 , 15.53388018,\n",
       "       17.51687454, 15.54402925, 18.77835019, 30.19503338, 16.12099494,\n",
       "       18.53405553,  6.55393704, 19.24439216, 19.70532297])"
      ]
     },
     "execution_count": 16,
     "metadata": {},
     "output_type": "execute_result"
    }
   ],
   "source": [
    "#Training data prediction\n",
    "price_testing_data_pred= price_reg_model.predict(X_test)\n",
    "price_testing_data_pred"
   ]
  },
  {
   "cell_type": "code",
   "execution_count": 17,
   "id": "1825fe2f",
   "metadata": {
    "_cell_guid": "864ced2b-642f-4981-91b9-4724caf233de",
    "_uuid": "f9b8ffeb-763d-4f7b-acce-d800cfcd8479",
    "collapsed": false,
    "execution": {
     "iopub.execute_input": "2022-08-23T02:19:56.222866Z",
     "iopub.status.busy": "2022-08-23T02:19:56.222446Z",
     "iopub.status.idle": "2022-08-23T02:19:56.232638Z",
     "shell.execute_reply": "2022-08-23T02:19:56.231351Z"
    },
    "jupyter": {
     "outputs_hidden": false
    },
    "papermill": {
     "duration": 0.022742,
     "end_time": "2022-08-23T02:19:56.235168",
     "exception": false,
     "start_time": "2022-08-23T02:19:56.212426",
     "status": "completed"
    },
    "tags": []
   },
   "outputs": [
    {
     "data": {
      "text/plain": [
       "array([ 831.0427555 ,  792.19606957,  914.54707459,  947.43132682,\n",
       "       2565.42392139, 1091.10655075,  727.77222447,  949.45060901,\n",
       "        879.651648  ,  508.96166493,  857.26597562, 1011.77654096,\n",
       "       2772.16063757,  896.39759782, 1015.13129541,  878.61815345,\n",
       "       2676.53761922,  595.39527225, 4700.9033266 ,  582.97609747,\n",
       "       3790.23129679,  739.87411174, 1157.47200156, 1017.13311089,\n",
       "       1121.98911855,  768.46718017,  993.96681202, 6807.71452412,\n",
       "       7423.19566913, 1008.60426242, 6965.25059653,  739.00843821,\n",
       "       4567.35225908, 7627.58792725,  851.16907664,  666.08924791,\n",
       "        798.52093482, 1213.6761605 ,  845.02292471,  691.23032393,\n",
       "       7576.97913416, 4894.55979039,  806.39371825, 6130.77005159,\n",
       "        975.45259271, 6171.87918104, 2411.83280277,  809.13826227,\n",
       "       1138.11010258, 6202.07475257, 7096.99615949, 1048.42660291,\n",
       "       2758.59844701, 2017.67139821, 1016.25858228, 1612.58645786,\n",
       "       1049.72076492,  805.36819117,  920.84467766, 1104.34178401,\n",
       "        682.5595462 , 7673.8536795 ,  721.78692139,  934.11287342])"
      ]
     },
     "execution_count": 17,
     "metadata": {},
     "output_type": "execute_result"
    }
   ],
   "source": [
    "order_testing_data_pred= order_reg_model.predict(w_test)\n",
    "order_testing_data_pred"
   ]
  },
  {
   "cell_type": "code",
   "execution_count": 18,
   "id": "c0844c06",
   "metadata": {
    "_cell_guid": "37c89140-1a73-474f-b9cd-2f9f56111785",
    "_uuid": "d338be0e-74bb-47a4-b71c-06fa401f9714",
    "collapsed": false,
    "execution": {
     "iopub.execute_input": "2022-08-23T02:19:56.255670Z",
     "iopub.status.busy": "2022-08-23T02:19:56.254527Z",
     "iopub.status.idle": "2022-08-23T02:19:56.263381Z",
     "shell.execute_reply": "2022-08-23T02:19:56.261967Z"
    },
    "jupyter": {
     "outputs_hidden": false
    },
    "papermill": {
     "duration": 0.022993,
     "end_time": "2022-08-23T02:19:56.267274",
     "exception": false,
     "start_time": "2022-08-23T02:19:56.244281",
     "status": "completed"
    },
    "tags": []
   },
   "outputs": [
    {
     "name": "stdout",
     "output_type": "stream",
     "text": [
      "0.9172581168619351\n",
      "0.9369951812851804\n"
     ]
    }
   ],
   "source": [
    "from sklearn import metrics\n",
    "error_score_price_test = metrics.r2_score(y_test,price_testing_data_pred )\n",
    "print (error_score_price_test)\n",
    "error_score_order_test = metrics.r2_score(z_test,order_testing_data_pred )\n",
    "print (error_score_order_test)"
   ]
  },
  {
   "cell_type": "code",
   "execution_count": 19,
   "id": "cee24e59",
   "metadata": {
    "_cell_guid": "56e4bf35-77fb-4fa0-a658-685e4acd98d3",
    "_uuid": "1814f140-944f-4c37-a220-f41c15767bea",
    "collapsed": false,
    "execution": {
     "iopub.execute_input": "2022-08-23T02:19:56.288644Z",
     "iopub.status.busy": "2022-08-23T02:19:56.287366Z",
     "iopub.status.idle": "2022-08-23T02:19:56.294967Z",
     "shell.execute_reply": "2022-08-23T02:19:56.293372Z"
    },
    "jupyter": {
     "outputs_hidden": false
    },
    "papermill": {
     "duration": 0.020185,
     "end_time": "2022-08-23T02:19:56.297112",
     "exception": false,
     "start_time": "2022-08-23T02:19:56.276927",
     "status": "completed"
    },
    "tags": []
   },
   "outputs": [
    {
     "name": "stdout",
     "output_type": "stream",
     "text": [
      "5.67848039479575\n",
      "371994.6872431206\n"
     ]
    }
   ],
   "source": [
    "from sklearn.metrics import mean_squared_error\n",
    "print(mean_squared_error(y_test, price_testing_data_pred))\n",
    "print(mean_squared_error(z_test, order_testing_data_pred))"
   ]
  },
  {
   "cell_type": "code",
   "execution_count": 20,
   "id": "eced0be5",
   "metadata": {
    "_cell_guid": "2051e45b-d2c4-4e18-9beb-977758589713",
    "_uuid": "34b6934e-5ca5-476e-9dde-ea091012163f",
    "collapsed": false,
    "execution": {
     "iopub.execute_input": "2022-08-23T02:19:56.317197Z",
     "iopub.status.busy": "2022-08-23T02:19:56.316804Z",
     "iopub.status.idle": "2022-08-23T02:19:56.556196Z",
     "shell.execute_reply": "2022-08-23T02:19:56.555019Z"
    },
    "jupyter": {
     "outputs_hidden": false
    },
    "papermill": {
     "duration": 0.252553,
     "end_time": "2022-08-23T02:19:56.558794",
     "exception": false,
     "start_time": "2022-08-23T02:19:56.306241",
     "status": "completed"
    },
    "tags": []
   },
   "outputs": [
    {
     "data": {
      "image/png": "[encoded data removed]",
      "text/plain": [
       "<Figure size 432x288 with 1 Axes>"
      ]
     },
     "metadata": {
      "needs_background": "light"
     },
     "output_type": "display_data"
    }
   ],
   "source": [
    "#visualize the actual prices and Predicted prices\n",
    "from matplotlib import pyplot as plt\n",
    "#plt.scatter(X_train,y_train, color = 'blue', label = 'Actual')\n",
    "plt.scatter(y_test,price_testing_data_pred)\n",
    "plt.xlabel(\"Actual Price\")\n",
    "plt.ylabel(\"Predicted Price\")\n",
    "plt.title(\"Actual Price Vs Predicted Price\")\n",
    "plt.legend()\n",
    "plt.grid(True)\n",
    "plt.show()"
   ]
  },
  {
   "cell_type": "code",
   "execution_count": 21,
   "id": "931d27f8",
   "metadata": {
    "_cell_guid": "b6d0b5b6-90df-4188-ba6d-9d6851d9f23a",
    "_uuid": "4226c4b4-2cfb-4158-862e-e57c88e6b6f5",
    "collapsed": false,
    "execution": {
     "iopub.execute_input": "2022-08-23T02:19:56.579341Z",
     "iopub.status.busy": "2022-08-23T02:19:56.578919Z",
     "iopub.status.idle": "2022-08-23T02:19:56.806724Z",
     "shell.execute_reply": "2022-08-23T02:19:56.805545Z"
    },
    "jupyter": {
     "outputs_hidden": false
    },
    "papermill": {
     "duration": 0.240862,
     "end_time": "2022-08-23T02:19:56.809232",
     "exception": false,
     "start_time": "2022-08-23T02:19:56.568370",
     "status": "completed"
    },
    "tags": []
   },
   "outputs": [
    {
     "data": {
      "image/png": "[encoded data removed]",
      "text/plain": [
       "<Figure size 432x288 with 1 Axes>"
      ]
     },
     "metadata": {
      "needs_background": "light"
     },
     "output_type": "display_data"
    }
   ],
   "source": [
    "plt.scatter(z_test,order_testing_data_pred)\n",
    "plt.xlabel(\"Actual Demand\")\n",
    "plt.ylabel(\"Predicted Demand\")\n",
    "plt.title(\"Actual Demand Vs Predicted Demand\")\n",
    "plt.legend()\n",
    "plt.grid(True)\n",
    "plt.show()"
   ]
  }
 ],
 "metadata": {
  "kernelspec": {
   "display_name": "Python 3",
   "language": "python",
   "name": "python3"
  },
  "language_info": {
   "codemirror_mode": {
    "name": "ipython",
    "version": 3
   },
   "file_extension": ".py",
   "mimetype": "text/x-python",
   "name": "python",
   "nbconvert_exporter": "python",
   "pygments_lexer": "ipython3",
   "version": "3.7.12"
  },
  "papermill": {
   "default_parameters": {},
   "duration": 17.214192,
   "end_time": "2022-08-23T02:19:57.643100",
   "environment_variables": {},
   "exception": null,
   "input_path": "__notebook__.ipynb",
   "output_path": "__notebook__.ipynb",
   "parameters": {},
   "start_time": "2022-08-23T02:19:40.428908",
   "version": "2.3.4"
  }
 },
 "nbformat": 4,
 "nbformat_minor": 5
}
