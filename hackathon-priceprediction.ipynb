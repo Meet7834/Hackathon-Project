{
 "cells": [
  {
   "cell_type": "code",
   "execution_count": 1,
   "id": "de364732",
   "metadata": {
    "_cell_guid": "42b80236-74d8-4cc9-81d7-342617816db9",
    "_uuid": "b8a47151-dbc3-4c7d-b8b5-105769a4765a",
    "collapsed": false,
    "execution": {
     "iopub.execute_input": "2022-08-22T18:23:08.074446Z",
     "iopub.status.busy": "2022-08-22T18:23:08.073689Z",
     "iopub.status.idle": "2022-08-22T18:23:08.101069Z",
     "shell.execute_reply": "2022-08-22T18:23:08.099629Z"
    },
    "jupyter": {
     "outputs_hidden": false
    },
    "papermill": {
     "duration": 0.041247,
     "end_time": "2022-08-22T18:23:08.104624",
     "exception": false,
     "start_time": "2022-08-22T18:23:08.063377",
     "status": "completed"
    },
    "tags": []
   },
   "outputs": [
    {
     "name": "stdout",
     "output_type": "stream",
     "text": [
      "/kaggle/input/tomatodataset/README.md\n",
      "/kaggle/input/tomatodataset/noTomatoDataset.csv\n",
      "/kaggle/input/tomatodataset/ModifiedDatasetTomato.csv\n",
      "/kaggle/input/d/meet7834/tomatoprice/README.md\n",
      "/kaggle/input/d/meet7834/tomatoprice/noTomatoDataset.csv\n",
      "/kaggle/input/d/meet7834/tomatoprice/ModifiedDatasetTomato.csv\n"
     ]
    }
   ],
   "source": [
    "# This Python 3 environment comes with many helpful analytics libraries installed\n",
    "# It is defined by the kaggle/python Docker image: https://github.com/kaggle/docker-python\n",
    "# For example, here's several helpful packages to load\n",
    "\n",
    "import numpy as np # linear algebra\n",
    "import pandas as pd # data processing, CSV file I/O (e.g. pd.read_csv)\n",
    "\n",
    "# Input data files are available in the read-only \"../input/\" directory\n",
    "# For example, running this (by clicking run or pressing Shift+Enter) will list all files under the input directory\n",
    "\n",
    "import os\n",
    "for dirname, _, filenames in os.walk('/kaggle/input'):\n",
    "    for filename in filenames:\n",
    "        print(os.path.join(dirname, filename))\n",
    "\n",
    "# You can write up to 20GB to the current directory (/kaggle/working/) that gets preserved as output when you create a version using \"Save & Run All\" \n",
    "# You can also write temporary files to /kaggle/temp/, but they won't be saved outside of the current session"
   ]
  },
  {
   "cell_type": "code",
   "execution_count": 2,
   "id": "ac50a7ee",
   "metadata": {
    "_cell_guid": "2f38eebc-fc4f-449b-9243-b2e999e8f2ef",
    "_uuid": "7ce8bac6-c230-43b7-ad8e-f955f56de205",
    "collapsed": false,
    "execution": {
     "iopub.execute_input": "2022-08-22T18:23:08.120478Z",
     "iopub.status.busy": "2022-08-22T18:23:08.119980Z",
     "iopub.status.idle": "2022-08-22T18:23:11.160402Z",
     "shell.execute_reply": "2022-08-22T18:23:11.159130Z"
    },
    "jupyter": {
     "outputs_hidden": false
    },
    "papermill": {
     "duration": 3.051261,
     "end_time": "2022-08-22T18:23:11.163266",
     "exception": false,
     "start_time": "2022-08-22T18:23:08.112005",
     "status": "completed"
    },
    "tags": []
   },
   "outputs": [
    {
     "data": {
      "text/html": [
       "<style type='text/css'>\n",
       ".datatable table.frame { margin-bottom: 0; }\n",
       ".datatable table.frame thead { border-bottom: none; }\n",
       ".datatable table.frame tr.coltypes td {  color: #FFFFFF;  line-height: 6px;  padding: 0 0.5em;}\n",
       ".datatable .bool    { background: #DDDD99; }\n",
       ".datatable .object  { background: #565656; }\n",
       ".datatable .int     { background: #5D9E5D; }\n",
       ".datatable .float   { background: #4040CC; }\n",
       ".datatable .str     { background: #CC4040; }\n",
       ".datatable .time    { background: #40CC40; }\n",
       ".datatable .row_index {  background: var(--jp-border-color3);  border-right: 1px solid var(--jp-border-color0);  color: var(--jp-ui-font-color3);  font-size: 9px;}\n",
       ".datatable .frame tbody td { text-align: left; }\n",
       ".datatable .frame tr.coltypes .row_index {  background: var(--jp-border-color0);}\n",
       ".datatable th:nth-child(2) { padding-left: 12px; }\n",
       ".datatable .hellipsis {  color: var(--jp-cell-editor-border-color);}\n",
       ".datatable .vellipsis {  background: var(--jp-layout-color0);  color: var(--jp-cell-editor-border-color);}\n",
       ".datatable .na {  color: var(--jp-cell-editor-border-color);  font-size: 80%;}\n",
       ".datatable .sp {  opacity: 0.25;}\n",
       ".datatable .footer { font-size: 9px; }\n",
       ".datatable .frame_dimensions {  background: var(--jp-border-color3);  border-top: 1px solid var(--jp-border-color0);  color: var(--jp-ui-font-color3);  display: inline-block;  opacity: 0.6;  padding: 1px 10px 1px 5px;}\n",
       "</style>\n"
      ],
      "text/plain": [
       "<IPython.core.display.HTML object>"
      ]
     },
     "metadata": {},
     "output_type": "display_data"
    }
   ],
   "source": [
    "import numpy as np\n",
    "import pandas as pd\n",
    "\n",
    "from sklearn.model_selection import train_test_split\n",
    "from sklearn.preprocessing import StandardScaler\n",
    "from sklearn.preprocessing import LabelEncoder\n",
    "from sklearn.linear_model import LinearRegression, Ridge, Lasso\n",
    "from sklearn.neighbors import KNeighborsRegressor\n",
    "from sklearn.neural_network import MLPRegressor\n",
    "from sklearn.svm import LinearSVR, SVR\n",
    "from sklearn.tree import DecisionTreeRegressor\n",
    "from sklearn.ensemble import RandomForestRegressor, GradientBoostingRegressor\n",
    "from xgboost import XGBRegressor\n",
    "from lightgbm import LGBMRegressor\n",
    "from catboost import CatBoostRegressor\n",
    "import seaborn as sns\n",
    "from sklearn. linear_model import Lasso\n",
    "\n",
    "import warnings\n",
    "warnings.filterwarnings(action='ignore')"
   ]
  },
  {
   "cell_type": "code",
   "execution_count": 3,
   "id": "7e7affe6",
   "metadata": {
    "_cell_guid": "e27cfc84-f3c3-4bbf-b866-057ccbda928e",
    "_uuid": "9d47bc12-33f5-4008-8189-795796f6f9c8",
    "collapsed": false,
    "execution": {
     "iopub.execute_input": "2022-08-22T18:23:11.178072Z",
     "iopub.status.busy": "2022-08-22T18:23:11.177655Z",
     "iopub.status.idle": "2022-08-22T18:23:11.219531Z",
     "shell.execute_reply": "2022-08-22T18:23:11.218398Z"
    },
    "jupyter": {
     "outputs_hidden": false
    },
    "papermill": {
     "duration": 0.053071,
     "end_time": "2022-08-22T18:23:11.222897",
     "exception": false,
     "start_time": "2022-08-22T18:23:11.169826",
     "status": "completed"
    },
    "tags": []
   },
   "outputs": [
    {
     "data": {
      "text/html": [
       "<div>\n",
       "<style scoped>\n",
       "    .dataframe tbody tr th:only-of-type {\n",
       "        vertical-align: middle;\n",
       "    }\n",
       "\n",
       "    .dataframe tbody tr th {\n",
       "        vertical-align: top;\n",
       "    }\n",
       "\n",
       "    .dataframe thead th {\n",
       "        text-align: right;\n",
       "    }\n",
       "</style>\n",
       "<table border=\"1\" class=\"dataframe\">\n",
       "  <thead>\n",
       "    <tr style=\"text-align: right;\">\n",
       "      <th></th>\n",
       "      <th>prod_id</th>\n",
       "      <th>avg price</th>\n",
       "      <th>prod_name</th>\n",
       "      <th>order date</th>\n",
       "      <th>pack sold</th>\n",
       "      <th>order</th>\n",
       "      <th>Season</th>\n",
       "      <th>Month</th>\n",
       "    </tr>\n",
       "  </thead>\n",
       "  <tbody>\n",
       "    <tr>\n",
       "      <th>0</th>\n",
       "      <td>996</td>\n",
       "      <td>4.645859</td>\n",
       "      <td>Tomato Desi 500 Gm</td>\n",
       "      <td>1</td>\n",
       "      <td>7687</td>\n",
       "      <td>6472</td>\n",
       "      <td>winter</td>\n",
       "      <td>march</td>\n",
       "    </tr>\n",
       "    <tr>\n",
       "      <th>1</th>\n",
       "      <td>996</td>\n",
       "      <td>10.222268</td>\n",
       "      <td>Tomato Desi 500 Gm</td>\n",
       "      <td>2</td>\n",
       "      <td>2974</td>\n",
       "      <td>2434</td>\n",
       "      <td>winter</td>\n",
       "      <td>march</td>\n",
       "    </tr>\n",
       "    <tr>\n",
       "      <th>2</th>\n",
       "      <td>996</td>\n",
       "      <td>16.719044</td>\n",
       "      <td>Tomato Desi 500 Gm</td>\n",
       "      <td>3</td>\n",
       "      <td>1568</td>\n",
       "      <td>1171</td>\n",
       "      <td>winter</td>\n",
       "      <td>march</td>\n",
       "    </tr>\n",
       "    <tr>\n",
       "      <th>3</th>\n",
       "      <td>996</td>\n",
       "      <td>16.853556</td>\n",
       "      <td>Tomato Desi 500 Gm</td>\n",
       "      <td>4</td>\n",
       "      <td>1700</td>\n",
       "      <td>1195</td>\n",
       "      <td>winter</td>\n",
       "      <td>march</td>\n",
       "    </tr>\n",
       "    <tr>\n",
       "      <th>4</th>\n",
       "      <td>996</td>\n",
       "      <td>16.427644</td>\n",
       "      <td>Tomato Desi 500 Gm</td>\n",
       "      <td>5</td>\n",
       "      <td>1549</td>\n",
       "      <td>1078</td>\n",
       "      <td>winter</td>\n",
       "      <td>march</td>\n",
       "    </tr>\n",
       "    <tr>\n",
       "      <th>...</th>\n",
       "      <td>...</td>\n",
       "      <td>...</td>\n",
       "      <td>...</td>\n",
       "      <td>...</td>\n",
       "      <td>...</td>\n",
       "      <td>...</td>\n",
       "      <td>...</td>\n",
       "      <td>...</td>\n",
       "    </tr>\n",
       "    <tr>\n",
       "      <th>154</th>\n",
       "      <td>996</td>\n",
       "      <td>8.286688</td>\n",
       "      <td>Tomato (Desi)</td>\n",
       "      <td>18</td>\n",
       "      <td>7672</td>\n",
       "      <td>6863</td>\n",
       "      <td>monsoon</td>\n",
       "      <td>august</td>\n",
       "    </tr>\n",
       "    <tr>\n",
       "      <th>155</th>\n",
       "      <td>996</td>\n",
       "      <td>8.215190</td>\n",
       "      <td>Tomato (Desi)</td>\n",
       "      <td>19</td>\n",
       "      <td>7054</td>\n",
       "      <td>6306</td>\n",
       "      <td>monsoon</td>\n",
       "      <td>august</td>\n",
       "    </tr>\n",
       "    <tr>\n",
       "      <th>156</th>\n",
       "      <td>996</td>\n",
       "      <td>10.790909</td>\n",
       "      <td>Tomato (Desi)</td>\n",
       "      <td>20</td>\n",
       "      <td>1163</td>\n",
       "      <td>962</td>\n",
       "      <td>monsoon</td>\n",
       "      <td>august</td>\n",
       "    </tr>\n",
       "    <tr>\n",
       "      <th>157</th>\n",
       "      <td>996</td>\n",
       "      <td>11.784903</td>\n",
       "      <td>Tomato (Desi)</td>\n",
       "      <td>21</td>\n",
       "      <td>1837</td>\n",
       "      <td>1464</td>\n",
       "      <td>monsoon</td>\n",
       "      <td>august</td>\n",
       "    </tr>\n",
       "    <tr>\n",
       "      <th>158</th>\n",
       "      <td>996</td>\n",
       "      <td>11.569352</td>\n",
       "      <td>Tomato (Desi)</td>\n",
       "      <td>22</td>\n",
       "      <td>1947</td>\n",
       "      <td>1609</td>\n",
       "      <td>monsoon</td>\n",
       "      <td>august</td>\n",
       "    </tr>\n",
       "  </tbody>\n",
       "</table>\n",
       "<p>159 rows × 8 columns</p>\n",
       "</div>"
      ],
      "text/plain": [
       "     prod_id  avg price           prod_name  order date  pack sold  order  \\\n",
       "0        996   4.645859  Tomato Desi 500 Gm           1       7687   6472   \n",
       "1        996  10.222268  Tomato Desi 500 Gm           2       2974   2434   \n",
       "2        996  16.719044  Tomato Desi 500 Gm           3       1568   1171   \n",
       "3        996  16.853556  Tomato Desi 500 Gm           4       1700   1195   \n",
       "4        996  16.427644  Tomato Desi 500 Gm           5       1549   1078   \n",
       "..       ...        ...                 ...         ...        ...    ...   \n",
       "154      996   8.286688       Tomato (Desi)          18       7672   6863   \n",
       "155      996   8.215190       Tomato (Desi)          19       7054   6306   \n",
       "156      996  10.790909       Tomato (Desi)          20       1163    962   \n",
       "157      996  11.784903       Tomato (Desi)          21       1837   1464   \n",
       "158      996  11.569352       Tomato (Desi)          22       1947   1609   \n",
       "\n",
       "      Season   Month  \n",
       "0     winter   march  \n",
       "1     winter   march  \n",
       "2     winter   march  \n",
       "3     winter   march  \n",
       "4     winter   march  \n",
       "..       ...     ...  \n",
       "154  monsoon  august  \n",
       "155  monsoon  august  \n",
       "156  monsoon  august  \n",
       "157  monsoon  august  \n",
       "158  monsoon  august  \n",
       "\n",
       "[159 rows x 8 columns]"
      ]
     },
     "execution_count": 3,
     "metadata": {},
     "output_type": "execute_result"
    }
   ],
   "source": [
    "import pandas as pd\n",
    "data=pd.read_csv('../input/tomatodataset/ModifiedDatasetTomato.csv')\n",
    "data"
   ]
  },
  {
   "cell_type": "code",
   "execution_count": 4,
   "id": "6653f60a",
   "metadata": {
    "_cell_guid": "3ae41b7e-5029-4e23-8980-ef96dfe91b2d",
    "_uuid": "8575fc8e-8f47-429c-a401-22f24824c876",
    "collapsed": false,
    "execution": {
     "iopub.execute_input": "2022-08-22T18:23:11.238960Z",
     "iopub.status.busy": "2022-08-22T18:23:11.237856Z",
     "iopub.status.idle": "2022-08-22T18:23:11.261116Z",
     "shell.execute_reply": "2022-08-22T18:23:11.259964Z"
    },
    "jupyter": {
     "outputs_hidden": false
    },
    "papermill": {
     "duration": 0.033825,
     "end_time": "2022-08-22T18:23:11.263686",
     "exception": false,
     "start_time": "2022-08-22T18:23:11.229861",
     "status": "completed"
    },
    "tags": []
   },
   "outputs": [
    {
     "data": {
      "text/html": [
       "<div>\n",
       "<style scoped>\n",
       "    .dataframe tbody tr th:only-of-type {\n",
       "        vertical-align: middle;\n",
       "    }\n",
       "\n",
       "    .dataframe tbody tr th {\n",
       "        vertical-align: top;\n",
       "    }\n",
       "\n",
       "    .dataframe thead th {\n",
       "        text-align: right;\n",
       "    }\n",
       "</style>\n",
       "<table border=\"1\" class=\"dataframe\">\n",
       "  <thead>\n",
       "    <tr style=\"text-align: right;\">\n",
       "      <th></th>\n",
       "      <th>prod_id</th>\n",
       "      <th>avg price</th>\n",
       "      <th>prod_name</th>\n",
       "      <th>order date</th>\n",
       "      <th>pack sold</th>\n",
       "      <th>order</th>\n",
       "      <th>Season</th>\n",
       "      <th>Month</th>\n",
       "    </tr>\n",
       "  </thead>\n",
       "  <tbody>\n",
       "    <tr>\n",
       "      <th>0</th>\n",
       "      <td>996</td>\n",
       "      <td>4.645859</td>\n",
       "      <td>Tomato Desi 500 Gm</td>\n",
       "      <td>1</td>\n",
       "      <td>7687</td>\n",
       "      <td>6472</td>\n",
       "      <td>1</td>\n",
       "      <td>3</td>\n",
       "    </tr>\n",
       "    <tr>\n",
       "      <th>1</th>\n",
       "      <td>996</td>\n",
       "      <td>10.222268</td>\n",
       "      <td>Tomato Desi 500 Gm</td>\n",
       "      <td>2</td>\n",
       "      <td>2974</td>\n",
       "      <td>2434</td>\n",
       "      <td>1</td>\n",
       "      <td>3</td>\n",
       "    </tr>\n",
       "    <tr>\n",
       "      <th>2</th>\n",
       "      <td>996</td>\n",
       "      <td>16.719044</td>\n",
       "      <td>Tomato Desi 500 Gm</td>\n",
       "      <td>3</td>\n",
       "      <td>1568</td>\n",
       "      <td>1171</td>\n",
       "      <td>1</td>\n",
       "      <td>3</td>\n",
       "    </tr>\n",
       "    <tr>\n",
       "      <th>3</th>\n",
       "      <td>996</td>\n",
       "      <td>16.853556</td>\n",
       "      <td>Tomato Desi 500 Gm</td>\n",
       "      <td>4</td>\n",
       "      <td>1700</td>\n",
       "      <td>1195</td>\n",
       "      <td>1</td>\n",
       "      <td>3</td>\n",
       "    </tr>\n",
       "    <tr>\n",
       "      <th>4</th>\n",
       "      <td>996</td>\n",
       "      <td>16.427644</td>\n",
       "      <td>Tomato Desi 500 Gm</td>\n",
       "      <td>5</td>\n",
       "      <td>1549</td>\n",
       "      <td>1078</td>\n",
       "      <td>1</td>\n",
       "      <td>3</td>\n",
       "    </tr>\n",
       "    <tr>\n",
       "      <th>...</th>\n",
       "      <td>...</td>\n",
       "      <td>...</td>\n",
       "      <td>...</td>\n",
       "      <td>...</td>\n",
       "      <td>...</td>\n",
       "      <td>...</td>\n",
       "      <td>...</td>\n",
       "      <td>...</td>\n",
       "    </tr>\n",
       "    <tr>\n",
       "      <th>154</th>\n",
       "      <td>996</td>\n",
       "      <td>8.286688</td>\n",
       "      <td>Tomato (Desi)</td>\n",
       "      <td>18</td>\n",
       "      <td>7672</td>\n",
       "      <td>6863</td>\n",
       "      <td>3</td>\n",
       "      <td>8</td>\n",
       "    </tr>\n",
       "    <tr>\n",
       "      <th>155</th>\n",
       "      <td>996</td>\n",
       "      <td>8.215190</td>\n",
       "      <td>Tomato (Desi)</td>\n",
       "      <td>19</td>\n",
       "      <td>7054</td>\n",
       "      <td>6306</td>\n",
       "      <td>3</td>\n",
       "      <td>8</td>\n",
       "    </tr>\n",
       "    <tr>\n",
       "      <th>156</th>\n",
       "      <td>996</td>\n",
       "      <td>10.790909</td>\n",
       "      <td>Tomato (Desi)</td>\n",
       "      <td>20</td>\n",
       "      <td>1163</td>\n",
       "      <td>962</td>\n",
       "      <td>3</td>\n",
       "      <td>8</td>\n",
       "    </tr>\n",
       "    <tr>\n",
       "      <th>157</th>\n",
       "      <td>996</td>\n",
       "      <td>11.784903</td>\n",
       "      <td>Tomato (Desi)</td>\n",
       "      <td>21</td>\n",
       "      <td>1837</td>\n",
       "      <td>1464</td>\n",
       "      <td>3</td>\n",
       "      <td>8</td>\n",
       "    </tr>\n",
       "    <tr>\n",
       "      <th>158</th>\n",
       "      <td>996</td>\n",
       "      <td>11.569352</td>\n",
       "      <td>Tomato (Desi)</td>\n",
       "      <td>22</td>\n",
       "      <td>1947</td>\n",
       "      <td>1609</td>\n",
       "      <td>3</td>\n",
       "      <td>8</td>\n",
       "    </tr>\n",
       "  </tbody>\n",
       "</table>\n",
       "<p>159 rows × 8 columns</p>\n",
       "</div>"
      ],
      "text/plain": [
       "     prod_id  avg price           prod_name  order date  pack sold  order  \\\n",
       "0        996   4.645859  Tomato Desi 500 Gm           1       7687   6472   \n",
       "1        996  10.222268  Tomato Desi 500 Gm           2       2974   2434   \n",
       "2        996  16.719044  Tomato Desi 500 Gm           3       1568   1171   \n",
       "3        996  16.853556  Tomato Desi 500 Gm           4       1700   1195   \n",
       "4        996  16.427644  Tomato Desi 500 Gm           5       1549   1078   \n",
       "..       ...        ...                 ...         ...        ...    ...   \n",
       "154      996   8.286688       Tomato (Desi)          18       7672   6863   \n",
       "155      996   8.215190       Tomato (Desi)          19       7054   6306   \n",
       "156      996  10.790909       Tomato (Desi)          20       1163    962   \n",
       "157      996  11.784903       Tomato (Desi)          21       1837   1464   \n",
       "158      996  11.569352       Tomato (Desi)          22       1947   1609   \n",
       "\n",
       "     Season  Month  \n",
       "0         1      3  \n",
       "1         1      3  \n",
       "2         1      3  \n",
       "3         1      3  \n",
       "4         1      3  \n",
       "..      ...    ...  \n",
       "154       3      8  \n",
       "155       3      8  \n",
       "156       3      8  \n",
       "157       3      8  \n",
       "158       3      8  \n",
       "\n",
       "[159 rows x 8 columns]"
      ]
     },
     "execution_count": 4,
     "metadata": {},
     "output_type": "execute_result"
    }
   ],
   "source": [
    "#encoding season column\n",
    "data.replace({'Season':{'winter':1,'summer':2,'monsoon':3}},inplace=True)\n",
    "data.replace({'Month':{ \n",
    "        'march': 3,\n",
    "        'april': 4,\n",
    "        'may': 5,\n",
    "        'june': 6,\n",
    "        'july': 7,\n",
    "        'august': 8}},inplace=True)\n",
    "              \n",
    "data"
   ]
  },
  {
   "cell_type": "code",
   "execution_count": 5,
   "id": "96ea04ec",
   "metadata": {
    "_cell_guid": "a516f974-9b20-4479-bc10-88912d17afc3",
    "_uuid": "ad82865d-917e-476b-ba17-d2f25be6ac49",
    "collapsed": false,
    "execution": {
     "iopub.execute_input": "2022-08-22T18:23:11.279937Z",
     "iopub.status.busy": "2022-08-22T18:23:11.279252Z",
     "iopub.status.idle": "2022-08-22T18:23:11.291527Z",
     "shell.execute_reply": "2022-08-22T18:23:11.290520Z"
    },
    "jupyter": {
     "outputs_hidden": false
    },
    "papermill": {
     "duration": 0.02357,
     "end_time": "2022-08-22T18:23:11.294370",
     "exception": false,
     "start_time": "2022-08-22T18:23:11.270800",
     "status": "completed"
    },
    "tags": []
   },
   "outputs": [],
   "source": [
    "#splitting dataset into X and y\n",
    "y = data['avg price']\n",
    "X = data.drop(['avg price','prod_name'], axis=1)\n",
    "#for demand\n",
    "z = data['order']\n",
    "w = data.drop(['order', 'pack sold' , 'prod_id', 'prod_name'], axis =1)"
   ]
  },
  {
   "cell_type": "code",
   "execution_count": 6,
   "id": "325512de",
   "metadata": {
    "_cell_guid": "bd67d7a8-6d50-4fdf-9886-0e5030aa01c0",
    "_uuid": "160900f3-290e-44e0-be56-4cf43c9c8236",
    "collapsed": false,
    "execution": {
     "iopub.execute_input": "2022-08-22T18:23:11.309828Z",
     "iopub.status.busy": "2022-08-22T18:23:11.309399Z",
     "iopub.status.idle": "2022-08-22T18:23:11.320856Z",
     "shell.execute_reply": "2022-08-22T18:23:11.319821Z"
    },
    "jupyter": {
     "outputs_hidden": false
    },
    "papermill": {
     "duration": 0.02219,
     "end_time": "2022-08-22T18:23:11.323427",
     "exception": false,
     "start_time": "2022-08-22T18:23:11.301237",
     "status": "completed"
    },
    "tags": []
   },
   "outputs": [],
   "source": [
    "#splitting into testing and trainning\n",
    "X_train,X_test,y_train,y_test=train_test_split(X,y,train_size=0.7,shuffle=False,random_state=1)\n",
    "X_train,X_test,y_train,y_test=train_test_split(X,y,train_size=0.7,shuffle=False,random_state=1)\n",
    "w_train,w_test,z_train,z_test=train_test_split(w,z,train_size=0.7,shuffle=False,random_state=1)\n",
    "w_train,w_test,z_train,z_test=train_test_split(w,z,train_size=0.7,shuffle=False,random_state=1)"
   ]
  },
  {
   "cell_type": "code",
   "execution_count": 7,
   "id": "54453c99",
   "metadata": {
    "_cell_guid": "e09c50b4-873d-4c88-b06c-bed90cfadcc9",
    "_uuid": "8c7031f8-ec0a-4453-acfc-53e02455736e",
    "collapsed": false,
    "execution": {
     "iopub.execute_input": "2022-08-22T18:23:11.339983Z",
     "iopub.status.busy": "2022-08-22T18:23:11.338999Z",
     "iopub.status.idle": "2022-08-22T18:23:11.370516Z",
     "shell.execute_reply": "2022-08-22T18:23:11.369319Z"
    },
    "jupyter": {
     "outputs_hidden": false
    },
    "papermill": {
     "duration": 0.042097,
     "end_time": "2022-08-22T18:23:11.372880",
     "exception": false,
     "start_time": "2022-08-22T18:23:11.330783",
     "status": "completed"
    },
    "tags": []
   },
   "outputs": [
    {
     "data": {
      "text/plain": [
       "LinearRegression()"
      ]
     },
     "execution_count": 7,
     "metadata": {},
     "output_type": "execute_result"
    }
   ],
   "source": [
    "#model selection linear regression\n",
    "price_reg_model=LinearRegression()\n",
    "price_reg_model.fit(X_train,y_train)\n",
    "\n",
    "order_reg_model =LinearRegression()\n",
    "order_reg_model.fit(w_train,z_train)"
   ]
  },
  {
   "cell_type": "code",
   "execution_count": 8,
   "id": "e9bc6a21",
   "metadata": {
    "_cell_guid": "b4b00a0f-1f0d-4621-8621-bd79e92a288f",
    "_uuid": "161be173-c061-4140-9dbf-cd4ca7753426",
    "collapsed": false,
    "execution": {
     "iopub.execute_input": "2022-08-22T18:23:11.389043Z",
     "iopub.status.busy": "2022-08-22T18:23:11.388369Z",
     "iopub.status.idle": "2022-08-22T18:23:11.402225Z",
     "shell.execute_reply": "2022-08-22T18:23:11.401082Z"
    },
    "jupyter": {
     "outputs_hidden": false
    },
    "papermill": {
     "duration": 0.024714,
     "end_time": "2022-08-22T18:23:11.404549",
     "exception": false,
     "start_time": "2022-08-22T18:23:11.379835",
     "status": "completed"
    },
    "tags": []
   },
   "outputs": [
    {
     "data": {
      "text/plain": [
       "array([2757.2073888 , 1813.75735457,  711.4109542 ,  707.47489449,\n",
       "        800.29299599,  654.71363272,  701.0680734 ,  853.99220975,\n",
       "       1554.24228026, 1150.88316415, 1162.48822345, 1181.77493031,\n",
       "       1201.06163716, 1220.34834402, 1239.63505088, 1258.92175774,\n",
       "        620.77761363,  640.06432048,  739.01343986,  748.47114599,\n",
       "        717.38379248,  880.88862402,  873.26366775,  561.47764927,\n",
       "        450.18808753,  468.35553963, 2269.51739799,  444.14917202,\n",
       "        356.83217223,  493.26978789,  970.01146685,  989.71062159,\n",
       "       1008.99732845, 1028.2840353 , 1047.57074216,  496.77920473,\n",
       "        568.84991752,  462.17151964,  314.61606661,  540.52396902,\n",
       "        760.21787538,  837.2885476 ,  856.57525445,  875.86196131,\n",
       "        895.14866817,  914.43537502,  933.72208188,  823.62463091,\n",
       "        799.65092431,  915.78709219,  937.88238093, 1597.44238933,\n",
       "       1383.63164711, 1817.16743557, 1262.21516398, 1298.41913973,\n",
       "       1429.408438  , 1633.85758004, 1712.9399068 , 1727.89996806,\n",
       "       2068.06939972, 2095.45762573, 1777.29411678, 1768.82769087,\n",
       "       1620.42368978, 3057.31206323, 3256.08973449, 3059.35992822,\n",
       "       2759.99067995, 2057.52760641, 1967.33279426, 1901.75658003,\n",
       "       3090.83887752, 3033.08208122, 2526.57232253, 2610.87317675,\n",
       "       2534.06643316, 2864.72504804, 1861.26289761, 2004.9773093 ,\n",
       "       3048.64453729, 2860.59668122,  719.28681808,  568.76187842,\n",
       "        274.3729081 ,  531.95763645,  762.11432176,  665.51249692,\n",
       "       1078.3791374 , 1097.66584426, 1335.04718694, 1073.73329094,\n",
       "        733.69277986,  792.86901491,  774.71377566,  804.85447407,\n",
       "        680.21016416,  417.31474705,  466.12730113,  940.08505364,\n",
       "        572.43574065,  661.56580882,  716.61065928,  614.12545274,\n",
       "        441.17605501, -186.85890798,  162.48892363,  348.78663676,\n",
       "       4341.77700776, 3868.10079364, 4458.3950905 ])"
      ]
     },
     "execution_count": 8,
     "metadata": {},
     "output_type": "execute_result"
    }
   ],
   "source": [
    "#Training data prediction\n",
    "price_data_pred= price_reg_model.predict(X_train)\n",
    "price_data_pred\n",
    "\n",
    "order_data_pred= order_reg_model.predict(w_train)\n",
    "order_data_pred"
   ]
  },
  {
   "cell_type": "code",
   "execution_count": 9,
   "id": "e3babe82",
   "metadata": {
    "_cell_guid": "38b75834-827c-4011-9229-038bd39b9087",
    "_uuid": "ff293708-5b8f-45ae-ba4a-0659874612e6",
    "collapsed": false,
    "execution": {
     "iopub.execute_input": "2022-08-22T18:23:11.420649Z",
     "iopub.status.busy": "2022-08-22T18:23:11.420215Z",
     "iopub.status.idle": "2022-08-22T18:23:11.426878Z",
     "shell.execute_reply": "2022-08-22T18:23:11.425917Z"
    },
    "jupyter": {
     "outputs_hidden": false
    },
    "papermill": {
     "duration": 0.017391,
     "end_time": "2022-08-22T18:23:11.429119",
     "exception": false,
     "start_time": "2022-08-22T18:23:11.411728",
     "status": "completed"
    },
    "tags": []
   },
   "outputs": [
    {
     "name": "stdout",
     "output_type": "stream",
     "text": [
      "0.8540594637974259\n"
     ]
    }
   ],
   "source": [
    "from sklearn import metrics\n",
    "error_score_price = metrics.r2_score(y_train,price_data_pred )\n",
    "print (error_score_price)"
   ]
  },
  {
   "cell_type": "code",
   "execution_count": 10,
   "id": "62677488",
   "metadata": {
    "_cell_guid": "8fbc017e-faf1-4b5c-b891-be352e6eba6c",
    "_uuid": "622b05a7-1d63-4ad6-903b-6d78dd2510fa",
    "collapsed": false,
    "execution": {
     "iopub.execute_input": "2022-08-22T18:23:11.445626Z",
     "iopub.status.busy": "2022-08-22T18:23:11.445179Z",
     "iopub.status.idle": "2022-08-22T18:23:11.451016Z",
     "shell.execute_reply": "2022-08-22T18:23:11.450027Z"
    },
    "jupyter": {
     "outputs_hidden": false
    },
    "papermill": {
     "duration": 0.016973,
     "end_time": "2022-08-22T18:23:11.453433",
     "exception": false,
     "start_time": "2022-08-22T18:23:11.436460",
     "status": "completed"
    },
    "tags": []
   },
   "outputs": [
    {
     "name": "stdout",
     "output_type": "stream",
     "text": [
      "0.6764924363348611\n"
     ]
    }
   ],
   "source": [
    "error_score_order = metrics.r2_score(z_train,order_data_pred )\n",
    "print (error_score_order)"
   ]
  },
  {
   "cell_type": "code",
   "execution_count": 11,
   "id": "33156ef9",
   "metadata": {
    "_cell_guid": "0f2c8280-f3ba-44df-9456-5d3a70911ab4",
    "_uuid": "acfa0068-448a-4083-bd79-36a3f5f26e94",
    "collapsed": false,
    "execution": {
     "iopub.execute_input": "2022-08-22T18:23:11.470242Z",
     "iopub.status.busy": "2022-08-22T18:23:11.469833Z",
     "iopub.status.idle": "2022-08-22T18:23:11.476957Z",
     "shell.execute_reply": "2022-08-22T18:23:11.476061Z"
    },
    "jupyter": {
     "outputs_hidden": false
    },
    "papermill": {
     "duration": 0.018576,
     "end_time": "2022-08-22T18:23:11.479598",
     "exception": false,
     "start_time": "2022-08-22T18:23:11.461022",
     "status": "completed"
    },
    "tags": []
   },
   "outputs": [
    {
     "name": "stdout",
     "output_type": "stream",
     "text": [
      "7.413448755512672\n",
      "399705.0674669081\n"
     ]
    }
   ],
   "source": [
    "from sklearn.metrics import mean_squared_error\n",
    "print(mean_squared_error(y_train, price_data_pred))\n",
    "print(mean_squared_error(z_train, order_data_pred))"
   ]
  },
  {
   "cell_type": "code",
   "execution_count": 12,
   "id": "92dd4721",
   "metadata": {
    "_cell_guid": "4404572b-71ae-461f-b7a3-88a9f1e71064",
    "_uuid": "5cbc3b6d-9c95-4767-ad47-704df85a9b87",
    "collapsed": false,
    "execution": {
     "iopub.execute_input": "2022-08-22T18:23:11.496540Z",
     "iopub.status.busy": "2022-08-22T18:23:11.496026Z",
     "iopub.status.idle": "2022-08-22T18:23:11.763256Z",
     "shell.execute_reply": "2022-08-22T18:23:11.762001Z"
    },
    "jupyter": {
     "outputs_hidden": false
    },
    "papermill": {
     "duration": 0.278807,
     "end_time": "2022-08-22T18:23:11.765777",
     "exception": false,
     "start_time": "2022-08-22T18:23:11.486970",
     "status": "completed"
    },
    "tags": []
   },
   "outputs": [
    {
     "data": {
      "image/png": "[encoded data removed]",
      "text/plain": [
       "<Figure size 432x288 with 1 Axes>"
      ]
     },
     "metadata": {
      "needs_background": "light"
     },
     "output_type": "display_data"
    }
   ],
   "source": [
    "\n",
    "#visualize the actual prices and Predicted prices\n",
    "from matplotlib import pyplot as plt\n",
    "#plt.scatter(X_train,y_train, color = 'blue', label = 'Actual')\n",
    "plt.scatter(y_train,price_data_pred)\n",
    "plt.xlabel(\"Actual Price\")\n",
    "plt.ylabel(\"Predicted Price\")\n",
    "plt.title(\"Actual Price Vs Predicted Price\")\n",
    "plt.legend()\n",
    "plt.grid(True)\n",
    "plt.show()"
   ]
  },
  {
   "cell_type": "code",
   "execution_count": 13,
   "id": "0a821d61",
   "metadata": {
    "_cell_guid": "62e7101d-7f68-4bac-b534-0616f1886f93",
    "_uuid": "6b0054ba-e392-4b44-a967-d523aa6144fe",
    "collapsed": false,
    "execution": {
     "iopub.execute_input": "2022-08-22T18:23:11.783903Z",
     "iopub.status.busy": "2022-08-22T18:23:11.783466Z",
     "iopub.status.idle": "2022-08-22T18:23:11.951146Z",
     "shell.execute_reply": "2022-08-22T18:23:11.949737Z"
    },
    "jupyter": {
     "outputs_hidden": false
    },
    "papermill": {
     "duration": 0.180327,
     "end_time": "2022-08-22T18:23:11.953961",
     "exception": false,
     "start_time": "2022-08-22T18:23:11.773634",
     "status": "completed"
    },
    "tags": []
   },
   "outputs": [
    {
     "data": {
      "image/png": "[encoded data removed]",
      "text/plain": [
       "<Figure size 432x288 with 1 Axes>"
      ]
     },
     "metadata": {
      "needs_background": "light"
     },
     "output_type": "display_data"
    }
   ],
   "source": [
    "plt.scatter(z_train,order_data_pred)\n",
    "plt.xlabel(\"Actual Demand\")\n",
    "plt.ylabel(\"Predicted Demand\")\n",
    "plt.title(\"Actual Demand Vs Predicted Demand\")\n",
    "plt.legend()\n",
    "plt.grid(True)\n",
    "plt.show()"
   ]
  },
  {
   "cell_type": "code",
   "execution_count": 14,
   "id": "77982e48",
   "metadata": {
    "_cell_guid": "0df925b9-97b4-482c-9b46-5bffbf99f50f",
    "_uuid": "bfe72e2a-3525-4ab4-9372-9a011740a529",
    "collapsed": false,
    "execution": {
     "iopub.execute_input": "2022-08-22T18:23:11.972782Z",
     "iopub.status.busy": "2022-08-22T18:23:11.972377Z",
     "iopub.status.idle": "2022-08-22T18:23:11.983355Z",
     "shell.execute_reply": "2022-08-22T18:23:11.982517Z"
    },
    "jupyter": {
     "outputs_hidden": false
    },
    "papermill": {
     "duration": 0.023386,
     "end_time": "2022-08-22T18:23:11.985575",
     "exception": false,
     "start_time": "2022-08-22T18:23:11.962189",
     "status": "completed"
    },
    "tags": []
   },
   "outputs": [
    {
     "data": {
      "text/plain": [
       "array([3741.81038161, 3672.32911983, 4689.46243101, 5038.63803938,\n",
       "       4721.20015557, 4679.78848406, 4957.95917844, 4908.87345573,\n",
       "       5108.24899514, 4546.92838324, 4998.96010255, 4923.85097304,\n",
       "       4991.97882911, 5313.35348217, 5146.54902267, 4992.93926981,\n",
       "       5330.70238144, 5568.08406942, 5856.79454223, 5597.04066258,\n",
       "       5734.45700031, 5641.21363031, 5545.83913573, 5778.83185341,\n",
       "       5843.5755306 , 5849.80547382, 6315.03383162, 6221.7086281 ,\n",
       "       6214.07987365, 6283.2782987 , 6271.36243426, 6270.57161334,\n",
       "       6271.38897661, 6179.62033655, 6317.5716998 , 6336.83458171,\n",
       "       6303.69914565, 5976.07454156, 5317.10305254, 6202.86040548,\n",
       "       5786.96090564, 5432.24957682, 5674.8546263 , 6159.26410851,\n",
       "       6190.89455692, 5765.49736129, 5613.17640016, 5669.676817  ])"
      ]
     },
     "execution_count": 14,
     "metadata": {},
     "output_type": "execute_result"
    }
   ],
   "source": [
    "#Training data prediction\n",
    "price_testing_data_pred= price_reg_model.predict(X_test)\n",
    "price_testing_data_pred\n",
    "\n",
    "order_testing_data_pred= order_reg_model.predict(w_test)\n",
    "order_testing_data_pred"
   ]
  },
  {
   "cell_type": "code",
   "execution_count": 15,
   "id": "76b2eef2",
   "metadata": {
    "_cell_guid": "8b47cad1-6a80-4bbd-99f2-d12d1ce95789",
    "_uuid": "18003325-1d5e-4c41-90d3-999b6cd7f740",
    "collapsed": false,
    "execution": {
     "iopub.execute_input": "2022-08-22T18:23:12.005190Z",
     "iopub.status.busy": "2022-08-22T18:23:12.004048Z",
     "iopub.status.idle": "2022-08-22T18:23:12.012022Z",
     "shell.execute_reply": "2022-08-22T18:23:12.010833Z"
    },
    "jupyter": {
     "outputs_hidden": false
    },
    "papermill": {
     "duration": 0.020506,
     "end_time": "2022-08-22T18:23:12.015194",
     "exception": false,
     "start_time": "2022-08-22T18:23:11.994688",
     "status": "completed"
    },
    "tags": []
   },
   "outputs": [
    {
     "name": "stdout",
     "output_type": "stream",
     "text": [
      "-9.063048502537237\n",
      "0.00554458653399359\n"
     ]
    }
   ],
   "source": [
    "from sklearn import metrics\n",
    "error_score_price_test = metrics.r2_score(y_test,price_testing_data_pred )\n",
    "print (error_score_price_test)\n",
    "error_score_order_test = metrics.r2_score(z_test,order_testing_data_pred )\n",
    "print (error_score_order_test)"
   ]
  },
  {
   "cell_type": "code",
   "execution_count": 16,
   "id": "f58ad531",
   "metadata": {
    "_cell_guid": "d3220ce6-0af8-43aa-bc5b-9fdbc90fbda4",
    "_uuid": "f797e95f-91c5-4c11-83e5-1b916682c495",
    "collapsed": false,
    "execution": {
     "iopub.execute_input": "2022-08-22T18:23:12.034507Z",
     "iopub.status.busy": "2022-08-22T18:23:12.034076Z",
     "iopub.status.idle": "2022-08-22T18:23:12.041826Z",
     "shell.execute_reply": "2022-08-22T18:23:12.040579Z"
    },
    "jupyter": {
     "outputs_hidden": false
    },
    "papermill": {
     "duration": 0.020113,
     "end_time": "2022-08-22T18:23:12.044367",
     "exception": false,
     "start_time": "2022-08-22T18:23:12.024254",
     "status": "completed"
    },
    "tags": []
   },
   "outputs": [
    {
     "name": "stdout",
     "output_type": "stream",
     "text": [
      "61.676312753114644\n",
      "3039205.8217217796\n"
     ]
    }
   ],
   "source": [
    "from sklearn.metrics import mean_squared_error\n",
    "print(mean_squared_error(y_test, price_testing_data_pred))\n",
    "print(mean_squared_error(z_test, order_testing_data_pred))"
   ]
  },
  {
   "cell_type": "code",
   "execution_count": 17,
   "id": "7e3811d7",
   "metadata": {
    "_cell_guid": "99396608-f574-4af5-b2c0-52448d9a7018",
    "_uuid": "1e12b092-161a-432d-a052-9b1e7de7fb21",
    "collapsed": false,
    "execution": {
     "iopub.execute_input": "2022-08-22T18:23:12.063126Z",
     "iopub.status.busy": "2022-08-22T18:23:12.062296Z",
     "iopub.status.idle": "2022-08-22T18:23:12.232497Z",
     "shell.execute_reply": "2022-08-22T18:23:12.231020Z"
    },
    "jupyter": {
     "outputs_hidden": false
    },
    "papermill": {
     "duration": 0.182672,
     "end_time": "2022-08-22T18:23:12.235326",
     "exception": false,
     "start_time": "2022-08-22T18:23:12.052654",
     "status": "completed"
    },
    "tags": []
   },
   "outputs": [
    {
     "data": {
      "image/png": "[encoded data removed]",
      "text/plain": [
       "<Figure size 432x288 with 1 Axes>"
      ]
     },
     "metadata": {
      "needs_background": "light"
     },
     "output_type": "display_data"
    }
   ],
   "source": [
    "#visualize the actual prices and Predicted prices\n",
    "from matplotlib import pyplot as plt\n",
    "#plt.scatter(X_train,y_train, color = 'blue', label = 'Actual')\n",
    "plt.scatter(y_test,price_testing_data_pred)\n",
    "plt.xlabel(\"Actual Price\")\n",
    "plt.ylabel(\"Predicted Price\")\n",
    "plt.title(\"Actual Price Vs Predicted Price\")\n",
    "plt.legend()\n",
    "plt.grid(True)\n",
    "plt.show()"
   ]
  },
  {
   "cell_type": "code",
   "execution_count": 18,
   "id": "a696643e",
   "metadata": {
    "_cell_guid": "66ccf871-693f-49a9-aab6-28b8e49b74c4",
    "_uuid": "16b68288-62fb-4e91-84fb-7bad8aab8bbd",
    "collapsed": false,
    "execution": {
     "iopub.execute_input": "2022-08-22T18:23:12.254819Z",
     "iopub.status.busy": "2022-08-22T18:23:12.254390Z",
     "iopub.status.idle": "2022-08-22T18:23:12.424961Z",
     "shell.execute_reply": "2022-08-22T18:23:12.423787Z"
    },
    "jupyter": {
     "outputs_hidden": false
    },
    "papermill": {
     "duration": 0.183266,
     "end_time": "2022-08-22T18:23:12.427462",
     "exception": false,
     "start_time": "2022-08-22T18:23:12.244196",
     "status": "completed"
    },
    "tags": []
   },
   "outputs": [
    {
     "data": {
      "image/png": "[encoded data removed]",
      "text/plain": [
       "<Figure size 432x288 with 1 Axes>"
      ]
     },
     "metadata": {
      "needs_background": "light"
     },
     "output_type": "display_data"
    }
   ],
   "source": [
    "plt.scatter(z_test,order_testing_data_pred)\n",
    "plt.xlabel(\"Actual Demand\")\n",
    "plt.ylabel(\"Predicted Demand\")\n",
    "plt.title(\"Actual Demand Vs Predicted Demand\")\n",
    "plt.legend()\n",
    "plt.grid(True)\n",
    "plt.show()"
   ]
  }
 ],
 "metadata": {
  "kernelspec": {
   "display_name": "Python 3",
   "language": "python",
   "name": "python3"
  },
  "language_info": {
   "codemirror_mode": {
    "name": "ipython",
    "version": 3
   },
   "file_extension": ".py",
   "mimetype": "text/x-python",
   "name": "python",
   "nbconvert_exporter": "python",
   "pygments_lexer": "ipython3",
   "version": "3.7.12"
  },
  "papermill": {
   "default_parameters": {},
   "duration": 15.198861,
   "end_time": "2022-08-22T18:23:13.260348",
   "environment_variables": {},
   "exception": null,
   "input_path": "__notebook__.ipynb",
   "output_path": "__notebook__.ipynb",
   "parameters": {},
   "start_time": "2022-08-22T18:22:58.061487",
   "version": "2.3.4"
  }
 },
 "nbformat": 4,
 "nbformat_minor": 5
}
