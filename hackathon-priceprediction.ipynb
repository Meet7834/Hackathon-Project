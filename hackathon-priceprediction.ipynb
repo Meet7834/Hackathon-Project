{
 "cells": [
  {
   "cell_type": "code",
   "execution_count": 1,
   "id": "c15e9419",
   "metadata": {
    "_cell_guid": "0b1de6c8-8a08-44a7-a7b0-2db5d592e26e",
    "_uuid": "82c4adf0-5e56-44e0-a0d1-d57f319c93ae",
    "collapsed": false,
    "execution": {
     "iopub.execute_input": "2022-08-23T01:04:16.536782Z",
     "iopub.status.busy": "2022-08-23T01:04:16.535761Z",
     "iopub.status.idle": "2022-08-23T01:04:16.558151Z",
     "shell.execute_reply": "2022-08-23T01:04:16.557566Z"
    },
    "jupyter": {
     "outputs_hidden": false
    },
    "papermill": {
     "duration": 0.032023,
     "end_time": "2022-08-23T01:04:16.560013",
     "exception": false,
     "start_time": "2022-08-23T01:04:16.527990",
     "status": "completed"
    },
    "tags": []
   },
   "outputs": [
    {
     "name": "stdout",
     "output_type": "stream",
     "text": [
      "/kaggle/input/d/meet7834/tomatoprice/README.md\n",
      "/kaggle/input/d/meet7834/tomatoprice/noTomatoDataset.csv\n",
      "/kaggle/input/d/meet7834/tomatoprice/ModifiedDatasetTomato.csv\n",
      "/kaggle/input/tomatodataset/README.md\n",
      "/kaggle/input/tomatodataset/noTomatoDataset.csv\n",
      "/kaggle/input/tomatodataset/ModifiedDatasetTomato.csv\n"
     ]
    }
   ],
   "source": [
    "# This Python 3 environment comes with many helpful analytics libraries installed\n",
    "# It is defined by the kaggle/python Docker image: https://github.com/kaggle/docker-python\n",
    "# For example, here's several helpful packages to load\n",
    "\n",
    "import numpy as np # linear algebra\n",
    "import pandas as pd # data processing, CSV file I/O (e.g. pd.read_csv)\n",
    "\n",
    "# Input data files are available in the read-only \"../input/\" directory\n",
    "# For example, running this (by clicking run or pressing Shift+Enter) will list all files under the input directory\n",
    "\n",
    "import os\n",
    "for dirname, _, filenames in os.walk('/kaggle/input'):\n",
    "    for filename in filenames:\n",
    "        print(os.path.join(dirname, filename))\n",
    "\n",
    "# You can write up to 20GB to the current directory (/kaggle/working/) that gets preserved as output when you create a version using \"Save & Run All\" \n",
    "# You can also write temporary files to /kaggle/temp/, but they won't be saved outside of the current session"
   ]
  },
  {
   "cell_type": "code",
   "execution_count": 2,
   "id": "6cf1194c",
   "metadata": {
    "_cell_guid": "fd72ad13-2cfb-47da-bfe8-7711408191fc",
    "_uuid": "3eb54478-7ca8-48a1-9996-4fd3e914bb1b",
    "collapsed": false,
    "execution": {
     "iopub.execute_input": "2022-08-23T01:04:16.573210Z",
     "iopub.status.busy": "2022-08-23T01:04:16.572692Z",
     "iopub.status.idle": "2022-08-23T01:04:19.188984Z",
     "shell.execute_reply": "2022-08-23T01:04:19.187900Z"
    },
    "jupyter": {
     "outputs_hidden": false
    },
    "papermill": {
     "duration": 2.625244,
     "end_time": "2022-08-23T01:04:19.191062",
     "exception": false,
     "start_time": "2022-08-23T01:04:16.565818",
     "status": "completed"
    },
    "tags": []
   },
   "outputs": [
    {
     "data": {
      "text/html": [
       "<style type='text/css'>\n",
       ".datatable table.frame { margin-bottom: 0; }\n",
       ".datatable table.frame thead { border-bottom: none; }\n",
       ".datatable table.frame tr.coltypes td {  color: #FFFFFF;  line-height: 6px;  padding: 0 0.5em;}\n",
       ".datatable .bool    { background: #DDDD99; }\n",
       ".datatable .object  { background: #565656; }\n",
       ".datatable .int     { background: #5D9E5D; }\n",
       ".datatable .float   { background: #4040CC; }\n",
       ".datatable .str     { background: #CC4040; }\n",
       ".datatable .time    { background: #40CC40; }\n",
       ".datatable .row_index {  background: var(--jp-border-color3);  border-right: 1px solid var(--jp-border-color0);  color: var(--jp-ui-font-color3);  font-size: 9px;}\n",
       ".datatable .frame tbody td { text-align: left; }\n",
       ".datatable .frame tr.coltypes .row_index {  background: var(--jp-border-color0);}\n",
       ".datatable th:nth-child(2) { padding-left: 12px; }\n",
       ".datatable .hellipsis {  color: var(--jp-cell-editor-border-color);}\n",
       ".datatable .vellipsis {  background: var(--jp-layout-color0);  color: var(--jp-cell-editor-border-color);}\n",
       ".datatable .na {  color: var(--jp-cell-editor-border-color);  font-size: 80%;}\n",
       ".datatable .sp {  opacity: 0.25;}\n",
       ".datatable .footer { font-size: 9px; }\n",
       ".datatable .frame_dimensions {  background: var(--jp-border-color3);  border-top: 1px solid var(--jp-border-color0);  color: var(--jp-ui-font-color3);  display: inline-block;  opacity: 0.6;  padding: 1px 10px 1px 5px;}\n",
       "</style>\n"
      ],
      "text/plain": [
       "<IPython.core.display.HTML object>"
      ]
     },
     "metadata": {},
     "output_type": "display_data"
    }
   ],
   "source": [
    "import numpy as np\n",
    "import pandas as pd\n",
    "\n",
    "from sklearn.model_selection import train_test_split\n",
    "from sklearn.preprocessing import StandardScaler\n",
    "from sklearn.preprocessing import LabelEncoder\n",
    "from sklearn.linear_model import LinearRegression, Ridge, Lasso\n",
    "from sklearn.neighbors import KNeighborsRegressor\n",
    "from sklearn.neural_network import MLPRegressor\n",
    "from sklearn.svm import LinearSVR, SVR\n",
    "from sklearn.tree import DecisionTreeRegressor\n",
    "from sklearn.ensemble import RandomForestRegressor, GradientBoostingRegressor\n",
    "from xgboost import XGBRegressor\n",
    "from lightgbm import LGBMRegressor\n",
    "from catboost import CatBoostRegressor\n",
    "import seaborn as sns\n",
    "from sklearn. linear_model import Lasso\n",
    "\n",
    "import warnings\n",
    "warnings.filterwarnings(action='ignore')"
   ]
  },
  {
   "cell_type": "code",
   "execution_count": 3,
   "id": "280ec168",
   "metadata": {
    "_cell_guid": "1d50d8ef-cafd-448d-8b6e-0bd09c96081d",
    "_uuid": "dc2ac1c7-b841-41b1-a439-e920aefc28b3",
    "collapsed": false,
    "execution": {
     "iopub.execute_input": "2022-08-23T01:04:19.203917Z",
     "iopub.status.busy": "2022-08-23T01:04:19.203585Z",
     "iopub.status.idle": "2022-08-23T01:04:19.245296Z",
     "shell.execute_reply": "2022-08-23T01:04:19.244228Z"
    },
    "jupyter": {
     "outputs_hidden": false
    },
    "papermill": {
     "duration": 0.050806,
     "end_time": "2022-08-23T01:04:19.247726",
     "exception": false,
     "start_time": "2022-08-23T01:04:19.196920",
     "status": "completed"
    },
    "tags": []
   },
   "outputs": [
    {
     "data": {
      "text/html": [
       "<div>\n",
       "<style scoped>\n",
       "    .dataframe tbody tr th:only-of-type {\n",
       "        vertical-align: middle;\n",
       "    }\n",
       "\n",
       "    .dataframe tbody tr th {\n",
       "        vertical-align: top;\n",
       "    }\n",
       "\n",
       "    .dataframe thead th {\n",
       "        text-align: right;\n",
       "    }\n",
       "</style>\n",
       "<table border=\"1\" class=\"dataframe\">\n",
       "  <thead>\n",
       "    <tr style=\"text-align: right;\">\n",
       "      <th></th>\n",
       "      <th>prod_id</th>\n",
       "      <th>avg price</th>\n",
       "      <th>prod_name</th>\n",
       "      <th>order date</th>\n",
       "      <th>pack sold</th>\n",
       "      <th>order</th>\n",
       "      <th>Season</th>\n",
       "      <th>Month</th>\n",
       "    </tr>\n",
       "  </thead>\n",
       "  <tbody>\n",
       "    <tr>\n",
       "      <th>0</th>\n",
       "      <td>996</td>\n",
       "      <td>4.645859</td>\n",
       "      <td>Tomato Desi 500 Gm</td>\n",
       "      <td>1</td>\n",
       "      <td>7687</td>\n",
       "      <td>6472</td>\n",
       "      <td>winter</td>\n",
       "      <td>march</td>\n",
       "    </tr>\n",
       "    <tr>\n",
       "      <th>1</th>\n",
       "      <td>996</td>\n",
       "      <td>10.222268</td>\n",
       "      <td>Tomato Desi 500 Gm</td>\n",
       "      <td>2</td>\n",
       "      <td>2974</td>\n",
       "      <td>2434</td>\n",
       "      <td>winter</td>\n",
       "      <td>march</td>\n",
       "    </tr>\n",
       "    <tr>\n",
       "      <th>2</th>\n",
       "      <td>996</td>\n",
       "      <td>16.719044</td>\n",
       "      <td>Tomato Desi 500 Gm</td>\n",
       "      <td>3</td>\n",
       "      <td>1568</td>\n",
       "      <td>1171</td>\n",
       "      <td>winter</td>\n",
       "      <td>march</td>\n",
       "    </tr>\n",
       "    <tr>\n",
       "      <th>3</th>\n",
       "      <td>996</td>\n",
       "      <td>16.853556</td>\n",
       "      <td>Tomato Desi 500 Gm</td>\n",
       "      <td>4</td>\n",
       "      <td>1700</td>\n",
       "      <td>1195</td>\n",
       "      <td>winter</td>\n",
       "      <td>march</td>\n",
       "    </tr>\n",
       "    <tr>\n",
       "      <th>4</th>\n",
       "      <td>996</td>\n",
       "      <td>16.427644</td>\n",
       "      <td>Tomato Desi 500 Gm</td>\n",
       "      <td>5</td>\n",
       "      <td>1549</td>\n",
       "      <td>1078</td>\n",
       "      <td>winter</td>\n",
       "      <td>march</td>\n",
       "    </tr>\n",
       "    <tr>\n",
       "      <th>...</th>\n",
       "      <td>...</td>\n",
       "      <td>...</td>\n",
       "      <td>...</td>\n",
       "      <td>...</td>\n",
       "      <td>...</td>\n",
       "      <td>...</td>\n",
       "      <td>...</td>\n",
       "      <td>...</td>\n",
       "    </tr>\n",
       "    <tr>\n",
       "      <th>154</th>\n",
       "      <td>996</td>\n",
       "      <td>8.286688</td>\n",
       "      <td>Tomato (Desi)</td>\n",
       "      <td>18</td>\n",
       "      <td>7672</td>\n",
       "      <td>6863</td>\n",
       "      <td>monsoon</td>\n",
       "      <td>august</td>\n",
       "    </tr>\n",
       "    <tr>\n",
       "      <th>155</th>\n",
       "      <td>996</td>\n",
       "      <td>8.215190</td>\n",
       "      <td>Tomato (Desi)</td>\n",
       "      <td>19</td>\n",
       "      <td>7054</td>\n",
       "      <td>6306</td>\n",
       "      <td>monsoon</td>\n",
       "      <td>august</td>\n",
       "    </tr>\n",
       "    <tr>\n",
       "      <th>156</th>\n",
       "      <td>996</td>\n",
       "      <td>10.790909</td>\n",
       "      <td>Tomato (Desi)</td>\n",
       "      <td>20</td>\n",
       "      <td>1163</td>\n",
       "      <td>962</td>\n",
       "      <td>monsoon</td>\n",
       "      <td>august</td>\n",
       "    </tr>\n",
       "    <tr>\n",
       "      <th>157</th>\n",
       "      <td>996</td>\n",
       "      <td>11.784903</td>\n",
       "      <td>Tomato (Desi)</td>\n",
       "      <td>21</td>\n",
       "      <td>1837</td>\n",
       "      <td>1464</td>\n",
       "      <td>monsoon</td>\n",
       "      <td>august</td>\n",
       "    </tr>\n",
       "    <tr>\n",
       "      <th>158</th>\n",
       "      <td>996</td>\n",
       "      <td>11.569352</td>\n",
       "      <td>Tomato (Desi)</td>\n",
       "      <td>22</td>\n",
       "      <td>1947</td>\n",
       "      <td>1609</td>\n",
       "      <td>monsoon</td>\n",
       "      <td>august</td>\n",
       "    </tr>\n",
       "  </tbody>\n",
       "</table>\n",
       "<p>159 rows × 8 columns</p>\n",
       "</div>"
      ],
      "text/plain": [
       "     prod_id  avg price           prod_name  order date  pack sold  order  \\\n",
       "0        996   4.645859  Tomato Desi 500 Gm           1       7687   6472   \n",
       "1        996  10.222268  Tomato Desi 500 Gm           2       2974   2434   \n",
       "2        996  16.719044  Tomato Desi 500 Gm           3       1568   1171   \n",
       "3        996  16.853556  Tomato Desi 500 Gm           4       1700   1195   \n",
       "4        996  16.427644  Tomato Desi 500 Gm           5       1549   1078   \n",
       "..       ...        ...                 ...         ...        ...    ...   \n",
       "154      996   8.286688       Tomato (Desi)          18       7672   6863   \n",
       "155      996   8.215190       Tomato (Desi)          19       7054   6306   \n",
       "156      996  10.790909       Tomato (Desi)          20       1163    962   \n",
       "157      996  11.784903       Tomato (Desi)          21       1837   1464   \n",
       "158      996  11.569352       Tomato (Desi)          22       1947   1609   \n",
       "\n",
       "      Season   Month  \n",
       "0     winter   march  \n",
       "1     winter   march  \n",
       "2     winter   march  \n",
       "3     winter   march  \n",
       "4     winter   march  \n",
       "..       ...     ...  \n",
       "154  monsoon  august  \n",
       "155  monsoon  august  \n",
       "156  monsoon  august  \n",
       "157  monsoon  august  \n",
       "158  monsoon  august  \n",
       "\n",
       "[159 rows x 8 columns]"
      ]
     },
     "execution_count": 3,
     "metadata": {},
     "output_type": "execute_result"
    }
   ],
   "source": [
    "import pandas as pd\n",
    "data=pd.read_csv('../input/tomatodataset/ModifiedDatasetTomato.csv')\n",
    "data"
   ]
  },
  {
   "cell_type": "code",
   "execution_count": 4,
   "id": "0f9f8ddb",
   "metadata": {
    "_cell_guid": "0d7818c2-bc56-475a-aaad-f7fd53e7b699",
    "_uuid": "9798ce2a-ce57-4668-9403-da3b624545ce",
    "collapsed": false,
    "execution": {
     "iopub.execute_input": "2022-08-23T01:04:19.261885Z",
     "iopub.status.busy": "2022-08-23T01:04:19.261583Z",
     "iopub.status.idle": "2022-08-23T01:04:19.283280Z",
     "shell.execute_reply": "2022-08-23T01:04:19.282499Z"
    },
    "jupyter": {
     "outputs_hidden": false
    },
    "papermill": {
     "duration": 0.031207,
     "end_time": "2022-08-23T01:04:19.285445",
     "exception": false,
     "start_time": "2022-08-23T01:04:19.254238",
     "status": "completed"
    },
    "tags": []
   },
   "outputs": [
    {
     "data": {
      "text/html": [
       "<div>\n",
       "<style scoped>\n",
       "    .dataframe tbody tr th:only-of-type {\n",
       "        vertical-align: middle;\n",
       "    }\n",
       "\n",
       "    .dataframe tbody tr th {\n",
       "        vertical-align: top;\n",
       "    }\n",
       "\n",
       "    .dataframe thead th {\n",
       "        text-align: right;\n",
       "    }\n",
       "</style>\n",
       "<table border=\"1\" class=\"dataframe\">\n",
       "  <thead>\n",
       "    <tr style=\"text-align: right;\">\n",
       "      <th></th>\n",
       "      <th>prod_id</th>\n",
       "      <th>avg price</th>\n",
       "      <th>prod_name</th>\n",
       "      <th>order date</th>\n",
       "      <th>pack sold</th>\n",
       "      <th>order</th>\n",
       "      <th>Season</th>\n",
       "      <th>Month</th>\n",
       "    </tr>\n",
       "  </thead>\n",
       "  <tbody>\n",
       "    <tr>\n",
       "      <th>0</th>\n",
       "      <td>996</td>\n",
       "      <td>4.645859</td>\n",
       "      <td>Tomato Desi 500 Gm</td>\n",
       "      <td>1</td>\n",
       "      <td>7687</td>\n",
       "      <td>6472</td>\n",
       "      <td>1</td>\n",
       "      <td>3</td>\n",
       "    </tr>\n",
       "    <tr>\n",
       "      <th>1</th>\n",
       "      <td>996</td>\n",
       "      <td>10.222268</td>\n",
       "      <td>Tomato Desi 500 Gm</td>\n",
       "      <td>2</td>\n",
       "      <td>2974</td>\n",
       "      <td>2434</td>\n",
       "      <td>1</td>\n",
       "      <td>3</td>\n",
       "    </tr>\n",
       "    <tr>\n",
       "      <th>2</th>\n",
       "      <td>996</td>\n",
       "      <td>16.719044</td>\n",
       "      <td>Tomato Desi 500 Gm</td>\n",
       "      <td>3</td>\n",
       "      <td>1568</td>\n",
       "      <td>1171</td>\n",
       "      <td>1</td>\n",
       "      <td>3</td>\n",
       "    </tr>\n",
       "    <tr>\n",
       "      <th>3</th>\n",
       "      <td>996</td>\n",
       "      <td>16.853556</td>\n",
       "      <td>Tomato Desi 500 Gm</td>\n",
       "      <td>4</td>\n",
       "      <td>1700</td>\n",
       "      <td>1195</td>\n",
       "      <td>1</td>\n",
       "      <td>3</td>\n",
       "    </tr>\n",
       "    <tr>\n",
       "      <th>4</th>\n",
       "      <td>996</td>\n",
       "      <td>16.427644</td>\n",
       "      <td>Tomato Desi 500 Gm</td>\n",
       "      <td>5</td>\n",
       "      <td>1549</td>\n",
       "      <td>1078</td>\n",
       "      <td>1</td>\n",
       "      <td>3</td>\n",
       "    </tr>\n",
       "    <tr>\n",
       "      <th>...</th>\n",
       "      <td>...</td>\n",
       "      <td>...</td>\n",
       "      <td>...</td>\n",
       "      <td>...</td>\n",
       "      <td>...</td>\n",
       "      <td>...</td>\n",
       "      <td>...</td>\n",
       "      <td>...</td>\n",
       "    </tr>\n",
       "    <tr>\n",
       "      <th>154</th>\n",
       "      <td>996</td>\n",
       "      <td>8.286688</td>\n",
       "      <td>Tomato (Desi)</td>\n",
       "      <td>18</td>\n",
       "      <td>7672</td>\n",
       "      <td>6863</td>\n",
       "      <td>3</td>\n",
       "      <td>8</td>\n",
       "    </tr>\n",
       "    <tr>\n",
       "      <th>155</th>\n",
       "      <td>996</td>\n",
       "      <td>8.215190</td>\n",
       "      <td>Tomato (Desi)</td>\n",
       "      <td>19</td>\n",
       "      <td>7054</td>\n",
       "      <td>6306</td>\n",
       "      <td>3</td>\n",
       "      <td>8</td>\n",
       "    </tr>\n",
       "    <tr>\n",
       "      <th>156</th>\n",
       "      <td>996</td>\n",
       "      <td>10.790909</td>\n",
       "      <td>Tomato (Desi)</td>\n",
       "      <td>20</td>\n",
       "      <td>1163</td>\n",
       "      <td>962</td>\n",
       "      <td>3</td>\n",
       "      <td>8</td>\n",
       "    </tr>\n",
       "    <tr>\n",
       "      <th>157</th>\n",
       "      <td>996</td>\n",
       "      <td>11.784903</td>\n",
       "      <td>Tomato (Desi)</td>\n",
       "      <td>21</td>\n",
       "      <td>1837</td>\n",
       "      <td>1464</td>\n",
       "      <td>3</td>\n",
       "      <td>8</td>\n",
       "    </tr>\n",
       "    <tr>\n",
       "      <th>158</th>\n",
       "      <td>996</td>\n",
       "      <td>11.569352</td>\n",
       "      <td>Tomato (Desi)</td>\n",
       "      <td>22</td>\n",
       "      <td>1947</td>\n",
       "      <td>1609</td>\n",
       "      <td>3</td>\n",
       "      <td>8</td>\n",
       "    </tr>\n",
       "  </tbody>\n",
       "</table>\n",
       "<p>159 rows × 8 columns</p>\n",
       "</div>"
      ],
      "text/plain": [
       "     prod_id  avg price           prod_name  order date  pack sold  order  \\\n",
       "0        996   4.645859  Tomato Desi 500 Gm           1       7687   6472   \n",
       "1        996  10.222268  Tomato Desi 500 Gm           2       2974   2434   \n",
       "2        996  16.719044  Tomato Desi 500 Gm           3       1568   1171   \n",
       "3        996  16.853556  Tomato Desi 500 Gm           4       1700   1195   \n",
       "4        996  16.427644  Tomato Desi 500 Gm           5       1549   1078   \n",
       "..       ...        ...                 ...         ...        ...    ...   \n",
       "154      996   8.286688       Tomato (Desi)          18       7672   6863   \n",
       "155      996   8.215190       Tomato (Desi)          19       7054   6306   \n",
       "156      996  10.790909       Tomato (Desi)          20       1163    962   \n",
       "157      996  11.784903       Tomato (Desi)          21       1837   1464   \n",
       "158      996  11.569352       Tomato (Desi)          22       1947   1609   \n",
       "\n",
       "     Season  Month  \n",
       "0         1      3  \n",
       "1         1      3  \n",
       "2         1      3  \n",
       "3         1      3  \n",
       "4         1      3  \n",
       "..      ...    ...  \n",
       "154       3      8  \n",
       "155       3      8  \n",
       "156       3      8  \n",
       "157       3      8  \n",
       "158       3      8  \n",
       "\n",
       "[159 rows x 8 columns]"
      ]
     },
     "execution_count": 4,
     "metadata": {},
     "output_type": "execute_result"
    }
   ],
   "source": [
    "#encoding season column\n",
    "data.replace({'Season':{'winter':1,'summer':2,'monsoon':3}},inplace=True)\n",
    "data.replace({'Month':{ \n",
    "        'march': 3,\n",
    "        'april': 4,\n",
    "        'may': 5,\n",
    "        'june': 6,\n",
    "        'july': 7,\n",
    "        'august': 8}},inplace=True)\n",
    "              \n",
    "data"
   ]
  },
  {
   "cell_type": "code",
   "execution_count": 5,
   "id": "34a22035",
   "metadata": {
    "_cell_guid": "c27f218d-6ddb-4d45-86e5-877360b93282",
    "_uuid": "c6e782ea-5118-449a-8e22-ccb25a42a0ea",
    "collapsed": false,
    "execution": {
     "iopub.execute_input": "2022-08-23T01:04:19.300964Z",
     "iopub.status.busy": "2022-08-23T01:04:19.300625Z",
     "iopub.status.idle": "2022-08-23T01:04:19.320053Z",
     "shell.execute_reply": "2022-08-23T01:04:19.319035Z"
    },
    "jupyter": {
     "outputs_hidden": false
    },
    "papermill": {
     "duration": 0.030359,
     "end_time": "2022-08-23T01:04:19.322491",
     "exception": false,
     "start_time": "2022-08-23T01:04:19.292132",
     "status": "completed"
    },
    "tags": []
   },
   "outputs": [
    {
     "data": {
      "text/html": [
       "<div>\n",
       "<style scoped>\n",
       "    .dataframe tbody tr th:only-of-type {\n",
       "        vertical-align: middle;\n",
       "    }\n",
       "\n",
       "    .dataframe tbody tr th {\n",
       "        vertical-align: top;\n",
       "    }\n",
       "\n",
       "    .dataframe thead th {\n",
       "        text-align: right;\n",
       "    }\n",
       "</style>\n",
       "<table border=\"1\" class=\"dataframe\">\n",
       "  <thead>\n",
       "    <tr style=\"text-align: right;\">\n",
       "      <th></th>\n",
       "      <th>avg price</th>\n",
       "      <th>order date</th>\n",
       "      <th>Season</th>\n",
       "      <th>Month</th>\n",
       "    </tr>\n",
       "  </thead>\n",
       "  <tbody>\n",
       "    <tr>\n",
       "      <th>0</th>\n",
       "      <td>4.645859</td>\n",
       "      <td>1</td>\n",
       "      <td>1</td>\n",
       "      <td>3</td>\n",
       "    </tr>\n",
       "    <tr>\n",
       "      <th>1</th>\n",
       "      <td>10.222268</td>\n",
       "      <td>2</td>\n",
       "      <td>1</td>\n",
       "      <td>3</td>\n",
       "    </tr>\n",
       "    <tr>\n",
       "      <th>2</th>\n",
       "      <td>16.719044</td>\n",
       "      <td>3</td>\n",
       "      <td>1</td>\n",
       "      <td>3</td>\n",
       "    </tr>\n",
       "    <tr>\n",
       "      <th>3</th>\n",
       "      <td>16.853556</td>\n",
       "      <td>4</td>\n",
       "      <td>1</td>\n",
       "      <td>3</td>\n",
       "    </tr>\n",
       "    <tr>\n",
       "      <th>4</th>\n",
       "      <td>16.427644</td>\n",
       "      <td>5</td>\n",
       "      <td>1</td>\n",
       "      <td>3</td>\n",
       "    </tr>\n",
       "    <tr>\n",
       "      <th>...</th>\n",
       "      <td>...</td>\n",
       "      <td>...</td>\n",
       "      <td>...</td>\n",
       "      <td>...</td>\n",
       "    </tr>\n",
       "    <tr>\n",
       "      <th>154</th>\n",
       "      <td>8.286688</td>\n",
       "      <td>18</td>\n",
       "      <td>3</td>\n",
       "      <td>8</td>\n",
       "    </tr>\n",
       "    <tr>\n",
       "      <th>155</th>\n",
       "      <td>8.215190</td>\n",
       "      <td>19</td>\n",
       "      <td>3</td>\n",
       "      <td>8</td>\n",
       "    </tr>\n",
       "    <tr>\n",
       "      <th>156</th>\n",
       "      <td>10.790909</td>\n",
       "      <td>20</td>\n",
       "      <td>3</td>\n",
       "      <td>8</td>\n",
       "    </tr>\n",
       "    <tr>\n",
       "      <th>157</th>\n",
       "      <td>11.784903</td>\n",
       "      <td>21</td>\n",
       "      <td>3</td>\n",
       "      <td>8</td>\n",
       "    </tr>\n",
       "    <tr>\n",
       "      <th>158</th>\n",
       "      <td>11.569352</td>\n",
       "      <td>22</td>\n",
       "      <td>3</td>\n",
       "      <td>8</td>\n",
       "    </tr>\n",
       "  </tbody>\n",
       "</table>\n",
       "<p>159 rows × 4 columns</p>\n",
       "</div>"
      ],
      "text/plain": [
       "     avg price  order date  Season  Month\n",
       "0     4.645859           1       1      3\n",
       "1    10.222268           2       1      3\n",
       "2    16.719044           3       1      3\n",
       "3    16.853556           4       1      3\n",
       "4    16.427644           5       1      3\n",
       "..         ...         ...     ...    ...\n",
       "154   8.286688          18       3      8\n",
       "155   8.215190          19       3      8\n",
       "156  10.790909          20       3      8\n",
       "157  11.784903          21       3      8\n",
       "158  11.569352          22       3      8\n",
       "\n",
       "[159 rows x 4 columns]"
      ]
     },
     "execution_count": 5,
     "metadata": {},
     "output_type": "execute_result"
    }
   ],
   "source": [
    "#splitting dataset into X and y\n",
    "y = data['avg price']\n",
    "X = data.drop(['avg price','prod_name', 'order', 'prod_id', 'pack sold'], axis=1)\n",
    "#for demand\n",
    "z = data['order']\n",
    "w = data.drop(['order', 'pack sold' , 'prod_id', 'prod_name'], axis =1)\n",
    "w"
   ]
  },
  {
   "cell_type": "code",
   "execution_count": 6,
   "id": "740e84d6",
   "metadata": {
    "_cell_guid": "ef938877-d7f6-4ff6-964c-25b851ceb9eb",
    "_uuid": "18f3f7f9-3a4f-4344-8514-ec90e1489f0c",
    "collapsed": false,
    "execution": {
     "iopub.execute_input": "2022-08-23T01:04:19.337755Z",
     "iopub.status.busy": "2022-08-23T01:04:19.337276Z",
     "iopub.status.idle": "2022-08-23T01:04:19.345150Z",
     "shell.execute_reply": "2022-08-23T01:04:19.344535Z"
    },
    "jupyter": {
     "outputs_hidden": false
    },
    "papermill": {
     "duration": 0.017868,
     "end_time": "2022-08-23T01:04:19.347155",
     "exception": false,
     "start_time": "2022-08-23T01:04:19.329287",
     "status": "completed"
    },
    "tags": []
   },
   "outputs": [],
   "source": [
    "#splitting into testing and trainning\n",
    "X_train,X_test,y_train,y_test=train_test_split(X,y,train_size=0.7,shuffle=False,random_state=1)\n",
    "X_train,X_test,y_train,y_test=train_test_split(X,y,train_size=0.7,shuffle=False,random_state=1)\n",
    "w_train,w_test,z_train,z_test=train_test_split(w,z,train_size=0.7,shuffle=False,random_state=1)\n",
    "w_train,w_test,z_train,z_test=train_test_split(w,z,train_size=0.7,shuffle=False,random_state=1)"
   ]
  },
  {
   "cell_type": "code",
   "execution_count": 7,
   "id": "bdae28b6",
   "metadata": {
    "_cell_guid": "41861f30-884a-44b2-a21c-594a61e8c184",
    "_uuid": "e8d826a4-fe8c-4d94-a2b9-7ed5bdf15160",
    "collapsed": false,
    "execution": {
     "iopub.execute_input": "2022-08-23T01:04:19.361947Z",
     "iopub.status.busy": "2022-08-23T01:04:19.361420Z",
     "iopub.status.idle": "2022-08-23T01:04:20.413191Z",
     "shell.execute_reply": "2022-08-23T01:04:20.412492Z"
    },
    "jupyter": {
     "outputs_hidden": false
    },
    "papermill": {
     "duration": 1.061937,
     "end_time": "2022-08-23T01:04:20.415616",
     "exception": false,
     "start_time": "2022-08-23T01:04:19.353679",
     "status": "completed"
    },
    "tags": []
   },
   "outputs": [
    {
     "name": "stdout",
     "output_type": "stream",
     "text": [
      "                     Linear Regression trained.\n",
      " Linear Regression (L2 Regularization) trained.\n",
      " Linear Regression (L1 Regularization) trained.\n",
      "                   K-Nearest Neighbors trained.\n",
      "                        Neural Network trained.\n",
      "Support Vector Machine (Linear Kernel) trained.\n",
      "   Support Vector Machine (RBF Kernel) trained.\n",
      "                         Decision Tree trained.\n",
      "                         Random Forest trained.\n",
      "                     Gradient Boosting trained.\n",
      "                               XGBoost trained.\n",
      "                              LightGBM trained.\n",
      "                              CatBoost trained.\n",
      "                     Linear Regression R^2 Score: -65.15311\n",
      " Linear Regression (L2 Regularization) R^2 Score: -66.70578\n",
      " Linear Regression (L1 Regularization) R^2 Score: -72.19744\n",
      "                   K-Nearest Neighbors R^2 Score: -36.15129\n",
      "                        Neural Network R^2 Score: -59.22921\n",
      "Support Vector Machine (Linear Kernel) R^2 Score: -116.30741\n",
      "   Support Vector Machine (RBF Kernel) R^2 Score: -17.18709\n",
      "                         Decision Tree R^2 Score: -1.17735\n",
      "                         Random Forest R^2 Score: -3.88449\n",
      "                     Gradient Boosting R^2 Score: -4.05004\n",
      "                               XGBoost R^2 Score: -4.59600\n",
      "                              LightGBM R^2 Score: -71.54346\n",
      "                              CatBoost R^2 Score: -8.87225\n"
     ]
    }
   ],
   "source": [
    "models = {\n",
    "    \"                     Linear Regression\": LinearRegression(),\n",
    "    \" Linear Regression (L2 Regularization)\": Ridge(),\n",
    "    \" Linear Regression (L1 Regularization)\": Lasso(),\n",
    "    \"                   K-Nearest Neighbors\": KNeighborsRegressor(),\n",
    "    \"                        Neural Network\": MLPRegressor(),\n",
    "    \"Support Vector Machine (Linear Kernel)\": LinearSVR(),\n",
    "    \"   Support Vector Machine (RBF Kernel)\": SVR(),\n",
    "    \"                         Decision Tree\": DecisionTreeRegressor(),\n",
    "    \"                         Random Forest\": RandomForestRegressor(),\n",
    "    \"                     Gradient Boosting\": GradientBoostingRegressor(),\n",
    "    \"                               XGBoost\": XGBRegressor(),\n",
    "    \"                              LightGBM\": LGBMRegressor(),\n",
    "    \"                              CatBoost\": CatBoostRegressor(verbose=0)\n",
    "}\n",
    "\n",
    "for name, model in models.items():\n",
    "    model.fit(X_train, y_train)\n",
    "    print(name + \" trained.\")\n",
    "\n",
    "for name, model in models.items():\n",
    "    print(name + \" R^2 Score: {:.5f}\".format(model.score(X_test, y_test)))"
   ]
  },
  {
   "cell_type": "code",
   "execution_count": 8,
   "id": "1e2415b7",
   "metadata": {
    "_cell_guid": "71f44fbb-8a1f-4f88-9467-ddbc0aa037cc",
    "_uuid": "ff4a8204-e254-4cd1-a92c-57838119a8f8",
    "collapsed": false,
    "execution": {
     "iopub.execute_input": "2022-08-23T01:04:20.432218Z",
     "iopub.status.busy": "2022-08-23T01:04:20.431138Z",
     "iopub.status.idle": "2022-08-23T01:04:20.918188Z",
     "shell.execute_reply": "2022-08-23T01:04:20.916942Z"
    },
    "jupyter": {
     "outputs_hidden": false
    },
    "papermill": {
     "duration": 0.497676,
     "end_time": "2022-08-23T01:04:20.920224",
     "exception": false,
     "start_time": "2022-08-23T01:04:20.422548",
     "status": "completed"
    },
    "tags": []
   },
   "outputs": [
    {
     "data": {
      "text/plain": [
       "<catboost.core.CatBoostRegressor at 0x7f48899f3a90>"
      ]
     },
     "execution_count": 8,
     "metadata": {},
     "output_type": "execute_result"
    }
   ],
   "source": [
    "#model selection linear regression\n",
    "price_reg_model= CatBoostRegressor(verbose=0)\n",
    "price_reg_model.fit(X_train,y_train)\n",
    "\n",
    "order_reg_model = CatBoostRegressor(verbose=0)\n",
    "order_reg_model.fit(w_train,z_train)"
   ]
  },
  {
   "cell_type": "code",
   "execution_count": 9,
   "id": "d7889409",
   "metadata": {
    "_cell_guid": "e391537c-dd5c-4ce2-b68b-fa945e8a62ee",
    "_uuid": "84f14a96-0b06-4cec-b7ea-b24a9bd5b603",
    "collapsed": false,
    "execution": {
     "iopub.execute_input": "2022-08-23T01:04:20.934725Z",
     "iopub.status.busy": "2022-08-23T01:04:20.934397Z",
     "iopub.status.idle": "2022-08-23T01:04:20.943505Z",
     "shell.execute_reply": "2022-08-23T01:04:20.942487Z"
    },
    "jupyter": {
     "outputs_hidden": false
    },
    "papermill": {
     "duration": 0.018737,
     "end_time": "2022-08-23T01:04:20.945659",
     "exception": false,
     "start_time": "2022-08-23T01:04:20.926922",
     "status": "completed"
    },
    "tags": []
   },
   "outputs": [
    {
     "data": {
      "text/plain": [
       "array([ 5.2827244 , 10.38809665, 16.35316761, 16.53745688, 16.19649858,\n",
       "       17.20610628, 17.09970067, 16.29398699, 13.74480143, 14.69645666,\n",
       "       14.82214941, 14.94579349, 14.86537159, 14.89410505, 14.90590154,\n",
       "       14.90262189, 15.24739575, 15.22240978, 15.04050473, 14.99201225,\n",
       "       14.68454548, 14.43341073, 14.54005892, 15.72047839, 16.72376961,\n",
       "       16.33229079,  8.01268679, 16.86904138, 17.57234553, 17.58841276,\n",
       "       16.73754742, 16.88555533, 17.39901195, 17.09918419, 17.72483656,\n",
       "       19.91970258, 20.15676946, 20.70207491, 20.76628703, 20.15271823,\n",
       "       19.7355604 , 19.28241665, 19.11181987, 19.22638559, 19.23744187,\n",
       "       18.85593668, 18.94120152, 19.39837167, 19.431298  , 19.28257786,\n",
       "       19.15442801, 16.30518558, 17.08344706, 16.07087247, 17.96790671,\n",
       "       17.90282593, 17.89746978, 19.01397118, 18.52793412, 17.71790099,\n",
       "       17.12877755, 17.38985318, 18.76936207, 18.73298237, 18.75113107,\n",
       "       12.65196839, 11.51347377, 11.92765888, 13.65230724, 17.61566567,\n",
       "       18.01731573, 18.0609198 , 13.08404338, 13.21372214, 15.38776449,\n",
       "       15.41855836, 15.40542646, 15.18804903, 18.88078859, 18.84925847,\n",
       "       13.90248204, 15.70649176, 26.21966794, 27.40939833, 29.611261  ,\n",
       "       28.62485166, 27.82053372, 27.69733178, 28.36139116, 28.0935494 ,\n",
       "       27.249671  , 28.25753702, 29.76570411, 30.35592027, 30.49752821,\n",
       "       30.71567258, 30.48590622, 34.13601511, 34.27330335, 31.663484  ,\n",
       "       32.9659174 , 33.29106709, 33.29362624, 34.03032121, 35.30893633,\n",
       "       37.74966885, 38.82099769, 37.78918438, 11.87028118, 13.55658645,\n",
       "       11.32228846])"
      ]
     },
     "execution_count": 9,
     "metadata": {},
     "output_type": "execute_result"
    }
   ],
   "source": [
    "#Training data prediction\n",
    "price_data_pred= price_reg_model.predict(X_train)\n",
    "price_data_pred"
   ]
  },
  {
   "cell_type": "code",
   "execution_count": 10,
   "id": "cc46a296",
   "metadata": {
    "_cell_guid": "7fb72306-18b9-4ac9-95e9-1584f946b286",
    "_uuid": "3fd219f4-0577-4c81-9489-a2a8dade28a3",
    "collapsed": false,
    "execution": {
     "iopub.execute_input": "2022-08-23T01:04:20.961372Z",
     "iopub.status.busy": "2022-08-23T01:04:20.960716Z",
     "iopub.status.idle": "2022-08-23T01:04:20.969649Z",
     "shell.execute_reply": "2022-08-23T01:04:20.968498Z"
    },
    "jupyter": {
     "outputs_hidden": false
    },
    "papermill": {
     "duration": 0.019388,
     "end_time": "2022-08-23T01:04:20.972072",
     "exception": false,
     "start_time": "2022-08-23T01:04:20.952684",
     "status": "completed"
    },
    "tags": []
   },
   "outputs": [
    {
     "data": {
      "text/plain": [
       "array([6434.60899392, 2479.13484514, 1119.54425567, 1103.58816644,\n",
       "       1100.59338794,  940.68178782,  945.57293905, 1002.46349239,\n",
       "       1138.35277574,  947.04569569, 1011.54798506,  995.89020229,\n",
       "        822.37159097,  799.93130265,  789.27939508,  792.95528213,\n",
       "        800.22002168,  732.17572155,  769.85161488,  961.04435875,\n",
       "        951.65033809, 1075.78054764, 1142.98823168,  736.27051654,\n",
       "        574.7156888 ,  480.46265714, 3779.10274952, 1008.60472153,\n",
       "        885.26760377,  778.13509016,  771.18519444,  662.84256019,\n",
       "        747.15911096,  759.44827174,  775.5837113 ,  742.90161566,\n",
       "        778.75091018,  800.11345443,  727.46492704,  762.98656629,\n",
       "        761.84918344,  778.3286502 ,  795.64924897,  782.51877697,\n",
       "        775.38428792,  777.92946753,  775.42432359,  818.04731372,\n",
       "        882.96254083,  860.50400215,  914.08659374,  463.19046675,\n",
       "        467.55900167,  371.09593145,  442.03198213,  524.72160189,\n",
       "        931.85107076,  346.68113316, 1075.05694174, 1352.9593678 ,\n",
       "       1325.24300836, 1425.33340711, 1446.81404169, 1492.96153028,\n",
       "       1145.73019739, 2583.68002176, 2947.22634835, 2709.16502185,\n",
       "       2247.3720246 , 1368.08090127, 1236.34054565, 1379.35063632,\n",
       "       2517.58868668, 2480.7007872 , 2499.51926919, 2701.00294227,\n",
       "       2370.9115321 , 2397.72747023, 1517.1713526 , 2245.06221121,\n",
       "       3633.73983971, 2935.05156804, 1328.20209119, 1160.18630545,\n",
       "       1018.48938837,  988.78922158, 1076.20068033,  836.42392521,\n",
       "        966.30229335,  886.49596952,  987.14123195,  881.35185023,\n",
       "        783.98521962,  840.35169694,  763.82066751,  825.77031072,\n",
       "        116.65181854,  814.7515269 ,  544.09760767,  535.65257563,\n",
       "        524.03619187,  641.26588709,  858.83272772,  747.99521908,\n",
       "        940.8674095 ,  635.71475695,  850.81130075,  751.51058642,\n",
       "       5817.48825974, 4331.29719226, 6039.10346513])"
      ]
     },
     "execution_count": 10,
     "metadata": {},
     "output_type": "execute_result"
    }
   ],
   "source": [
    "order_data_pred= order_reg_model.predict(w_train)\n",
    "order_data_pred"
   ]
  },
  {
   "cell_type": "code",
   "execution_count": 11,
   "id": "0bf67550",
   "metadata": {
    "_cell_guid": "7cf6f7e4-cdfe-46a1-bce1-3073ca7c47be",
    "_uuid": "e36c2d35-fe94-4237-8eef-6e8301169b28",
    "collapsed": false,
    "execution": {
     "iopub.execute_input": "2022-08-23T01:04:20.987722Z",
     "iopub.status.busy": "2022-08-23T01:04:20.987391Z",
     "iopub.status.idle": "2022-08-23T01:04:20.994751Z",
     "shell.execute_reply": "2022-08-23T01:04:20.992845Z"
    },
    "jupyter": {
     "outputs_hidden": false
    },
    "papermill": {
     "duration": 0.018029,
     "end_time": "2022-08-23T01:04:20.997317",
     "exception": false,
     "start_time": "2022-08-23T01:04:20.979288",
     "status": "completed"
    },
    "tags": []
   },
   "outputs": [
    {
     "name": "stdout",
     "output_type": "stream",
     "text": [
      "0.9950516594634825\n"
     ]
    }
   ],
   "source": [
    "from sklearn import metrics\n",
    "error_score_price = metrics.r2_score(y_train,price_data_pred )\n",
    "print (error_score_price)"
   ]
  },
  {
   "cell_type": "code",
   "execution_count": 12,
   "id": "4ea7cfa3",
   "metadata": {
    "_cell_guid": "43569be7-c65b-40e2-a441-d6346900029c",
    "_uuid": "75b75b79-2e1b-4cf4-b2ed-a0e96773635c",
    "collapsed": false,
    "execution": {
     "iopub.execute_input": "2022-08-23T01:04:21.016217Z",
     "iopub.status.busy": "2022-08-23T01:04:21.014642Z",
     "iopub.status.idle": "2022-08-23T01:04:21.021420Z",
     "shell.execute_reply": "2022-08-23T01:04:21.020356Z"
    },
    "jupyter": {
     "outputs_hidden": false
    },
    "papermill": {
     "duration": 0.01679,
     "end_time": "2022-08-23T01:04:21.023054",
     "exception": false,
     "start_time": "2022-08-23T01:04:21.006264",
     "status": "completed"
    },
    "tags": []
   },
   "outputs": [
    {
     "name": "stdout",
     "output_type": "stream",
     "text": [
      "0.9961666393126019\n"
     ]
    }
   ],
   "source": [
    "error_score_order = metrics.r2_score(z_train,order_data_pred )\n",
    "print (error_score_order)"
   ]
  },
  {
   "cell_type": "code",
   "execution_count": 13,
   "id": "5bd344ae",
   "metadata": {
    "_cell_guid": "25b9860b-49d7-4f15-9b90-bc190378b341",
    "_uuid": "ca8b49f9-80d9-4e47-a259-e046d40df8f5",
    "collapsed": false,
    "execution": {
     "iopub.execute_input": "2022-08-23T01:04:21.038681Z",
     "iopub.status.busy": "2022-08-23T01:04:21.037861Z",
     "iopub.status.idle": "2022-08-23T01:04:21.044152Z",
     "shell.execute_reply": "2022-08-23T01:04:21.043153Z"
    },
    "jupyter": {
     "outputs_hidden": false
    },
    "papermill": {
     "duration": 0.016916,
     "end_time": "2022-08-23T01:04:21.046915",
     "exception": false,
     "start_time": "2022-08-23T01:04:21.029999",
     "status": "completed"
    },
    "tags": []
   },
   "outputs": [
    {
     "name": "stdout",
     "output_type": "stream",
     "text": [
      "0.2513644936961082\n",
      "4736.253071867812\n"
     ]
    }
   ],
   "source": [
    "from sklearn.metrics import mean_squared_error\n",
    "print(mean_squared_error(y_train, price_data_pred))\n",
    "print(mean_squared_error(z_train, order_data_pred))"
   ]
  },
  {
   "cell_type": "code",
   "execution_count": 14,
   "id": "a1794475",
   "metadata": {
    "_cell_guid": "f383b5da-a741-415e-9a46-d09eb8999c9a",
    "_uuid": "255d8209-e6f8-4358-ba98-70a12682e631",
    "collapsed": false,
    "execution": {
     "iopub.execute_input": "2022-08-23T01:04:21.064826Z",
     "iopub.status.busy": "2022-08-23T01:04:21.064487Z",
     "iopub.status.idle": "2022-08-23T01:04:21.261558Z",
     "shell.execute_reply": "2022-08-23T01:04:21.260443Z"
    },
    "jupyter": {
     "outputs_hidden": false
    },
    "papermill": {
     "duration": 0.207489,
     "end_time": "2022-08-23T01:04:21.263393",
     "exception": false,
     "start_time": "2022-08-23T01:04:21.055904",
     "status": "completed"
    },
    "tags": []
   },
   "outputs": [
    {
     "data": {
      "image/png": "[encoded data removed]",
      "text/plain": [
       "<Figure size 432x288 with 1 Axes>"
      ]
     },
     "metadata": {
      "needs_background": "light"
     },
     "output_type": "display_data"
    }
   ],
   "source": [
    "\n",
    "#visualize the actual prices and Predicted prices\n",
    "from matplotlib import pyplot as plt\n",
    "#plt.scatter(X_train,y_train, color = 'blue', label = 'Actual')\n",
    "plt.scatter(y_train,price_data_pred)\n",
    "plt.xlabel(\"Actual Price\")\n",
    "plt.ylabel(\"Predicted Price\")\n",
    "plt.title(\"Actual Price Vs Predicted Price\")\n",
    "plt.legend()\n",
    "plt.grid(True)\n",
    "plt.show()"
   ]
  },
  {
   "cell_type": "code",
   "execution_count": 15,
   "id": "842d4047",
   "metadata": {
    "_cell_guid": "53bc6913-c7e5-4904-a9b5-cd6984ab6b6f",
    "_uuid": "32b0b58e-b2b3-4a6b-83e9-cdc510fbd93f",
    "collapsed": false,
    "execution": {
     "iopub.execute_input": "2022-08-23T01:04:21.279597Z",
     "iopub.status.busy": "2022-08-23T01:04:21.279188Z",
     "iopub.status.idle": "2022-08-23T01:04:21.438834Z",
     "shell.execute_reply": "2022-08-23T01:04:21.437578Z"
    },
    "jupyter": {
     "outputs_hidden": false
    },
    "papermill": {
     "duration": 0.169845,
     "end_time": "2022-08-23T01:04:21.440639",
     "exception": false,
     "start_time": "2022-08-23T01:04:21.270794",
     "status": "completed"
    },
    "tags": []
   },
   "outputs": [
    {
     "data": {
      "image/png": "[encoded data removed]",
      "text/plain": [
       "<Figure size 432x288 with 1 Axes>"
      ]
     },
     "metadata": {
      "needs_background": "light"
     },
     "output_type": "display_data"
    }
   ],
   "source": [
    "plt.scatter(z_train,order_data_pred)\n",
    "plt.xlabel(\"Actual Demand\")\n",
    "plt.ylabel(\"Predicted Demand\")\n",
    "plt.title(\"Actual Demand Vs Predicted Demand\")\n",
    "plt.legend()\n",
    "plt.grid(True)\n",
    "plt.show()"
   ]
  },
  {
   "cell_type": "code",
   "execution_count": 16,
   "id": "b26f288a",
   "metadata": {
    "_cell_guid": "4ffe7676-da09-44a4-a69d-14c285b95a39",
    "_uuid": "4dc7af48-d970-4dcc-ba6e-52d42d62b464",
    "collapsed": false,
    "execution": {
     "iopub.execute_input": "2022-08-23T01:04:21.458572Z",
     "iopub.status.busy": "2022-08-23T01:04:21.458196Z",
     "iopub.status.idle": "2022-08-23T01:04:21.467736Z",
     "shell.execute_reply": "2022-08-23T01:04:21.466589Z"
    },
    "jupyter": {
     "outputs_hidden": false
    },
    "papermill": {
     "duration": 0.02108,
     "end_time": "2022-08-23T01:04:21.469978",
     "exception": false,
     "start_time": "2022-08-23T01:04:21.448898",
     "status": "completed"
    },
    "tags": []
   },
   "outputs": [
    {
     "data": {
      "text/plain": [
       "array([12.18954385, 12.40912496, 12.8310373 , 13.36026027, 12.22303886,\n",
       "       12.44318804, 13.16053876, 15.69902557, 16.34522789, 16.48746652,\n",
       "       12.71662026, 12.91800595, 14.93103296, 15.11533495, 15.17359437,\n",
       "       15.09861498, 17.78311046, 17.94581276, 15.79411162, 17.08928508,\n",
       "       17.46433577, 17.54805091, 18.25161576, 19.28305713, 21.31092518,\n",
       "       21.32210476, 19.47629059, 17.79954487, 11.87028118, 13.55658645,\n",
       "       11.32228846, 12.18954385, 12.40912496, 12.8310373 , 13.36026027,\n",
       "       12.22303886, 12.44318804, 13.16053876, 15.69902557, 16.34522789,\n",
       "       16.48746652, 12.71662026, 12.91800595, 14.93103296, 15.11533495,\n",
       "       15.17359437, 15.09861498, 17.78311046])"
      ]
     },
     "execution_count": 16,
     "metadata": {},
     "output_type": "execute_result"
    }
   ],
   "source": [
    "#Training data prediction\n",
    "price_testing_data_pred= price_reg_model.predict(X_test)\n",
    "price_testing_data_pred"
   ]
  },
  {
   "cell_type": "code",
   "execution_count": 17,
   "id": "9da4dac4",
   "metadata": {
    "_cell_guid": "864ced2b-642f-4981-91b9-4724caf233de",
    "_uuid": "f9b8ffeb-763d-4f7b-acce-d800cfcd8479",
    "collapsed": false,
    "execution": {
     "iopub.execute_input": "2022-08-23T01:04:21.487689Z",
     "iopub.status.busy": "2022-08-23T01:04:21.487341Z",
     "iopub.status.idle": "2022-08-23T01:04:21.497634Z",
     "shell.execute_reply": "2022-08-23T01:04:21.496536Z"
    },
    "jupyter": {
     "outputs_hidden": false
    },
    "papermill": {
     "duration": 0.02163,
     "end_time": "2022-08-23T01:04:21.499936",
     "exception": false,
     "start_time": "2022-08-23T01:04:21.478306",
     "status": "completed"
    },
    "tags": []
   },
   "outputs": [
    {
     "data": {
      "text/plain": [
       "array([3265.91252248, 3213.43963035, 4891.19917758, 3871.54733394,\n",
       "       4675.93755393, 4569.03735709, 4385.81055145, 4291.42702713,\n",
       "       3526.51409096, 4154.04243251, 4152.90200162, 4140.06048891,\n",
       "       4273.29632722, 3400.89320951, 4129.89694644, 4076.5053405 ,\n",
       "       3383.08183832, 3458.1206795 , 3039.46299928, 3337.20376923,\n",
       "       3271.37213144, 3219.84808732, 3209.4344162 , 3163.06008581,\n",
       "       2837.10607325, 2957.38562363, 3788.65514675, 4556.84640378,\n",
       "       4658.26146051, 4684.71293566, 4686.95601892, 4485.50814358,\n",
       "       4203.1948636 , 4027.43866919, 3871.54733394, 3873.78981085,\n",
       "       3784.99181597, 4385.81055145, 3797.31356889, 3526.51409096,\n",
       "       4186.11918619, 3824.88180237, 4451.0013752 , 3437.50111174,\n",
       "       3400.89320951, 4440.83783274, 3967.3421866 , 4028.37911614])"
      ]
     },
     "execution_count": 17,
     "metadata": {},
     "output_type": "execute_result"
    }
   ],
   "source": [
    "order_testing_data_pred= order_reg_model.predict(w_test)\n",
    "order_testing_data_pred"
   ]
  },
  {
   "cell_type": "code",
   "execution_count": 18,
   "id": "585f7542",
   "metadata": {
    "_cell_guid": "37c89140-1a73-474f-b9cd-2f9f56111785",
    "_uuid": "d338be0e-74bb-47a4-b71c-06fa401f9714",
    "collapsed": false,
    "execution": {
     "iopub.execute_input": "2022-08-23T01:04:21.518525Z",
     "iopub.status.busy": "2022-08-23T01:04:21.518200Z",
     "iopub.status.idle": "2022-08-23T01:04:21.525816Z",
     "shell.execute_reply": "2022-08-23T01:04:21.524586Z"
    },
    "jupyter": {
     "outputs_hidden": false
    },
    "papermill": {
     "duration": 0.020252,
     "end_time": "2022-08-23T01:04:21.528339",
     "exception": false,
     "start_time": "2022-08-23T01:04:21.508087",
     "status": "completed"
    },
    "tags": []
   },
   "outputs": [
    {
     "name": "stdout",
     "output_type": "stream",
     "text": [
      "-8.872254729260916\n",
      "-1.9711395071135271\n"
     ]
    }
   ],
   "source": [
    "from sklearn import metrics\n",
    "error_score_price_test = metrics.r2_score(y_test,price_testing_data_pred )\n",
    "print (error_score_price_test)\n",
    "error_score_order_test = metrics.r2_score(z_test,order_testing_data_pred )\n",
    "print (error_score_order_test)"
   ]
  },
  {
   "cell_type": "code",
   "execution_count": 19,
   "id": "7822a967",
   "metadata": {
    "_cell_guid": "56e4bf35-77fb-4fa0-a658-685e4acd98d3",
    "_uuid": "1814f140-944f-4c37-a220-f41c15767bea",
    "collapsed": false,
    "execution": {
     "iopub.execute_input": "2022-08-23T01:04:21.545997Z",
     "iopub.status.busy": "2022-08-23T01:04:21.545161Z",
     "iopub.status.idle": "2022-08-23T01:04:21.551854Z",
     "shell.execute_reply": "2022-08-23T01:04:21.550569Z"
    },
    "jupyter": {
     "outputs_hidden": false
    },
    "papermill": {
     "duration": 0.018013,
     "end_time": "2022-08-23T01:04:21.554303",
     "exception": false,
     "start_time": "2022-08-23T01:04:21.536290",
     "status": "completed"
    },
    "tags": []
   },
   "outputs": [
    {
     "name": "stdout",
     "output_type": "stream",
     "text": [
      "60.506939831085084\n",
      "9080250.723051326\n"
     ]
    }
   ],
   "source": [
    "from sklearn.metrics import mean_squared_error\n",
    "print(mean_squared_error(y_test, price_testing_data_pred))\n",
    "print(mean_squared_error(z_test, order_testing_data_pred))"
   ]
  },
  {
   "cell_type": "code",
   "execution_count": 20,
   "id": "ba5f32c9",
   "metadata": {
    "_cell_guid": "2051e45b-d2c4-4e18-9beb-977758589713",
    "_uuid": "34b6934e-5ca5-476e-9dde-ea091012163f",
    "collapsed": false,
    "execution": {
     "iopub.execute_input": "2022-08-23T01:04:21.572976Z",
     "iopub.status.busy": "2022-08-23T01:04:21.571959Z",
     "iopub.status.idle": "2022-08-23T01:04:21.714367Z",
     "shell.execute_reply": "2022-08-23T01:04:21.713485Z"
    },
    "jupyter": {
     "outputs_hidden": false
    },
    "papermill": {
     "duration": 0.154015,
     "end_time": "2022-08-23T01:04:21.716296",
     "exception": false,
     "start_time": "2022-08-23T01:04:21.562281",
     "status": "completed"
    },
    "tags": []
   },
   "outputs": [
    {
     "data": {
      "image/png": "[encoded data removed]",
      "text/plain": [
       "<Figure size 432x288 with 1 Axes>"
      ]
     },
     "metadata": {
      "needs_background": "light"
     },
     "output_type": "display_data"
    }
   ],
   "source": [
    "#visualize the actual prices and Predicted prices\n",
    "from matplotlib import pyplot as plt\n",
    "#plt.scatter(X_train,y_train, color = 'blue', label = 'Actual')\n",
    "plt.scatter(y_test,price_testing_data_pred)\n",
    "plt.xlabel(\"Actual Price\")\n",
    "plt.ylabel(\"Predicted Price\")\n",
    "plt.title(\"Actual Price Vs Predicted Price\")\n",
    "plt.legend()\n",
    "plt.grid(True)\n",
    "plt.show()"
   ]
  },
  {
   "cell_type": "code",
   "execution_count": 21,
   "id": "71280c6d",
   "metadata": {
    "_cell_guid": "b6d0b5b6-90df-4188-ba6d-9d6851d9f23a",
    "_uuid": "4226c4b4-2cfb-4158-862e-e57c88e6b6f5",
    "collapsed": false,
    "execution": {
     "iopub.execute_input": "2022-08-23T01:04:21.734915Z",
     "iopub.status.busy": "2022-08-23T01:04:21.734371Z",
     "iopub.status.idle": "2022-08-23T01:04:21.885532Z",
     "shell.execute_reply": "2022-08-23T01:04:21.884310Z"
    },
    "jupyter": {
     "outputs_hidden": false
    },
    "papermill": {
     "duration": 0.163173,
     "end_time": "2022-08-23T01:04:21.887813",
     "exception": false,
     "start_time": "2022-08-23T01:04:21.724640",
     "status": "completed"
    },
    "tags": []
   },
   "outputs": [
    {
     "data": {
      "image/png": "[encoded data removed]",
      "text/plain": [
       "<Figure size 432x288 with 1 Axes>"
      ]
     },
     "metadata": {
      "needs_background": "light"
     },
     "output_type": "display_data"
    }
   ],
   "source": [
    "plt.scatter(z_test,order_testing_data_pred)\n",
    "plt.xlabel(\"Actual Demand\")\n",
    "plt.ylabel(\"Predicted Demand\")\n",
    "plt.title(\"Actual Demand Vs Predicted Demand\")\n",
    "plt.legend()\n",
    "plt.grid(True)\n",
    "plt.show()"
   ]
  }
 ],
 "metadata": {
  "kernelspec": {
   "display_name": "Python 3",
   "language": "python",
   "name": "python3"
  },
  "language_info": {
   "codemirror_mode": {
    "name": "ipython",
    "version": 3
   },
   "file_extension": ".py",
   "mimetype": "text/x-python",
   "name": "python",
   "nbconvert_exporter": "python",
   "pygments_lexer": "ipython3",
   "version": "3.7.12"
  },
  "papermill": {
   "default_parameters": {},
   "duration": 13.882391,
   "end_time": "2022-08-23T01:04:22.716485",
   "environment_variables": {},
   "exception": null,
   "input_path": "__notebook__.ipynb",
   "output_path": "__notebook__.ipynb",
   "parameters": {},
   "start_time": "2022-08-23T01:04:08.834094",
   "version": "2.3.4"
  }
 },
 "nbformat": 4,
 "nbformat_minor": 5
}
